{
 "cells": [
  {
   "cell_type": "markdown",
   "id": "f0246bde-8b17-4240-8e32-e36091a78b6b",
   "metadata": {},
   "source": [
    "### SEIS 763-01: Homework 8\n",
    "#### Completed by: Jamie Boehme"
   ]
  },
  {
   "cell_type": "markdown",
   "id": "4109acc2-abb8-4c4f-bf9d-c7f4881dcabe",
   "metadata": {},
   "source": [
    "Import libraries needed for analysis."
   ]
  },
  {
   "cell_type": "code",
   "execution_count": 3,
   "id": "8ab2f681-9757-419a-bae7-81236313ce63",
   "metadata": {},
   "outputs": [],
   "source": [
    "import pandas as pd\n",
    "import numpy as np\n",
    "import matplotlib as mp\n",
    "import matplotlib.pyplot as plt \n",
    "from matplotlib.pyplot import figure\n",
    "import seaborn as sns\n",
    "from sklearn import preprocessing\n",
    "from sklearn.preprocessing import StandardScaler\n",
    "from sklearn.preprocessing import OneHotEncoder as SklearnOneHotEncoder\n",
    "from sklearn.model_selection import train_test_split\n",
    "from sklearn import linear_model\n",
    "from sklearn.metrics import mean_squared_error\n",
    "from sklearn.metrics import r2_score\n",
    "import statsmodels.api as sm\n",
    "from sklearn.linear_model import LogisticRegressionCV, LassoCV, LassoLarsCV, Lasso\n",
    "from sklearn.metrics import classification_report\n",
    "from sklearn.model_selection import KFold\n",
    "from sklearn import svm\n",
    "from sklearn.metrics import roc_curve, roc_auc_score, precision_recall_curve, confusion_matrix, auc, accuracy_score"
   ]
  },
  {
   "cell_type": "markdown",
   "id": "c2008ee9-9670-4d81-a2ca-d209d2ae83c7",
   "metadata": {},
   "source": [
    "Import cell DNA data from “ML_HW_Data_CellDNA.csv” file located on Github."
   ]
  },
  {
   "cell_type": "code",
   "execution_count": 4,
   "id": "162d9ffb-21de-4138-8917-173e4a4c9394",
   "metadata": {},
   "outputs": [
    {
     "data": {
      "text/html": [
       "<div>\n",
       "<style scoped>\n",
       "    .dataframe tbody tr th:only-of-type {\n",
       "        vertical-align: middle;\n",
       "    }\n",
       "\n",
       "    .dataframe tbody tr th {\n",
       "        vertical-align: top;\n",
       "    }\n",
       "\n",
       "    .dataframe thead th {\n",
       "        text-align: right;\n",
       "    }\n",
       "</style>\n",
       "<table border=\"1\" class=\"dataframe\">\n",
       "  <thead>\n",
       "    <tr style=\"text-align: right;\">\n",
       "      <th></th>\n",
       "      <th>V1</th>\n",
       "      <th>V2</th>\n",
       "      <th>V3</th>\n",
       "      <th>V4</th>\n",
       "      <th>V5</th>\n",
       "      <th>V6</th>\n",
       "      <th>V7</th>\n",
       "      <th>V8</th>\n",
       "      <th>V9</th>\n",
       "      <th>V10</th>\n",
       "      <th>V11</th>\n",
       "      <th>V12</th>\n",
       "      <th>V13</th>\n",
       "      <th>Target</th>\n",
       "    </tr>\n",
       "  </thead>\n",
       "  <tbody>\n",
       "    <tr>\n",
       "      <th>0</th>\n",
       "      <td>222</td>\n",
       "      <td>31.189189</td>\n",
       "      <td>40.342342</td>\n",
       "      <td>35.579087</td>\n",
       "      <td>8.883917</td>\n",
       "      <td>0.968325</td>\n",
       "      <td>-80.113673</td>\n",
       "      <td>222</td>\n",
       "      <td>1</td>\n",
       "      <td>16.812471</td>\n",
       "      <td>0.816176</td>\n",
       "      <td>0.578125</td>\n",
       "      <td>78.591</td>\n",
       "      <td>0</td>\n",
       "    </tr>\n",
       "    <tr>\n",
       "      <th>1</th>\n",
       "      <td>73</td>\n",
       "      <td>29.493151</td>\n",
       "      <td>271.397260</td>\n",
       "      <td>15.517202</td>\n",
       "      <td>6.407490</td>\n",
       "      <td>0.910764</td>\n",
       "      <td>76.042946</td>\n",
       "      <td>73</td>\n",
       "      <td>1</td>\n",
       "      <td>9.640876</td>\n",
       "      <td>0.858824</td>\n",
       "      <td>0.608333</td>\n",
       "      <td>39.217</td>\n",
       "      <td>0</td>\n",
       "    </tr>\n",
       "    <tr>\n",
       "      <th>2</th>\n",
       "      <td>256</td>\n",
       "      <td>58.816406</td>\n",
       "      <td>289.941406</td>\n",
       "      <td>37.226013</td>\n",
       "      <td>9.863895</td>\n",
       "      <td>0.964256</td>\n",
       "      <td>85.324742</td>\n",
       "      <td>256</td>\n",
       "      <td>1</td>\n",
       "      <td>18.054067</td>\n",
       "      <td>0.752941</td>\n",
       "      <td>0.562637</td>\n",
       "      <td>89.111</td>\n",
       "      <td>0</td>\n",
       "    </tr>\n",
       "    <tr>\n",
       "      <th>3</th>\n",
       "      <td>126</td>\n",
       "      <td>71.023810</td>\n",
       "      <td>477.412698</td>\n",
       "      <td>13.112980</td>\n",
       "      <td>12.790672</td>\n",
       "      <td>0.220351</td>\n",
       "      <td>63.523477</td>\n",
       "      <td>126</td>\n",
       "      <td>1</td>\n",
       "      <td>12.666025</td>\n",
       "      <td>0.881119</td>\n",
       "      <td>0.646154</td>\n",
       "      <td>43.832</td>\n",
       "      <td>0</td>\n",
       "    </tr>\n",
       "    <tr>\n",
       "      <th>4</th>\n",
       "      <td>225</td>\n",
       "      <td>90.808889</td>\n",
       "      <td>541.946667</td>\n",
       "      <td>44.463110</td>\n",
       "      <td>7.858879</td>\n",
       "      <td>0.984256</td>\n",
       "      <td>-52.874983</td>\n",
       "      <td>225</td>\n",
       "      <td>1</td>\n",
       "      <td>16.925688</td>\n",
       "      <td>0.728155</td>\n",
       "      <td>0.252525</td>\n",
       "      <td>90.072</td>\n",
       "      <td>7</td>\n",
       "    </tr>\n",
       "  </tbody>\n",
       "</table>\n",
       "</div>"
      ],
      "text/plain": [
       "    V1         V2          V3         V4         V5        V6         V7   V8  \\\n",
       "0  222  31.189189   40.342342  35.579087   8.883917  0.968325 -80.113673  222   \n",
       "1   73  29.493151  271.397260  15.517202   6.407490  0.910764  76.042946   73   \n",
       "2  256  58.816406  289.941406  37.226013   9.863895  0.964256  85.324742  256   \n",
       "3  126  71.023810  477.412698  13.112980  12.790672  0.220351  63.523477  126   \n",
       "4  225  90.808889  541.946667  44.463110   7.858879  0.984256 -52.874983  225   \n",
       "\n",
       "   V9        V10       V11       V12     V13  Target  \n",
       "0   1  16.812471  0.816176  0.578125  78.591       0  \n",
       "1   1   9.640876  0.858824  0.608333  39.217       0  \n",
       "2   1  18.054067  0.752941  0.562637  89.111       0  \n",
       "3   1  12.666025  0.881119  0.646154  43.832       0  \n",
       "4   1  16.925688  0.728155  0.252525  90.072       7  "
      ]
     },
     "execution_count": 4,
     "metadata": {},
     "output_type": "execute_result"
    }
   ],
   "source": [
    "file = 'https://raw.githubusercontent.com/jamieboehme/Machine-Learning/main/ML_HW_Data_CellDNA.csv'\n",
    "cell = pd.read_csv(file, header=None)\n",
    "cell.columns = ['V1','V2','V3','V4','V5','V6','V7','V8','V9','V10','V11','V12','V13','Target']\n",
    "cell.head()"
   ]
  },
  {
   "cell_type": "markdown",
   "id": "50befb0a-43a6-48ab-b3a8-9f74c7f0a60d",
   "metadata": {},
   "source": [
    "Do some exploratory analysis of the dataset including: reviewing number of columns and rows, data types, and overall shape of each column. Determine if there appear to be any obvious outliers. Check if there are any null values that will need to be taken care of prior to building a linear regression model."
   ]
  },
  {
   "cell_type": "code",
   "execution_count": 5,
   "id": "9a07c1fa-e092-4ce1-88b0-d5af987d970d",
   "metadata": {},
   "outputs": [
    {
     "data": {
      "text/plain": [
       "(1217, 14)"
      ]
     },
     "execution_count": 5,
     "metadata": {},
     "output_type": "execute_result"
    }
   ],
   "source": [
    "cell.shape"
   ]
  },
  {
   "cell_type": "code",
   "execution_count": 6,
   "id": "30ff967f-7274-4ec6-bbc5-faade0246b5b",
   "metadata": {},
   "outputs": [
    {
     "data": {
      "text/plain": [
       "Index(['V1', 'V2', 'V3', 'V4', 'V5', 'V6', 'V7', 'V8', 'V9', 'V10', 'V11',\n",
       "       'V12', 'V13', 'Target'],\n",
       "      dtype='object')"
      ]
     },
     "execution_count": 6,
     "metadata": {},
     "output_type": "execute_result"
    }
   ],
   "source": [
    "cell.columns"
   ]
  },
  {
   "cell_type": "code",
   "execution_count": 7,
   "id": "2495283d-20f6-4d08-a937-a318654df724",
   "metadata": {},
   "outputs": [
    {
     "data": {
      "text/plain": [
       "V1          int64\n",
       "V2        float64\n",
       "V3        float64\n",
       "V4        float64\n",
       "V5        float64\n",
       "V6        float64\n",
       "V7        float64\n",
       "V8          int64\n",
       "V9          int64\n",
       "V10       float64\n",
       "V11       float64\n",
       "V12       float64\n",
       "V13       float64\n",
       "Target      int64\n",
       "dtype: object"
      ]
     },
     "execution_count": 7,
     "metadata": {},
     "output_type": "execute_result"
    }
   ],
   "source": [
    "cell.dtypes"
   ]
  },
  {
   "cell_type": "code",
   "execution_count": 8,
   "id": "706558be-851d-4888-a51a-d4d4b14fbe84",
   "metadata": {},
   "outputs": [
    {
     "data": {
      "text/html": [
       "<div>\n",
       "<style scoped>\n",
       "    .dataframe tbody tr th:only-of-type {\n",
       "        vertical-align: middle;\n",
       "    }\n",
       "\n",
       "    .dataframe tbody tr th {\n",
       "        vertical-align: top;\n",
       "    }\n",
       "\n",
       "    .dataframe thead th {\n",
       "        text-align: right;\n",
       "    }\n",
       "</style>\n",
       "<table border=\"1\" class=\"dataframe\">\n",
       "  <thead>\n",
       "    <tr style=\"text-align: right;\">\n",
       "      <th></th>\n",
       "      <th>V1</th>\n",
       "      <th>V2</th>\n",
       "      <th>V3</th>\n",
       "      <th>V4</th>\n",
       "      <th>V5</th>\n",
       "      <th>V6</th>\n",
       "      <th>V7</th>\n",
       "      <th>V8</th>\n",
       "      <th>V9</th>\n",
       "      <th>V10</th>\n",
       "      <th>V11</th>\n",
       "      <th>V12</th>\n",
       "      <th>V13</th>\n",
       "      <th>Target</th>\n",
       "    </tr>\n",
       "  </thead>\n",
       "  <tbody>\n",
       "    <tr>\n",
       "      <th>count</th>\n",
       "      <td>1217.000000</td>\n",
       "      <td>1217.000000</td>\n",
       "      <td>1217.000000</td>\n",
       "      <td>1217.000000</td>\n",
       "      <td>1217.000000</td>\n",
       "      <td>1217.000000</td>\n",
       "      <td>1217.000000</td>\n",
       "      <td>1217.000000</td>\n",
       "      <td>1217.000000</td>\n",
       "      <td>1217.000000</td>\n",
       "      <td>1217.000000</td>\n",
       "      <td>1217.000000</td>\n",
       "      <td>1217.000000</td>\n",
       "      <td>1217.000000</td>\n",
       "    </tr>\n",
       "    <tr>\n",
       "      <th>mean</th>\n",
       "      <td>200.366475</td>\n",
       "      <td>419.476953</td>\n",
       "      <td>211.335155</td>\n",
       "      <td>33.388599</td>\n",
       "      <td>9.376939</td>\n",
       "      <td>0.908628</td>\n",
       "      <td>0.160337</td>\n",
       "      <td>202.640099</td>\n",
       "      <td>0.516845</td>\n",
       "      <td>15.288929</td>\n",
       "      <td>0.775538</td>\n",
       "      <td>0.474788</td>\n",
       "      <td>78.928198</td>\n",
       "      <td>0.903862</td>\n",
       "    </tr>\n",
       "    <tr>\n",
       "      <th>std</th>\n",
       "      <td>135.665649</td>\n",
       "      <td>215.563920</td>\n",
       "      <td>141.592818</td>\n",
       "      <td>19.152143</td>\n",
       "      <td>3.634969</td>\n",
       "      <td>0.110942</td>\n",
       "      <td>50.589440</td>\n",
       "      <td>142.585975</td>\n",
       "      <td>2.071880</td>\n",
       "      <td>4.623930</td>\n",
       "      <td>0.117802</td>\n",
       "      <td>0.158341</td>\n",
       "      <td>48.798548</td>\n",
       "      <td>2.348318</td>\n",
       "    </tr>\n",
       "    <tr>\n",
       "      <th>min</th>\n",
       "      <td>70.000000</td>\n",
       "      <td>28.176471</td>\n",
       "      <td>27.870130</td>\n",
       "      <td>10.282437</td>\n",
       "      <td>3.080963</td>\n",
       "      <td>0.218074</td>\n",
       "      <td>-89.531335</td>\n",
       "      <td>70.000000</td>\n",
       "      <td>-26.000000</td>\n",
       "      <td>9.440697</td>\n",
       "      <td>0.261049</td>\n",
       "      <td>0.114482</td>\n",
       "      <td>28.193000</td>\n",
       "      <td>0.000000</td>\n",
       "    </tr>\n",
       "    <tr>\n",
       "      <th>25%</th>\n",
       "      <td>107.000000</td>\n",
       "      <td>243.400000</td>\n",
       "      <td>96.200000</td>\n",
       "      <td>18.760441</td>\n",
       "      <td>7.529888</td>\n",
       "      <td>0.885337</td>\n",
       "      <td>-41.131405</td>\n",
       "      <td>108.000000</td>\n",
       "      <td>1.000000</td>\n",
       "      <td>11.672045</td>\n",
       "      <td>0.702186</td>\n",
       "      <td>0.353261</td>\n",
       "      <td>45.974000</td>\n",
       "      <td>0.000000</td>\n",
       "    </tr>\n",
       "    <tr>\n",
       "      <th>50%</th>\n",
       "      <td>160.000000</td>\n",
       "      <td>415.360000</td>\n",
       "      <td>183.834286</td>\n",
       "      <td>27.832476</td>\n",
       "      <td>8.463304</td>\n",
       "      <td>0.949998</td>\n",
       "      <td>-0.104479</td>\n",
       "      <td>161.000000</td>\n",
       "      <td>1.000000</td>\n",
       "      <td>14.272993</td>\n",
       "      <td>0.789474</td>\n",
       "      <td>0.474359</td>\n",
       "      <td>66.302000</td>\n",
       "      <td>0.000000</td>\n",
       "    </tr>\n",
       "    <tr>\n",
       "      <th>75%</th>\n",
       "      <td>252.000000</td>\n",
       "      <td>611.128440</td>\n",
       "      <td>292.824742</td>\n",
       "      <td>44.462419</td>\n",
       "      <td>9.801152</td>\n",
       "      <td>0.978903</td>\n",
       "      <td>41.010273</td>\n",
       "      <td>253.000000</td>\n",
       "      <td>1.000000</td>\n",
       "      <td>17.912464</td>\n",
       "      <td>0.866071</td>\n",
       "      <td>0.592593</td>\n",
       "      <td>97.928000</td>\n",
       "      <td>0.000000</td>\n",
       "    </tr>\n",
       "    <tr>\n",
       "      <th>max</th>\n",
       "      <td>1089.000000</td>\n",
       "      <td>773.919643</td>\n",
       "      <td>575.340206</td>\n",
       "      <td>155.330123</td>\n",
       "      <td>43.487111</td>\n",
       "      <td>0.998459</td>\n",
       "      <td>89.881120</td>\n",
       "      <td>1159.000000</td>\n",
       "      <td>1.000000</td>\n",
       "      <td>37.236513</td>\n",
       "      <td>1.000000</td>\n",
       "      <td>0.905882</td>\n",
       "      <td>493.749000</td>\n",
       "      <td>10.000000</td>\n",
       "    </tr>\n",
       "  </tbody>\n",
       "</table>\n",
       "</div>"
      ],
      "text/plain": [
       "                V1           V2           V3           V4           V5  \\\n",
       "count  1217.000000  1217.000000  1217.000000  1217.000000  1217.000000   \n",
       "mean    200.366475   419.476953   211.335155    33.388599     9.376939   \n",
       "std     135.665649   215.563920   141.592818    19.152143     3.634969   \n",
       "min      70.000000    28.176471    27.870130    10.282437     3.080963   \n",
       "25%     107.000000   243.400000    96.200000    18.760441     7.529888   \n",
       "50%     160.000000   415.360000   183.834286    27.832476     8.463304   \n",
       "75%     252.000000   611.128440   292.824742    44.462419     9.801152   \n",
       "max    1089.000000   773.919643   575.340206   155.330123    43.487111   \n",
       "\n",
       "                V6           V7           V8           V9          V10  \\\n",
       "count  1217.000000  1217.000000  1217.000000  1217.000000  1217.000000   \n",
       "mean      0.908628     0.160337   202.640099     0.516845    15.288929   \n",
       "std       0.110942    50.589440   142.585975     2.071880     4.623930   \n",
       "min       0.218074   -89.531335    70.000000   -26.000000     9.440697   \n",
       "25%       0.885337   -41.131405   108.000000     1.000000    11.672045   \n",
       "50%       0.949998    -0.104479   161.000000     1.000000    14.272993   \n",
       "75%       0.978903    41.010273   253.000000     1.000000    17.912464   \n",
       "max       0.998459    89.881120  1159.000000     1.000000    37.236513   \n",
       "\n",
       "               V11          V12          V13       Target  \n",
       "count  1217.000000  1217.000000  1217.000000  1217.000000  \n",
       "mean      0.775538     0.474788    78.928198     0.903862  \n",
       "std       0.117802     0.158341    48.798548     2.348318  \n",
       "min       0.261049     0.114482    28.193000     0.000000  \n",
       "25%       0.702186     0.353261    45.974000     0.000000  \n",
       "50%       0.789474     0.474359    66.302000     0.000000  \n",
       "75%       0.866071     0.592593    97.928000     0.000000  \n",
       "max       1.000000     0.905882   493.749000    10.000000  "
      ]
     },
     "execution_count": 8,
     "metadata": {},
     "output_type": "execute_result"
    }
   ],
   "source": [
    "cell.describe()"
   ]
  },
  {
   "cell_type": "code",
   "execution_count": 9,
   "id": "59dad18e-58e3-4630-ab3b-ddec712c6380",
   "metadata": {},
   "outputs": [
    {
     "data": {
      "text/plain": [
       "V1        0\n",
       "V2        0\n",
       "V3        0\n",
       "V4        0\n",
       "V5        0\n",
       "V6        0\n",
       "V7        0\n",
       "V8        0\n",
       "V9        0\n",
       "V10       0\n",
       "V11       0\n",
       "V12       0\n",
       "V13       0\n",
       "Target    0\n",
       "dtype: int64"
      ]
     },
     "execution_count": 9,
     "metadata": {},
     "output_type": "execute_result"
    }
   ],
   "source": [
    "cell.isnull().sum()"
   ]
  },
  {
   "cell_type": "code",
   "execution_count": 10,
   "id": "95a54928-2faa-4bbd-a43e-8ab858f15ae0",
   "metadata": {},
   "outputs": [
    {
     "data": {
      "image/png": "[encoded data removed]",
      "text/plain": [
       "<Figure size 1008x576 with 13 Axes>"
      ]
     },
     "metadata": {
      "needs_background": "light"
     },
     "output_type": "display_data"
    }
   ],
   "source": [
    "def graph_num(num_variable, dataframe):\n",
    "    sns.histplot(dataframe[num_variable])\n",
    "    \n",
    "num_columns = ['V1','V2','V3','V4','V5','V6','V7','V8','V9','V10','V11','V12','V13']\n",
    "plot_num = plt.figure(figsize=(14,8))\n",
    "plt.suptitle('Distribution of Numerical Variables')\n",
    "\n",
    "plotnum=1\n",
    "for num_var in num_columns:\n",
    "    plt.subplot(4,4,plotnum)\n",
    "    graph_num(num_var, cell)\n",
    "    plotnum +=1\n",
    "plt.show()"
   ]
  },
  {
   "cell_type": "markdown",
   "id": "7f655b05-813c-4425-9032-0b21ff496fcf",
   "metadata": {},
   "source": [
    "The above graphs show that we may have outliers in our data based upon a few distributions - however, without further domain knowledge we will ignore eliminating any data points at this time.\n",
    "\n",
    "Prep the target variable for modeling:\n",
    "- Seperate target variable from the cell dataframe\n",
    "- Convert the target variable back to a dataframe\n",
    "- Replace all values > 0 with a 1 for bivariate analysis"
   ]
  },
  {
   "cell_type": "code",
   "execution_count": 11,
   "id": "11399d51-2617-4c6b-9bbc-70d784550252",
   "metadata": {},
   "outputs": [],
   "source": [
    "target_split = cell.loc[:,'Target']\n",
    "target_split = pd.DataFrame(target_split)\n",
    "target_split.loc[target_split.Target > 0, 'Target'] = 1"
   ]
  },
  {
   "cell_type": "code",
   "execution_count": 12,
   "id": "780e4cf7-d36a-472c-acac-4ef7cd3a09b2",
   "metadata": {},
   "outputs": [
    {
     "data": {
      "text/html": [
       "<div>\n",
       "<style scoped>\n",
       "    .dataframe tbody tr th:only-of-type {\n",
       "        vertical-align: middle;\n",
       "    }\n",
       "\n",
       "    .dataframe tbody tr th {\n",
       "        vertical-align: top;\n",
       "    }\n",
       "\n",
       "    .dataframe thead th {\n",
       "        text-align: right;\n",
       "    }\n",
       "</style>\n",
       "<table border=\"1\" class=\"dataframe\">\n",
       "  <thead>\n",
       "    <tr style=\"text-align: right;\">\n",
       "      <th></th>\n",
       "      <th>Target</th>\n",
       "    </tr>\n",
       "  </thead>\n",
       "  <tbody>\n",
       "    <tr>\n",
       "      <th>count</th>\n",
       "      <td>1217.000000</td>\n",
       "    </tr>\n",
       "    <tr>\n",
       "      <th>mean</th>\n",
       "      <td>0.164339</td>\n",
       "    </tr>\n",
       "    <tr>\n",
       "      <th>std</th>\n",
       "      <td>0.370735</td>\n",
       "    </tr>\n",
       "    <tr>\n",
       "      <th>min</th>\n",
       "      <td>0.000000</td>\n",
       "    </tr>\n",
       "    <tr>\n",
       "      <th>25%</th>\n",
       "      <td>0.000000</td>\n",
       "    </tr>\n",
       "    <tr>\n",
       "      <th>50%</th>\n",
       "      <td>0.000000</td>\n",
       "    </tr>\n",
       "    <tr>\n",
       "      <th>75%</th>\n",
       "      <td>0.000000</td>\n",
       "    </tr>\n",
       "    <tr>\n",
       "      <th>max</th>\n",
       "      <td>1.000000</td>\n",
       "    </tr>\n",
       "  </tbody>\n",
       "</table>\n",
       "</div>"
      ],
      "text/plain": [
       "            Target\n",
       "count  1217.000000\n",
       "mean      0.164339\n",
       "std       0.370735\n",
       "min       0.000000\n",
       "25%       0.000000\n",
       "50%       0.000000\n",
       "75%       0.000000\n",
       "max       1.000000"
      ]
     },
     "execution_count": 12,
     "metadata": {},
     "output_type": "execute_result"
    }
   ],
   "source": [
    "target_split.describe()"
   ]
  },
  {
   "cell_type": "code",
   "execution_count": 13,
   "id": "a20d7637-be9e-44dc-a7ab-9dac6b9f042e",
   "metadata": {},
   "outputs": [],
   "source": [
    "y = target_split.values.ravel()"
   ]
  },
  {
   "cell_type": "markdown",
   "id": "91345247-904c-4fdd-ab33-431bf8dcc964",
   "metadata": {},
   "source": [
    "Standardize numeric variables for the purposes of modeling."
   ]
  },
  {
   "cell_type": "code",
   "execution_count": 14,
   "id": "25037f51-bb47-48b3-972c-b1b81cc33766",
   "metadata": {},
   "outputs": [],
   "source": [
    "cell_predictors = cell.iloc[:,0:13]"
   ]
  },
  {
   "cell_type": "code",
   "execution_count": 15,
   "id": "6329bc14-97e8-45d2-9da4-e6798a827cd3",
   "metadata": {},
   "outputs": [
    {
     "data": {
      "text/html": [
       "<div>\n",
       "<style scoped>\n",
       "    .dataframe tbody tr th:only-of-type {\n",
       "        vertical-align: middle;\n",
       "    }\n",
       "\n",
       "    .dataframe tbody tr th {\n",
       "        vertical-align: top;\n",
       "    }\n",
       "\n",
       "    .dataframe thead th {\n",
       "        text-align: right;\n",
       "    }\n",
       "</style>\n",
       "<table border=\"1\" class=\"dataframe\">\n",
       "  <thead>\n",
       "    <tr style=\"text-align: right;\">\n",
       "      <th></th>\n",
       "      <th>V1</th>\n",
       "      <th>V2</th>\n",
       "      <th>V3</th>\n",
       "      <th>V4</th>\n",
       "      <th>V5</th>\n",
       "      <th>V6</th>\n",
       "      <th>V7</th>\n",
       "      <th>V8</th>\n",
       "      <th>V9</th>\n",
       "      <th>V10</th>\n",
       "      <th>V11</th>\n",
       "      <th>V12</th>\n",
       "      <th>V13</th>\n",
       "    </tr>\n",
       "  </thead>\n",
       "  <tbody>\n",
       "    <tr>\n",
       "      <th>0</th>\n",
       "      <td>222</td>\n",
       "      <td>31.189189</td>\n",
       "      <td>40.342342</td>\n",
       "      <td>35.579087</td>\n",
       "      <td>8.883917</td>\n",
       "      <td>0.968325</td>\n",
       "      <td>-80.113673</td>\n",
       "      <td>222</td>\n",
       "      <td>1</td>\n",
       "      <td>16.812471</td>\n",
       "      <td>0.816176</td>\n",
       "      <td>0.578125</td>\n",
       "      <td>78.591</td>\n",
       "    </tr>\n",
       "    <tr>\n",
       "      <th>1</th>\n",
       "      <td>73</td>\n",
       "      <td>29.493151</td>\n",
       "      <td>271.397260</td>\n",
       "      <td>15.517202</td>\n",
       "      <td>6.407490</td>\n",
       "      <td>0.910764</td>\n",
       "      <td>76.042946</td>\n",
       "      <td>73</td>\n",
       "      <td>1</td>\n",
       "      <td>9.640876</td>\n",
       "      <td>0.858824</td>\n",
       "      <td>0.608333</td>\n",
       "      <td>39.217</td>\n",
       "    </tr>\n",
       "    <tr>\n",
       "      <th>2</th>\n",
       "      <td>256</td>\n",
       "      <td>58.816406</td>\n",
       "      <td>289.941406</td>\n",
       "      <td>37.226013</td>\n",
       "      <td>9.863895</td>\n",
       "      <td>0.964256</td>\n",
       "      <td>85.324742</td>\n",
       "      <td>256</td>\n",
       "      <td>1</td>\n",
       "      <td>18.054067</td>\n",
       "      <td>0.752941</td>\n",
       "      <td>0.562637</td>\n",
       "      <td>89.111</td>\n",
       "    </tr>\n",
       "    <tr>\n",
       "      <th>3</th>\n",
       "      <td>126</td>\n",
       "      <td>71.023810</td>\n",
       "      <td>477.412698</td>\n",
       "      <td>13.112980</td>\n",
       "      <td>12.790672</td>\n",
       "      <td>0.220351</td>\n",
       "      <td>63.523477</td>\n",
       "      <td>126</td>\n",
       "      <td>1</td>\n",
       "      <td>12.666025</td>\n",
       "      <td>0.881119</td>\n",
       "      <td>0.646154</td>\n",
       "      <td>43.832</td>\n",
       "    </tr>\n",
       "    <tr>\n",
       "      <th>4</th>\n",
       "      <td>225</td>\n",
       "      <td>90.808889</td>\n",
       "      <td>541.946667</td>\n",
       "      <td>44.463110</td>\n",
       "      <td>7.858879</td>\n",
       "      <td>0.984256</td>\n",
       "      <td>-52.874983</td>\n",
       "      <td>225</td>\n",
       "      <td>1</td>\n",
       "      <td>16.925688</td>\n",
       "      <td>0.728155</td>\n",
       "      <td>0.252525</td>\n",
       "      <td>90.072</td>\n",
       "    </tr>\n",
       "  </tbody>\n",
       "</table>\n",
       "</div>"
      ],
      "text/plain": [
       "    V1         V2          V3         V4         V5        V6         V7   V8  \\\n",
       "0  222  31.189189   40.342342  35.579087   8.883917  0.968325 -80.113673  222   \n",
       "1   73  29.493151  271.397260  15.517202   6.407490  0.910764  76.042946   73   \n",
       "2  256  58.816406  289.941406  37.226013   9.863895  0.964256  85.324742  256   \n",
       "3  126  71.023810  477.412698  13.112980  12.790672  0.220351  63.523477  126   \n",
       "4  225  90.808889  541.946667  44.463110   7.858879  0.984256 -52.874983  225   \n",
       "\n",
       "   V9        V10       V11       V12     V13  \n",
       "0   1  16.812471  0.816176  0.578125  78.591  \n",
       "1   1   9.640876  0.858824  0.608333  39.217  \n",
       "2   1  18.054067  0.752941  0.562637  89.111  \n",
       "3   1  12.666025  0.881119  0.646154  43.832  \n",
       "4   1  16.925688  0.728155  0.252525  90.072  "
      ]
     },
     "execution_count": 15,
     "metadata": {},
     "output_type": "execute_result"
    }
   ],
   "source": [
    "cell_predictors.head()"
   ]
  },
  {
   "cell_type": "code",
   "execution_count": 16,
   "id": "9dad8886-fc54-4627-9f92-7611c8d2fb13",
   "metadata": {
    "tags": []
   },
   "outputs": [
    {
     "name": "stdout",
     "output_type": "stream",
     "text": [
      "            0         1         2         3         4         5         6   \\\n",
      "0     0.159528 -1.802006 -1.208134  0.114420 -0.135689  0.538311 -1.587426   \n",
      "1    -0.939212 -1.809877  0.424363 -0.933511 -0.817247  0.019258  1.500586   \n",
      "2     0.410247 -1.673790  0.555385  0.200447  0.134019  0.501621  1.684134   \n",
      "3    -0.548385 -1.617137  1.879947 -1.059096  0.939523 -6.206504  1.253012   \n",
      "4     0.181650 -1.525316  2.335905  0.578476 -0.417798  0.681969 -1.048779   \n",
      "...        ...       ...       ...       ...       ...       ...       ...   \n",
      "1212  0.115283  1.480684  0.036132  0.252878  0.049329  0.537678  0.250896   \n",
      "1213  0.941181  1.528803 -1.156399  1.554010 -0.075675  0.729753  1.142193   \n",
      "1214 -0.762234  1.588181 -0.028590 -0.555628 -0.315562  0.213238 -0.491114   \n",
      "1215  0.166902  1.629782  0.170750  1.050082 -0.201979  0.705453  1.445251   \n",
      "1216 -0.835975  1.603325  0.383793 -1.040983 -0.235315 -1.213681  0.364560   \n",
      "\n",
      "            7         8         9         10        11        12  \n",
      "0     0.135833  0.233292  0.329626  0.345115  0.652891 -0.006913  \n",
      "1    -0.909580  0.233292 -1.221986  0.707287  0.843750 -0.814113  \n",
      "2     0.374384  0.233292  0.598252 -0.191898  0.555039  0.208756  \n",
      "3    -0.537722  0.233292 -0.567479  0.896626  1.082702 -0.719501  \n",
      "4     0.156881  0.233292  0.354121 -0.402387 -1.404271  0.228457  \n",
      "...        ...       ...       ...       ...       ...       ...  \n",
      "1212  0.093736  0.233292  0.280134 -1.142965 -0.491097  0.403063  \n",
      "1213  0.879550  0.233292  1.113556 -1.427815 -1.702917  1.076351  \n",
      "1214 -0.741192  0.233292 -0.903431 -1.563216 -0.567787 -0.235784  \n",
      "1215  0.142849  0.233292  0.337809 -1.851643 -1.402317  0.691448  \n",
      "1216 -0.811354  0.233292 -1.030740  1.532912  1.698309 -0.956020  \n",
      "\n",
      "[1217 rows x 13 columns] \n",
      "\n",
      "0     4.086934e-17\n",
      "1     7.006173e-17\n",
      "2    -8.757717e-17\n",
      "3     1.284465e-16\n",
      "4    -1.080118e-16\n",
      "5     1.495380e-15\n",
      "6     8.757717e-18\n",
      "7     5.838478e-17\n",
      "8    -6.422325e-17\n",
      "9     5.196245e-16\n",
      "10   -5.254630e-16\n",
      "11    1.167696e-17\n",
      "12   -5.838478e-17\n",
      "dtype: float64 0     1.000411\n",
      "1     1.000411\n",
      "2     1.000411\n",
      "3     1.000411\n",
      "4     1.000411\n",
      "5     1.000411\n",
      "6     1.000411\n",
      "7     1.000411\n",
      "8     1.000411\n",
      "9     1.000411\n",
      "10    1.000411\n",
      "11    1.000411\n",
      "12    1.000411\n",
      "dtype: float64\n"
     ]
    }
   ],
   "source": [
    "ZX= preprocessing.scale(cell_predictors)\n",
    "X = pd.DataFrame(ZX)\n",
    "print(X, '\\n')\n",
    "print(X.mean(axis=0), \n",
    "X.std(axis=0))"
   ]
  },
  {
   "cell_type": "markdown",
   "id": "05afdea0-80b8-487f-bba8-0b27da01f683",
   "metadata": {},
   "source": [
    "**1. Experiment your SVM RBF model with different “box constraints” and “kernel\n",
    "scales”**\n",
    "\n",
    "**2. What is the accuracy, Precision, and Recall for each class prediction under each\n",
    "of your above experiments?**"
   ]
  },
  {
   "cell_type": "code",
   "execution_count": 26,
   "id": "6ba29dca-3c18-4974-834d-936d691d7e8b",
   "metadata": {},
   "outputs": [
    {
     "name": "stdout",
     "output_type": "stream",
     "text": [
      "SVC(C=1, probability=True) :  0.9276910435497124\n",
      "              precision    recall  f1-score   support\n",
      "\n",
      "           0       0.94      0.97      0.96      1017\n",
      "           1       0.83      0.71      0.76       200\n",
      "\n",
      "    accuracy                           0.93      1217\n",
      "   macro avg       0.89      0.84      0.86      1217\n",
      "weighted avg       0.92      0.93      0.93      1217\n",
      "\n",
      "SVC(C=1, kernel='linear', probability=True) :  0.9178307313064914\n",
      "              precision    recall  f1-score   support\n",
      "\n",
      "           0       0.94      0.96      0.95      1017\n",
      "           1       0.77      0.71      0.74       200\n",
      "\n",
      "    accuracy                           0.92      1217\n",
      "   macro avg       0.86      0.83      0.85      1217\n",
      "weighted avg       0.92      0.92      0.92      1217\n",
      "\n",
      "SVC(C=1, kernel='poly', probability=True) :  0.9087921117502055\n",
      "              precision    recall  f1-score   support\n",
      "\n",
      "           0       0.91      0.99      0.95      1017\n",
      "           1       0.88      0.52      0.65       200\n",
      "\n",
      "    accuracy                           0.91      1217\n",
      "   macro avg       0.90      0.75      0.80      1217\n",
      "weighted avg       0.91      0.91      0.90      1217\n",
      "\n",
      "SVC(C=10, probability=True) :  0.9457682826622843\n",
      "              precision    recall  f1-score   support\n",
      "\n",
      "           0       0.96      0.98      0.97      1017\n",
      "           1       0.86      0.80      0.83       200\n",
      "\n",
      "    accuracy                           0.95      1217\n",
      "   macro avg       0.91      0.89      0.90      1217\n",
      "weighted avg       0.94      0.95      0.94      1217\n",
      "\n",
      "SVC(C=10, kernel='linear', probability=True) :  0.924404272801972\n",
      "              precision    recall  f1-score   support\n",
      "\n",
      "           0       0.95      0.96      0.95      1017\n",
      "           1       0.78      0.74      0.76       200\n",
      "\n",
      "    accuracy                           0.92      1217\n",
      "   macro avg       0.87      0.85      0.86      1217\n",
      "weighted avg       0.92      0.92      0.92      1217\n",
      "\n",
      "SVC(C=10, kernel='poly', probability=True) :  0.9359079704190633\n",
      "              precision    recall  f1-score   support\n",
      "\n",
      "           0       0.94      0.99      0.96      1017\n",
      "           1       0.91      0.68      0.78       200\n",
      "\n",
      "    accuracy                           0.94      1217\n",
      "   macro avg       0.93      0.83      0.87      1217\n",
      "weighted avg       0.93      0.94      0.93      1217\n",
      "\n",
      "SVC(C=100, probability=True) :  0.9654889071487264\n",
      "              precision    recall  f1-score   support\n",
      "\n",
      "           0       0.98      0.98      0.98      1017\n",
      "           1       0.91      0.88      0.89       200\n",
      "\n",
      "    accuracy                           0.97      1217\n",
      "   macro avg       0.94      0.93      0.94      1217\n",
      "weighted avg       0.97      0.97      0.97      1217\n",
      "\n",
      "SVC(C=100, kernel='linear', probability=True) :  0.924404272801972\n",
      "              precision    recall  f1-score   support\n",
      "\n",
      "           0       0.95      0.96      0.95      1017\n",
      "           1       0.78      0.75      0.77       200\n",
      "\n",
      "    accuracy                           0.92      1217\n",
      "   macro avg       0.87      0.85      0.86      1217\n",
      "weighted avg       0.92      0.92      0.92      1217\n",
      "\n",
      "SVC(C=100, kernel='poly', probability=True) :  0.9498767460969597\n",
      "              precision    recall  f1-score   support\n",
      "\n",
      "           0       0.96      0.98      0.97      1017\n",
      "           1       0.90      0.79      0.84       200\n",
      "\n",
      "    accuracy                           0.95      1217\n",
      "   macro avg       0.93      0.88      0.90      1217\n",
      "weighted avg       0.95      0.95      0.95      1217\n",
      "\n",
      "SVC(C=1000, probability=True) :  0.9909613804437141\n",
      "              precision    recall  f1-score   support\n",
      "\n",
      "           0       1.00      0.99      0.99      1017\n",
      "           1       0.97      0.97      0.97       200\n",
      "\n",
      "    accuracy                           0.99      1217\n",
      "   macro avg       0.98      0.98      0.98      1217\n",
      "weighted avg       0.99      0.99      0.99      1217\n",
      "\n",
      "SVC(C=1000, kernel='linear', probability=True) :  0.924404272801972\n",
      "              precision    recall  f1-score   support\n",
      "\n",
      "           0       0.95      0.96      0.95      1017\n",
      "           1       0.78      0.74      0.76       200\n",
      "\n",
      "    accuracy                           0.92      1217\n",
      "   macro avg       0.87      0.85      0.86      1217\n",
      "weighted avg       0.92      0.92      0.92      1217\n",
      "\n",
      "SVC(C=1000, kernel='poly', probability=True) :  0.9663105998356615\n",
      "              precision    recall  f1-score   support\n",
      "\n",
      "           0       0.97      0.99      0.98      1017\n",
      "           1       0.93      0.86      0.89       200\n",
      "\n",
      "    accuracy                           0.97      1217\n",
      "   macro avg       0.95      0.92      0.94      1217\n",
      "weighted avg       0.97      0.97      0.97      1217\n",
      "\n"
     ]
    }
   ],
   "source": [
    "kernel_list=['rbf', 'linear','poly']\n",
    "box_constraint = [1,10,100,1000]\n",
    "\n",
    "for c in box_constraint:\n",
    "    for k in kernel_list:\n",
    "        clf_k_c = svm.SVC(kernel=k, C=c, probability=True)\n",
    "        clf_k_c.fit(X,y)\n",
    "        clf_k_c_score = clf_k_c.score(X,y)\n",
    "        print(clf_k_c, ': ', clf_k_c_score)\n",
    "        y_pred = clf_k_c.predict(X)\n",
    "        scores_k_c =classification_report(y,y_pred)\n",
    "        print(scores_k_c)"
   ]
  },
  {
   "cell_type": "markdown",
   "id": "603e5c8f-17f4-45c4-ae05-6d402d7855f7",
   "metadata": {},
   "source": [
    "**3. Is there any trend that you observed in your experiments?**\n",
    "\n",
    "I observed that the rbf kernel seems to produce the best results with precision, recall, and f1-scores consistently better across each classification, followed by poly and then linear kernel scales is most cases. \n",
    "\n",
    "I also observed that as expected, as the box-constraint (C) grows, the models get better - thoguh"
   ]
  },
  {
   "cell_type": "markdown",
   "id": "d2f8fd19-913c-416a-81a6-08f4510d8177",
   "metadata": {},
   "source": [
    "**1. How many support vectors did you find?**"
   ]
  },
  {
   "cell_type": "code",
   "execution_count": 17,
   "id": "6f812e80-6904-47c2-8642-d4a1d08bbd46",
   "metadata": {},
   "outputs": [
    {
     "name": "stdout",
     "output_type": "stream",
     "text": [
      "Number of support vectors found: 223\n",
      "\n",
      "Number of support vectors per class: [113 110] \n",
      "\n",
      "Indices of support vectors:\n",
      "\n",
      "[  13   22   28   52   72   73   76   77   86   97  101  166  188  261\n",
      "  271  274  277  291  305  309  312  313  325  335  342  363  405  485\n",
      "  511  517  527  528  532  533  545  562  563  564  575  576  580  586\n",
      "  601  606  608  609  611  729  743  744  773  818  860  861  872  885\n",
      "  909  964  972  976 1011 1024 1027 1028 1029 1032 1033 1040 1044 1049\n",
      " 1051 1063 1064 1066 1070 1072 1074 1077 1081 1083 1085 1090 1093 1097\n",
      " 1102 1106 1108 1112 1113 1114 1117 1124 1125 1126 1128 1130 1132 1133\n",
      " 1134 1136 1138 1141 1142 1143 1144 1157 1173 1179 1187 1188 1203 1207\n",
      " 1215    4   15   17   35   43   74   98  119  123  144  163  167  183\n",
      "  203  214  219  220  221  225  226  228  234  245  250  251  252  256\n",
      "  257  259  266  289  297  321  326  328  329  333  338  339  341  417\n",
      "  433  437  438  439  441  457  462  465  487  489  490  491  495  498\n",
      "  519  521  525  550  554  578  583  585  596  597  610  617  623  624\n",
      "  632  657  673  702  708  723  725  735  780  784  790  791  797  799\n",
      "  815  826  833  834  836  849  875  884  888  902  914  923  929  933\n",
      "  936  939  943  944  946  948  955  965  978  985  991  996 1199] \n",
      "\n"
     ]
    }
   ],
   "source": [
    "print(\"Number of support vectors found: 223\\n\")\n",
    "print(\"Number of support vectors per class:\",clf.n_support_,\"\\n\")  \n",
    "\n",
    "print(\"Indices of support vectors:\\n\")\n",
    "print(clf.support_,\"\\n\")         "
   ]
  },
  {
   "cell_type": "code",
   "execution_count": 18,
   "id": "28403d03-eef9-40ca-acdb-44d7f4dee27b",
   "metadata": {},
   "outputs": [
    {
     "name": "stdout",
     "output_type": "stream",
     "text": [
      "[[-2.70697762 -0.01285645 -0.07220435  2.62935022 -2.46028701 -0.8333953\n",
      "  -0.1925175   1.9395231   0.44159776  0.50224639  0.05799626  0.11239126\n",
      "   0.17183158]] \n",
      "\n"
     ]
    }
   ],
   "source": [
    "# coefficients in ”primary” form\n",
    "print(clf.coef_,\"\\n\")  "
   ]
  },
  {
   "cell_type": "markdown",
   "id": "6ca177e9-564a-491e-9ea2-845df0e23745",
   "metadata": {},
   "source": [
    "**2. List top 3 records that have the smallest absolute values from wT • X + b calculation.**"
   ]
  },
  {
   "cell_type": "code",
   "execution_count": 19,
   "id": "d27fc245-c4c6-42bf-b946-42b26f5be92b",
   "metadata": {},
   "outputs": [
    {
     "name": "stdout",
     "output_type": "stream",
     "text": [
      "{'distance': [0.0074963725641508105, 0.001824238143785628, 0.0072576491774158924], 'index': [545, 491, 521]}\n",
      "\n",
      "The top 3 records with the smallest absolute values from wT • X + b calculation are: 491, 521, and 545\n"
     ]
    }
   ],
   "source": [
    "svm_distance ={\"distance\":[], \"index\":[]}\n",
    "\n",
    "for i in clf.support_:\n",
    "    if (abs(clf.decision_function(X)[i])) < .01:\n",
    "        svm_distance[\"distance\"].append(abs(clf.decision_function(X)[i]))\n",
    "        svm_distance[\"index\"].append(i)\n",
    "    \n",
    "print(svm_distance)\n",
    "print(\"\\nThe top 3 records with the smallest absolute values from wT • X + b calculation are: 491, 521, and 545\")"
   ]
  },
  {
   "cell_type": "code",
   "execution_count": 20,
   "id": "14da11be-9fbb-40ef-8ff5-18b07efd174d",
   "metadata": {},
   "outputs": [
    {
     "data": {
      "text/plain": [
       "array([ 521,  545,  491, ..., 1214,    2, 1216])"
      ]
     },
     "execution_count": 20,
     "metadata": {},
     "output_type": "execute_result"
    }
   ],
   "source": [
    "np.argpartition(abs(clf.decision_function(X)), 3)"
   ]
  },
  {
   "cell_type": "markdown",
   "id": "ea34f4dc-3238-48f9-aa6c-54794e8f5f2e",
   "metadata": {},
   "source": [
    "**3. What are the “wT • X + b” values for the following records: 131, 165, 892, 1057?\n",
    "Anything special about those values of these few records? Also, what are the\n",
    "probabilities of belonging to the class 1 (i.e. the 2nd class) for those records?**"
   ]
  },
  {
   "cell_type": "code",
   "execution_count": 21,
   "id": "218659aa-0d72-407f-b69e-1857ca4b0f3a",
   "metadata": {},
   "outputs": [
    {
     "name": "stdout",
     "output_type": "stream",
     "text": [
      "The wT • X + b values for each record is below. They all seem to show significant distance from the boundary line, are not support vectors, and are closer to the \n",
      "class 1 boundary line than the class 0.\n",
      "\n",
      "For record 131: \n",
      " -4.14652105595859 \n",
      "\n",
      "For record 165: \n",
      " -3.5031524256145756 \n",
      "\n",
      "For record 892: \n",
      " -11.788060910002446 \n",
      "\n",
      "For record 1057: \n",
      " -11.335213969755774 \n",
      "\n"
     ]
    }
   ],
   "source": [
    "# get wtx of predictions\n",
    "print(\"The wT • X + b values for each record is below. They all seem to show significant distance from the boundary line, are not support vectors, and are closer to the \\nclass 1 boundary line than the class 0.\\n\")\n",
    "print(\"For record 131: \\n\", clf.decision_function(X)[131], \"\\n\")\n",
    "print(\"For record 165: \\n\", clf.decision_function(X)[165], \"\\n\")\n",
    "print(\"For record 892: \\n\", clf.decision_function(X)[892], \"\\n\")\n",
    "print(\"For record 1057: \\n\", clf.decision_function(X)[1057], \"\\n\")"
   ]
  },
  {
   "cell_type": "code",
   "execution_count": 22,
   "id": "2bc0a6cf-edb3-482a-9f40-fab5240982b4",
   "metadata": {},
   "outputs": [
    {
     "name": "stdout",
     "output_type": "stream",
     "text": [
      "The probabilities belonging to class for each of the following records are: \n",
      "\n",
      "For record 131: \n",
      " [0.99686315 0.00313685] , or near 0% chance this record belongs to class 1 \n",
      "\n",
      "For record 165: \n",
      " [0.99258797 0.00741203] , or near 0% chance this record belongs to class 1 \n",
      "\n",
      "For record 892: \n",
      " [9.99999885e-01 1.14774932e-07] , or near 0% chance this record belongs to class 1 \n",
      "\n",
      "For record 1057: \n",
      " [9.99999790e-01 2.10266176e-07] , or near 0% chance this record belongs to class 1 \n",
      "\n"
     ]
    }
   ],
   "source": [
    "print(\"The probabilities belonging to class for each of the following records are: \\n\")\n",
    "print(\"For record 131: \\n\",clf.predict_proba(X)[131], \", or near 0% chance this record belongs to class 1 \\n\")\n",
    "print(\"For record 165: \\n\",clf.predict_proba(X)[165], \", or near 0% chance this record belongs to class 1 \\n\")\n",
    "print(\"For record 892: \\n\",clf.predict_proba(X)[892], \", or near 0% chance this record belongs to class 1 \\n\")\n",
    "print(\"For record 1057: \\n\",clf.predict_proba(X)[1057], \", or near 0% chance this record belongs to class 1 \\n\")"
   ]
  },
  {
   "cell_type": "markdown",
   "id": "b516e46b-46de-4f28-87e2-e8b1d18ba44e",
   "metadata": {},
   "source": [
    "**4. What is the precision, recall, F-measure of EACH of the two classes.**"
   ]
  },
  {
   "cell_type": "code",
   "execution_count": 23,
   "id": "3e8bad55-b100-4c09-a307-8a0610b361ad",
   "metadata": {},
   "outputs": [
    {
     "name": "stdout",
     "output_type": "stream",
     "text": [
      "              precision    recall  f1-score   support\n",
      "\n",
      "           0       0.95      0.96      0.95      1017\n",
      "           1       0.78      0.74      0.76       200\n",
      "\n",
      "    accuracy                           0.92      1217\n",
      "   macro avg       0.87      0.85      0.86      1217\n",
      "weighted avg       0.92      0.92      0.92      1217\n",
      "\n"
     ]
    }
   ],
   "source": [
    "y_pred = clf.predict(X)\n",
    "scores=classification_report(y,y_pred)\n",
    "print(scores)"
   ]
  },
  {
   "cell_type": "markdown",
   "id": "81cc23a6-73c2-44c8-a26c-06e3c2245035",
   "metadata": {},
   "source": [
    "**5. Create a ROC Curve for EACH of the two classes.**"
   ]
  },
  {
   "cell_type": "code",
   "execution_count": 24,
   "id": "af869c64-a52d-45a5-815b-a9b262a7dc18",
   "metadata": {},
   "outputs": [
    {
     "name": "stdout",
     "output_type": "stream",
     "text": [
      "roc_auc_0:  0.03195673549655851\n",
      "roc_auc_1:  0.9680432645034415 \n",
      "\n"
     ]
    },
    {
     "data": {
      "image/png": "[encoded data removed]",
      "text/plain": [
       "<Figure size 432x288 with 1 Axes>"
      ]
     },
     "metadata": {
      "needs_background": "light"
     },
     "output_type": "display_data"
    }
   ],
   "source": [
    "# probability\n",
    "yhat= clf.predict_proba(X)\n",
    "\n",
    "# class 0\n",
    "fpr_0, tpr_0, _ = roc_curve(y, yhat[:, 0], pos_label=0)\n",
    "roc_auc_0 = roc_auc_score(y, yhat[:, 0])\n",
    "\n",
    "# class 1\n",
    "fpr_1, tpr_1, _ = roc_curve(y, yhat[:, 1], pos_label=1)\n",
    "roc_auc_1 = roc_auc_score(y, yhat[:, 1])\n",
    "\n",
    "# plot ROC curves\n",
    "print('roc_auc_0: ', roc_auc_0)\n",
    "print('roc_auc_1: ', roc_auc_1, '\\n')\n",
    "\n",
    "plt.plot(fpr_0, tpr_0, marker='.', label='Class 0', color='b')\n",
    "plt.plot(fpr_1, tpr_1, marker='.', label='Class 1', color='r')\n",
    "plt.xlabel('False Positive Rate')\n",
    "plt.ylabel('True Positive Rate')\n",
    "plt.legend()\n",
    "plt.show()"
   ]
  },
  {
   "cell_type": "code",
   "execution_count": null,
   "id": "cedc775b-4803-48be-8679-3d27871d7532",
   "metadata": {},
   "outputs": [],
   "source": []
  }
 ],
 "metadata": {
  "kernelspec": {
   "display_name": "Python 3 (ipykernel)",
   "language": "python",
   "name": "python3"
  },
  "language_info": {
   "codemirror_mode": {
    "name": "ipython",
    "version": 3
   },
   "file_extension": ".py",
   "mimetype": "text/x-python",
   "name": "python",
   "nbconvert_exporter": "python",
   "pygments_lexer": "ipython3",
   "version": "3.8.12"
  }
 },
 "nbformat": 4,
 "nbformat_minor": 5
}
