{
 "cells": [
  {
   "cell_type": "markdown",
   "id": "f0246bde-8b17-4240-8e32-e36091a78b6b",
   "metadata": {},
   "source": [
    "#### SEIS 763-01: Homework 1\n",
    "##### Completed by: Jamie Boehme"
   ]
  },
  {
   "cell_type": "markdown",
   "id": "c2008ee9-9670-4d81-a2ca-d209d2ae83c7",
   "metadata": {},
   "source": [
    "1. Read in the CSV file “ML_HW_Data_FisherIris.csv” into a matrix named as\n",
    "“Iris”. Please do NOT output the whole matrix in our answer."
   ]
  },
  {
   "cell_type": "code",
   "execution_count": 1,
   "id": "162d9ffb-21de-4138-8917-173e4a4c9394",
   "metadata": {},
   "outputs": [
    {
     "name": "stdout",
     "output_type": "stream",
     "text": [
      "Below is a partial printout of the Iris matrix\n",
      "[[ 2 14 33 50  0]\n",
      " [24 56 31 67  1]\n",
      " [23 51 31 69  1]\n",
      " [ 2 10 36 46  0]\n",
      " [20 52 30 65  1]\n",
      " [19 51 27 58  1]\n",
      " [13 45 28 57  2]\n",
      " [16 47 33 63  2]\n",
      " [17 45 25 49  1]\n",
      " [14 47 32 70  2]]\n"
     ]
    }
   ],
   "source": [
    "import pandas as pd\n",
    "import numpy as np\n",
    "\n",
    "\n",
    "file = 'https://raw.githubusercontent.com/jamieboehme/Machine-Learning/main/ML_HW_Data_FisherIris.csv'\n",
    "df = pd.read_csv(file, header= None)\n",
    "Iris = df.to_numpy()\n",
    "print('Below is a partial printout of the Iris matrix')\n",
    "print(Iris[0:10])"
   ]
  },
  {
   "cell_type": "markdown",
   "id": "e3e4e14d-5327-4fa2-926e-aee976a7bd01",
   "metadata": {},
   "source": [
    "2. Display total number of rows and total number of columns of the matrix “Iris”."
   ]
  },
  {
   "cell_type": "code",
   "execution_count": 2,
   "id": "393ad2f7-fe79-45e2-babd-161ceda280e7",
   "metadata": {},
   "outputs": [
    {
     "name": "stdout",
     "output_type": "stream",
     "text": [
      "The total number of rows and columns in matrix Iris respectively are:\n"
     ]
    },
    {
     "data": {
      "text/plain": [
       "(150, 5)"
      ]
     },
     "execution_count": 2,
     "metadata": {},
     "output_type": "execute_result"
    }
   ],
   "source": [
    "print('The total number of rows and columns in matrix Iris respectively are:')\n",
    "Iris.shape"
   ]
  },
  {
   "cell_type": "markdown",
   "id": "35c99bb8-d3fa-4367-8234-828602d42e90",
   "metadata": {},
   "source": [
    "3. Display all the row numbers (i.e. record numbers) that have the 5th column less\n",
    "than 0."
   ]
  },
  {
   "cell_type": "code",
   "execution_count": 3,
   "id": "5c928299-af0b-4e8a-ba15-fbf040c76a9c",
   "metadata": {},
   "outputs": [
    {
     "data": {
      "text/plain": [
       "(array([ 10,  23,  58,  89, 108, 136]),)"
      ]
     },
     "execution_count": 3,
     "metadata": {},
     "output_type": "execute_result"
    }
   ],
   "source": [
    "np.where(np.any(Iris[:,4:]<0, axis=1))"
   ]
  },
  {
   "cell_type": "markdown",
   "id": "d037562d-c337-4802-a481-c53ea9daddb6",
   "metadata": {},
   "source": [
    "4. Remove the rows with the 5th column less than 0 from the “Iris” matrix. Please do\n",
    "NOT output the whole resulting matrix in our answer."
   ]
  },
  {
   "cell_type": "code",
   "execution_count": 4,
   "id": "582ee289-50cb-4a13-8e33-d68397469297",
   "metadata": {},
   "outputs": [],
   "source": [
    "Iris = np.delete(Iris,(10,23,58,89,108,136),0)"
   ]
  },
  {
   "cell_type": "markdown",
   "id": "1308c91f-1375-4df7-9fe6-343123eea9f3",
   "metadata": {},
   "source": [
    "5. Display total number of rows and total number of columns of the “Iris” matrix\n",
    "again."
   ]
  },
  {
   "cell_type": "code",
   "execution_count": 5,
   "id": "cb8c4a9f-8ebc-46c8-b065-c875b2ff2f05",
   "metadata": {},
   "outputs": [
    {
     "name": "stdout",
     "output_type": "stream",
     "text": [
      "The total number of rows and columns in matrix Iris after deletion of records in the fifth column that have values less than 0, respectively are:\n"
     ]
    },
    {
     "data": {
      "text/plain": [
       "(144, 5)"
      ]
     },
     "execution_count": 5,
     "metadata": {},
     "output_type": "execute_result"
    }
   ],
   "source": [
    "print('The total number of rows and columns in matrix Iris after deletion of records in the fifth column that have values less than 0, respectively are:')\n",
    "Iris.shape"
   ]
  },
  {
   "cell_type": "markdown",
   "id": "d6d463c5-a5e7-4df5-afe5-e02b76085cad",
   "metadata": {},
   "source": [
    "6. Copy the first 4 columns in the new “Iris” matrix into a new matrix “X”. Please\n",
    "do NOT output the whole resulting matrix in our answer."
   ]
  },
  {
   "cell_type": "code",
   "execution_count": 6,
   "id": "fdbf34fa-7161-42f5-9014-e7b07945cfe2",
   "metadata": {},
   "outputs": [
    {
     "name": "stdout",
     "output_type": "stream",
     "text": [
      "Below is a partial print out of variable X:\n",
      "[[ 2 14 33 50]\n",
      " [24 56 31 67]\n",
      " [23 51 31 69]\n",
      " [ 2 10 36 46]\n",
      " [20 52 30 65]\n",
      " [19 51 27 58]\n",
      " [13 45 28 57]\n",
      " [16 47 33 63]\n",
      " [17 45 25 49]\n",
      " [14 47 32 70]]\n"
     ]
    }
   ],
   "source": [
    "X = np.array(Iris[:,0:4])\n",
    "print('Below is a partial print out of variable X:')\n",
    "print(X[0:10])"
   ]
  },
  {
   "cell_type": "markdown",
   "id": "498c091f-ce82-4c37-8f7e-38955dfe885b",
   "metadata": {},
   "source": [
    "7. Copy the 5th columns in the new “Iris” matrix into a new variable (or matrix) “Y”.\n",
    "Please do NOT output the whole resulting matrix in our answer."
   ]
  },
  {
   "cell_type": "code",
   "execution_count": 7,
   "id": "317fc3f3-3fa7-41e1-8469-8c3ba44beba8",
   "metadata": {},
   "outputs": [
    {
     "name": "stdout",
     "output_type": "stream",
     "text": [
      "Below is a partial print out of variable Y:\n",
      "[[0]\n",
      " [1]\n",
      " [1]\n",
      " [0]\n",
      " [1]\n",
      " [1]\n",
      " [2]\n",
      " [2]\n",
      " [1]\n",
      " [2]]\n"
     ]
    }
   ],
   "source": [
    "Y = np.array(Iris[:,4:])\n",
    "print('Below is a partial print out of variable Y:')\n",
    "print(Y[0:10])"
   ]
  },
  {
   "cell_type": "markdown",
   "id": "513c3280-65d4-498f-ba65-cb01f2e0dff0",
   "metadata": {},
   "source": [
    "8. Display the maximum value and the minimum value of EACH column in “X”."
   ]
  },
  {
   "cell_type": "code",
   "execution_count": 8,
   "id": "56590d7c-c08b-4612-834c-b66e04a56607",
   "metadata": {},
   "outputs": [
    {
     "name": "stdout",
     "output_type": "stream",
     "text": [
      "The maximum values in column X respectively are: [25 69 44 79]\n",
      "The minimum values in column X respectively are: [ 1 10 20 43]\n"
     ]
    }
   ],
   "source": [
    "max_values = X.max(axis=0)\n",
    "min_values = X.min(axis=0)\n",
    "print('The maximum values in column X respectively are:', max_values)\n",
    "print('The minimum values in column X respectively are:', min_values)"
   ]
  },
  {
   "cell_type": "markdown",
   "id": "faa81682-c501-41f4-b5ca-cc38a12b9914",
   "metadata": {},
   "source": [
    "9. Display total number of elements (i.e. items) in the third column of the matrix\n",
    "“X” that are greater than 36."
   ]
  },
  {
   "cell_type": "code",
   "execution_count": 9,
   "id": "16cd5ecb-3729-49c8-bfd3-8617a6223c77",
   "metadata": {},
   "outputs": [
    {
     "name": "stdout",
     "output_type": "stream",
     "text": [
      "There are 15 total elements in the third column of the matrix \"X\" that have a value greater than 36\n"
     ]
    }
   ],
   "source": [
    "cond_X = np.where(np.any(X[:,2:3]>36, axis=1))\n",
    "elements = np.asarray(cond_X).size\n",
    "print('There are',elements, 'total elements in the third column of the matrix \"X\" that have a value greater than 36')"
   ]
  }
 ],
 "metadata": {
  "kernelspec": {
   "display_name": "Python 3 (ipykernel)",
   "language": "python",
   "name": "python3"
  },
  "language_info": {
   "codemirror_mode": {
    "name": "ipython",
    "version": 3
   },
   "file_extension": ".py",
   "mimetype": "text/x-python",
   "name": "python",
   "nbconvert_exporter": "python",
   "pygments_lexer": "ipython3",
   "version": "3.8.12"
  }
 },
 "nbformat": 4,
 "nbformat_minor": 5
}
