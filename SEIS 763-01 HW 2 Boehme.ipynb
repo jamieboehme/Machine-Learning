{
 "cells": [
  {
   "cell_type": "markdown",
   "id": "f0246bde-8b17-4240-8e32-e36091a78b6b",
   "metadata": {},
   "source": [
    "### SEIS 763-01: Homework 2\n",
    "#### Completed by: Jamie Boehme"
   ]
  },
  {
   "cell_type": "markdown",
   "id": "c2008ee9-9670-4d81-a2ca-d209d2ae83c7",
   "metadata": {},
   "source": [
    "**1.  Load the patient data from “ML_HW_Data_Patients.csv” file.**"
   ]
  },
  {
   "cell_type": "markdown",
   "id": "4109acc2-abb8-4c4f-bf9d-c7f4881dcabe",
   "metadata": {},
   "source": [
    "Import libraries needed for analysis."
   ]
  },
  {
   "cell_type": "code",
   "execution_count": 1,
   "id": "8ab2f681-9757-419a-bae7-81236313ce63",
   "metadata": {},
   "outputs": [],
   "source": [
    "import pandas as pd\n",
    "import numpy as np\n",
    "import matplotlib as mp\n",
    "import matplotlib.pyplot as plt \n",
    "import seaborn as sns\n",
    "from sklearn import preprocessing\n",
    "from sklearn.preprocessing import StandardScaler\n",
    "from sklearn.preprocessing import OneHotEncoder as SklearnOneHotEncoder\n",
    "from sklearn.model_selection import train_test_split\n",
    "from sklearn import linear_model\n",
    "from sklearn.metrics import mean_squared_error\n",
    "from sklearn.metrics import r2_score\n",
    "import statsmodels.api as sm"
   ]
  },
  {
   "cell_type": "markdown",
   "id": "6b0cce13-ee36-4c7e-acf2-25027e3f20c7",
   "metadata": {},
   "source": [
    "Import file from Github."
   ]
  },
  {
   "cell_type": "code",
   "execution_count": 2,
   "id": "162d9ffb-21de-4138-8917-173e4a4c9394",
   "metadata": {},
   "outputs": [
    {
     "data": {
      "text/html": [
       "<div>\n",
       "<style scoped>\n",
       "    .dataframe tbody tr th:only-of-type {\n",
       "        vertical-align: middle;\n",
       "    }\n",
       "\n",
       "    .dataframe tbody tr th {\n",
       "        vertical-align: top;\n",
       "    }\n",
       "\n",
       "    .dataframe thead th {\n",
       "        text-align: right;\n",
       "    }\n",
       "</style>\n",
       "<table border=\"1\" class=\"dataframe\">\n",
       "  <thead>\n",
       "    <tr style=\"text-align: right;\">\n",
       "      <th></th>\n",
       "      <th>Age</th>\n",
       "      <th>Diastolic</th>\n",
       "      <th>Gender</th>\n",
       "      <th>Height</th>\n",
       "      <th>LastName</th>\n",
       "      <th>Location</th>\n",
       "      <th>SelfAssessedHealthStatus</th>\n",
       "      <th>Smoker</th>\n",
       "      <th>Systolic</th>\n",
       "      <th>Weight</th>\n",
       "    </tr>\n",
       "  </thead>\n",
       "  <tbody>\n",
       "    <tr>\n",
       "      <th>0</th>\n",
       "      <td>38</td>\n",
       "      <td>93</td>\n",
       "      <td>'Male'</td>\n",
       "      <td>71</td>\n",
       "      <td>'Smith'</td>\n",
       "      <td>'County General Hospital'</td>\n",
       "      <td>'Excellent'</td>\n",
       "      <td>1</td>\n",
       "      <td>124</td>\n",
       "      <td>176</td>\n",
       "    </tr>\n",
       "    <tr>\n",
       "      <th>1</th>\n",
       "      <td>43</td>\n",
       "      <td>77</td>\n",
       "      <td>'Male'</td>\n",
       "      <td>69</td>\n",
       "      <td>'Johnson'</td>\n",
       "      <td>'VA Hospital'</td>\n",
       "      <td>'Fair'</td>\n",
       "      <td>0</td>\n",
       "      <td>109</td>\n",
       "      <td>163</td>\n",
       "    </tr>\n",
       "    <tr>\n",
       "      <th>2</th>\n",
       "      <td>38</td>\n",
       "      <td>83</td>\n",
       "      <td>'Female'</td>\n",
       "      <td>64</td>\n",
       "      <td>'Williams'</td>\n",
       "      <td>'St. Mary's Medical Center'</td>\n",
       "      <td>'Good'</td>\n",
       "      <td>0</td>\n",
       "      <td>125</td>\n",
       "      <td>131</td>\n",
       "    </tr>\n",
       "    <tr>\n",
       "      <th>3</th>\n",
       "      <td>40</td>\n",
       "      <td>75</td>\n",
       "      <td>'Female'</td>\n",
       "      <td>67</td>\n",
       "      <td>'Jones'</td>\n",
       "      <td>'VA Hospital'</td>\n",
       "      <td>'Fair'</td>\n",
       "      <td>0</td>\n",
       "      <td>117</td>\n",
       "      <td>133</td>\n",
       "    </tr>\n",
       "    <tr>\n",
       "      <th>4</th>\n",
       "      <td>49</td>\n",
       "      <td>80</td>\n",
       "      <td>'Female'</td>\n",
       "      <td>64</td>\n",
       "      <td>'Brown'</td>\n",
       "      <td>'County General Hospital'</td>\n",
       "      <td>'Good'</td>\n",
       "      <td>0</td>\n",
       "      <td>122</td>\n",
       "      <td>119</td>\n",
       "    </tr>\n",
       "  </tbody>\n",
       "</table>\n",
       "</div>"
      ],
      "text/plain": [
       "   Age  Diastolic    Gender  Height    LastName                     Location  \\\n",
       "0   38         93    'Male'      71     'Smith'    'County General Hospital'   \n",
       "1   43         77    'Male'      69   'Johnson'                'VA Hospital'   \n",
       "2   38         83  'Female'      64  'Williams'  'St. Mary's Medical Center'   \n",
       "3   40         75  'Female'      67     'Jones'                'VA Hospital'   \n",
       "4   49         80  'Female'      64     'Brown'    'County General Hospital'   \n",
       "\n",
       "  SelfAssessedHealthStatus  Smoker  Systolic  Weight  \n",
       "0              'Excellent'       1       124     176  \n",
       "1                   'Fair'       0       109     163  \n",
       "2                   'Good'       0       125     131  \n",
       "3                   'Fair'       0       117     133  \n",
       "4                   'Good'       0       122     119  "
      ]
     },
     "execution_count": 2,
     "metadata": {},
     "output_type": "execute_result"
    }
   ],
   "source": [
    "file = 'https://raw.githubusercontent.com/jamieboehme/Machine-Learning/main/ML_HW_Data_Patients.csv'\n",
    "patient = pd.read_csv(file)\n",
    "patient.head()"
   ]
  },
  {
   "cell_type": "markdown",
   "id": "e3e4e14d-5327-4fa2-926e-aee976a7bd01",
   "metadata": {},
   "source": [
    "**2. Use variables Age, Gender, Height, Weight, Smoker, Location, Self Assessed HealthStatus to build a linear regression model to predict the systolic blood pressure.**"
   ]
  },
  {
   "cell_type": "markdown",
   "id": "50befb0a-43a6-48ab-b3a8-9f74c7f0a60d",
   "metadata": {},
   "source": [
    "Do some exploratory analysis of the dataset including: reviewing number of columns and rows, data types, and overall shape of each column. Determine if there appear to be any obvious outliers. Check if there are any null values that will need to be taken care of prior to building a linear regression model."
   ]
  },
  {
   "cell_type": "code",
   "execution_count": 3,
   "id": "9a07c1fa-e092-4ce1-88b0-d5af987d970d",
   "metadata": {},
   "outputs": [
    {
     "data": {
      "text/plain": [
       "(100, 10)"
      ]
     },
     "execution_count": 3,
     "metadata": {},
     "output_type": "execute_result"
    }
   ],
   "source": [
    "patient.shape"
   ]
  },
  {
   "cell_type": "code",
   "execution_count": 4,
   "id": "2495283d-20f6-4d08-a937-a318654df724",
   "metadata": {},
   "outputs": [
    {
     "data": {
      "text/plain": [
       "Age                          int64\n",
       "Diastolic                    int64\n",
       "Gender                      object\n",
       "Height                       int64\n",
       "LastName                    object\n",
       "Location                    object\n",
       "SelfAssessedHealthStatus    object\n",
       "Smoker                       int64\n",
       "Systolic                     int64\n",
       "Weight                       int64\n",
       "dtype: object"
      ]
     },
     "execution_count": 4,
     "metadata": {},
     "output_type": "execute_result"
    }
   ],
   "source": [
    "patient.dtypes"
   ]
  },
  {
   "cell_type": "code",
   "execution_count": 5,
   "id": "706558be-851d-4888-a51a-d4d4b14fbe84",
   "metadata": {},
   "outputs": [
    {
     "data": {
      "text/html": [
       "<div>\n",
       "<style scoped>\n",
       "    .dataframe tbody tr th:only-of-type {\n",
       "        vertical-align: middle;\n",
       "    }\n",
       "\n",
       "    .dataframe tbody tr th {\n",
       "        vertical-align: top;\n",
       "    }\n",
       "\n",
       "    .dataframe thead th {\n",
       "        text-align: right;\n",
       "    }\n",
       "</style>\n",
       "<table border=\"1\" class=\"dataframe\">\n",
       "  <thead>\n",
       "    <tr style=\"text-align: right;\">\n",
       "      <th></th>\n",
       "      <th>Age</th>\n",
       "      <th>Diastolic</th>\n",
       "      <th>Height</th>\n",
       "      <th>Smoker</th>\n",
       "      <th>Systolic</th>\n",
       "      <th>Weight</th>\n",
       "    </tr>\n",
       "  </thead>\n",
       "  <tbody>\n",
       "    <tr>\n",
       "      <th>count</th>\n",
       "      <td>100.000000</td>\n",
       "      <td>100.000000</td>\n",
       "      <td>100.000000</td>\n",
       "      <td>100.000000</td>\n",
       "      <td>100.00000</td>\n",
       "      <td>100.000000</td>\n",
       "    </tr>\n",
       "    <tr>\n",
       "      <th>mean</th>\n",
       "      <td>38.280000</td>\n",
       "      <td>82.960000</td>\n",
       "      <td>67.070000</td>\n",
       "      <td>0.340000</td>\n",
       "      <td>122.78000</td>\n",
       "      <td>154.000000</td>\n",
       "    </tr>\n",
       "    <tr>\n",
       "      <th>std</th>\n",
       "      <td>7.215416</td>\n",
       "      <td>6.932459</td>\n",
       "      <td>2.836469</td>\n",
       "      <td>0.476095</td>\n",
       "      <td>6.71284</td>\n",
       "      <td>26.571421</td>\n",
       "    </tr>\n",
       "    <tr>\n",
       "      <th>min</th>\n",
       "      <td>25.000000</td>\n",
       "      <td>68.000000</td>\n",
       "      <td>60.000000</td>\n",
       "      <td>0.000000</td>\n",
       "      <td>109.00000</td>\n",
       "      <td>111.000000</td>\n",
       "    </tr>\n",
       "    <tr>\n",
       "      <th>25%</th>\n",
       "      <td>32.000000</td>\n",
       "      <td>77.750000</td>\n",
       "      <td>65.000000</td>\n",
       "      <td>0.000000</td>\n",
       "      <td>117.75000</td>\n",
       "      <td>130.750000</td>\n",
       "    </tr>\n",
       "    <tr>\n",
       "      <th>50%</th>\n",
       "      <td>39.000000</td>\n",
       "      <td>81.500000</td>\n",
       "      <td>67.000000</td>\n",
       "      <td>0.000000</td>\n",
       "      <td>122.00000</td>\n",
       "      <td>142.500000</td>\n",
       "    </tr>\n",
       "    <tr>\n",
       "      <th>75%</th>\n",
       "      <td>44.000000</td>\n",
       "      <td>89.000000</td>\n",
       "      <td>69.250000</td>\n",
       "      <td>1.000000</td>\n",
       "      <td>127.25000</td>\n",
       "      <td>180.250000</td>\n",
       "    </tr>\n",
       "    <tr>\n",
       "      <th>max</th>\n",
       "      <td>50.000000</td>\n",
       "      <td>99.000000</td>\n",
       "      <td>72.000000</td>\n",
       "      <td>1.000000</td>\n",
       "      <td>138.00000</td>\n",
       "      <td>202.000000</td>\n",
       "    </tr>\n",
       "  </tbody>\n",
       "</table>\n",
       "</div>"
      ],
      "text/plain": [
       "              Age   Diastolic      Height      Smoker   Systolic      Weight\n",
       "count  100.000000  100.000000  100.000000  100.000000  100.00000  100.000000\n",
       "mean    38.280000   82.960000   67.070000    0.340000  122.78000  154.000000\n",
       "std      7.215416    6.932459    2.836469    0.476095    6.71284   26.571421\n",
       "min     25.000000   68.000000   60.000000    0.000000  109.00000  111.000000\n",
       "25%     32.000000   77.750000   65.000000    0.000000  117.75000  130.750000\n",
       "50%     39.000000   81.500000   67.000000    0.000000  122.00000  142.500000\n",
       "75%     44.000000   89.000000   69.250000    1.000000  127.25000  180.250000\n",
       "max     50.000000   99.000000   72.000000    1.000000  138.00000  202.000000"
      ]
     },
     "execution_count": 5,
     "metadata": {},
     "output_type": "execute_result"
    }
   ],
   "source": [
    "patient.describe()"
   ]
  },
  {
   "cell_type": "code",
   "execution_count": 6,
   "id": "c8fc2c9f-7eb6-4a93-82b9-7c923c0cf9e9",
   "metadata": {},
   "outputs": [
    {
     "data": {
      "text/html": [
       "<div>\n",
       "<style scoped>\n",
       "    .dataframe tbody tr th:only-of-type {\n",
       "        vertical-align: middle;\n",
       "    }\n",
       "\n",
       "    .dataframe tbody tr th {\n",
       "        vertical-align: top;\n",
       "    }\n",
       "\n",
       "    .dataframe thead th {\n",
       "        text-align: right;\n",
       "    }\n",
       "</style>\n",
       "<table border=\"1\" class=\"dataframe\">\n",
       "  <thead>\n",
       "    <tr style=\"text-align: right;\">\n",
       "      <th></th>\n",
       "      <th>Gender</th>\n",
       "      <th>LastName</th>\n",
       "      <th>Location</th>\n",
       "      <th>SelfAssessedHealthStatus</th>\n",
       "    </tr>\n",
       "  </thead>\n",
       "  <tbody>\n",
       "    <tr>\n",
       "      <th>count</th>\n",
       "      <td>100</td>\n",
       "      <td>100</td>\n",
       "      <td>100</td>\n",
       "      <td>100</td>\n",
       "    </tr>\n",
       "    <tr>\n",
       "      <th>unique</th>\n",
       "      <td>2</td>\n",
       "      <td>100</td>\n",
       "      <td>3</td>\n",
       "      <td>4</td>\n",
       "    </tr>\n",
       "    <tr>\n",
       "      <th>top</th>\n",
       "      <td>'Female'</td>\n",
       "      <td>'Smith'</td>\n",
       "      <td>'County General Hospital'</td>\n",
       "      <td>'Good'</td>\n",
       "    </tr>\n",
       "    <tr>\n",
       "      <th>freq</th>\n",
       "      <td>53</td>\n",
       "      <td>1</td>\n",
       "      <td>39</td>\n",
       "      <td>40</td>\n",
       "    </tr>\n",
       "  </tbody>\n",
       "</table>\n",
       "</div>"
      ],
      "text/plain": [
       "          Gender LastName                   Location SelfAssessedHealthStatus\n",
       "count        100      100                        100                      100\n",
       "unique         2      100                          3                        4\n",
       "top     'Female'  'Smith'  'County General Hospital'                   'Good'\n",
       "freq          53        1                         39                       40"
      ]
     },
     "execution_count": 6,
     "metadata": {},
     "output_type": "execute_result"
    }
   ],
   "source": [
    "patient.describe(include =object)"
   ]
  },
  {
   "cell_type": "code",
   "execution_count": 7,
   "id": "59dad18e-58e3-4630-ab3b-ddec712c6380",
   "metadata": {},
   "outputs": [
    {
     "data": {
      "text/plain": [
       "Age                         0\n",
       "Diastolic                   0\n",
       "Gender                      0\n",
       "Height                      0\n",
       "LastName                    0\n",
       "Location                    0\n",
       "SelfAssessedHealthStatus    0\n",
       "Smoker                      0\n",
       "Systolic                    0\n",
       "Weight                      0\n",
       "dtype: int64"
      ]
     },
     "execution_count": 7,
     "metadata": {},
     "output_type": "execute_result"
    }
   ],
   "source": [
    "patient.isnull().sum()"
   ]
  },
  {
   "cell_type": "code",
   "execution_count": 8,
   "id": "790820f2-d20d-4de3-8547-96b38b504984",
   "metadata": {},
   "outputs": [
    {
     "data": {
      "image/png": "[encoded data removed]",
      "text/plain": [
       "<Figure size 1008x432 with 4 Axes>"
      ]
     },
     "metadata": {
      "needs_background": "light"
     },
     "output_type": "display_data"
    }
   ],
   "source": [
    "colors = ['mediumturquoise', 'blueviolet', 'mediumvioletred', 'palegreen']\n",
    "small_size= 12\n",
    "mp.rc('font', size=small_size)\n",
    "mp.rc('axes', titlesize=small_size)\n",
    "\n",
    "def graph_cat(cat_variable):\n",
    "    values = patient[cat_variable].value_counts(normalize=True)\n",
    "    percent = values * 100\n",
    "    return percent.plot.bar(title = cat_variable, ylim=(0,100))\n",
    "\n",
    "def cross_graph(tabular_num):\n",
    "    var = pd.crosstab(patient[tabular_num], patient['Systolic'])\n",
    "    graph = var.div(var.sum(1).astype(float), axis = 0).plot(kind = 'bar', stacked = True, \n",
    "                                                             title = '{} vs Current Condition'.format(tabular_num))\n",
    "    return graph\n",
    "\n",
    "catagorical_var = ['Gender', 'Location', 'SelfAssessedHealthStatus', 'Smoker']\n",
    "\n",
    "fig1 = plt.figure(figsize=(14,6))\n",
    "plt.suptitle('Distribution of Categorical or Ordinal Variables')\n",
    "\n",
    "plotnum=1\n",
    "for cat_var in catagorical_var:\n",
    "    plt.subplot(1,4,plotnum)\n",
    "    graph_cat(cat_var)\n",
    "    plotnum +=1\n",
    "plt.show()"
   ]
  },
  {
   "cell_type": "code",
   "execution_count": 9,
   "id": "95a54928-2faa-4bbd-a43e-8ab858f15ae0",
   "metadata": {},
   "outputs": [
    {
     "data": {
      "image/png": "[encoded data removed]",
      "text/plain": [
       "<Figure size 1008x432 with 3 Axes>"
      ]
     },
     "metadata": {
      "needs_background": "light"
     },
     "output_type": "display_data"
    }
   ],
   "source": [
    "def graph_num(num_variable):\n",
    "    sns.histplot(patient[num_variable])\n",
    "    \n",
    "numeric_var = ['Age', 'Height', 'Weight'] \n",
    "\n",
    "plot_num = plt.figure(figsize=(14,6))\n",
    "plt.suptitle('Distribution of Numerical Variables')\n",
    "\n",
    "plotnum=1\n",
    "for num_var in numeric_var:\n",
    "    plt.subplot(1,3,plotnum)\n",
    "    graph_num(num_var)\n",
    "    plotnum +=1\n",
    "plt.show()"
   ]
  },
  {
   "cell_type": "markdown",
   "id": "58af9256-3d7f-4740-acbf-355dd5a72b72",
   "metadata": {},
   "source": [
    "Remove 'LastName' from dataset, as name has no bearing on Systolic, and in industry, represents PII data that should not be used for the basis of modeling. Remove 'Diastolic' from dataset as this was not part of the assignment."
   ]
  },
  {
   "cell_type": "code",
   "execution_count": 10,
   "id": "f8a4bdcf-255b-44f6-8373-e6494ade5e0a",
   "metadata": {},
   "outputs": [],
   "source": [
    "patient = patient.drop(['LastName','Diastolic'], axis=1)"
   ]
  },
  {
   "cell_type": "code",
   "execution_count": 11,
   "id": "aa2d3493-6f34-46f8-9c2b-48848db433f1",
   "metadata": {},
   "outputs": [
    {
     "data": {
      "text/plain": [
       "(100, 8)"
      ]
     },
     "execution_count": 11,
     "metadata": {},
     "output_type": "execute_result"
    }
   ],
   "source": [
    "patient.shape"
   ]
  },
  {
   "cell_type": "markdown",
   "id": "91345247-904c-4fdd-ab33-431bf8dcc964",
   "metadata": {},
   "source": [
    "Seperate numerical variables and standardize them for the purposes of modeling."
   ]
  },
  {
   "cell_type": "code",
   "execution_count": 12,
   "id": "25037f51-bb47-48b3-972c-b1b81cc33766",
   "metadata": {},
   "outputs": [
    {
     "name": "stdout",
     "output_type": "stream",
     "text": [
      "    Age  Height  Weight\n",
      "0    38      71     176\n",
      "1    43      69     163\n",
      "2    38      64     131\n",
      "3    40      67     133\n",
      "4    49      64     119\n",
      "..  ...     ...     ...\n",
      "95   25      69     171\n",
      "96   44      69     188\n",
      "97   49      70     186\n",
      "98   45      68     172\n",
      "99   48      66     177\n",
      "\n",
      "[100 rows x 3 columns]\n"
     ]
    }
   ],
   "source": [
    "num_columns = patient[numeric_var]\n",
    "num_df = num_columns.copy()\n",
    "print(num_df)"
   ]
  },
  {
   "cell_type": "code",
   "execution_count": 13,
   "id": "9dad8886-fc54-4627-9f92-7611c8d2fb13",
   "metadata": {},
   "outputs": [
    {
     "name": "stdout",
     "output_type": "stream",
     "text": [
      "         Age    Height    Weight\n",
      "0  -0.039001  1.392506  0.832128\n",
      "1   0.657450  0.683851  0.340416\n",
      "2  -0.039001 -1.087784 -0.869952\n",
      "3   0.239579 -0.024803 -0.794304\n",
      "4   1.493193 -1.087784 -1.323841\n",
      "..       ...       ...       ...\n",
      "95 -1.849776  0.683851  0.643008\n",
      "96  0.796741  0.683851  1.286017\n",
      "97  1.493193  1.038178  1.210368\n",
      "98  0.936031  0.329524  0.680832\n",
      "99  1.353902 -0.379130  0.869952\n",
      "\n",
      "[100 rows x 3 columns] \n",
      "\n",
      "Age      -1.576517e-16\n",
      "Height    2.456924e-15\n",
      "Weight   -1.221245e-17\n",
      "dtype: float64 Age       1.005038\n",
      "Height    1.005038\n",
      "Weight    1.005038\n",
      "dtype: float64\n"
     ]
    }
   ],
   "source": [
    "ZX= preprocessing.scale(num_columns)\n",
    "num_df_clean = pd.DataFrame(ZX, columns = numeric_var)\n",
    "print(num_df_clean, '\\n')\n",
    "print(num_df_clean.mean(axis=0), \n",
    "num_df_clean.std(axis=0))"
   ]
  },
  {
   "cell_type": "markdown",
   "id": "9e0841b2-5c7a-4bde-a149-150d13d5a6d1",
   "metadata": {},
   "source": [
    "Perform One-Hot Encoding on dataframe for categorical variables for the purposes of data modeling."
   ]
  },
  {
   "cell_type": "code",
   "execution_count": 14,
   "id": "44effdca-d5f6-427e-b413-f2da901b0d5f",
   "metadata": {},
   "outputs": [
    {
     "name": "stdout",
     "output_type": "stream",
     "text": [
      "      Gender                     Location SelfAssessedHealthStatus\n",
      "0     'Male'    'County General Hospital'              'Excellent'\n",
      "1     'Male'                'VA Hospital'                   'Fair'\n",
      "2   'Female'  'St. Mary's Medical Center'                   'Good'\n",
      "3   'Female'                'VA Hospital'                   'Fair'\n",
      "4   'Female'    'County General Hospital'                   'Good'\n",
      "..       ...                          ...                      ...\n",
      "95    'Male'    'County General Hospital'                   'Good'\n",
      "96    'Male'                'VA Hospital'                   'Good'\n",
      "97    'Male'    'County General Hospital'                   'Fair'\n",
      "98    'Male'    'County General Hospital'                   'Good'\n",
      "99    'Male'    'County General Hospital'                   'Fair'\n",
      "\n",
      "[100 rows x 3 columns]\n"
     ]
    }
   ],
   "source": [
    "catagorical_var = ['Gender', 'Location', 'SelfAssessedHealthStatus']\n",
    "cat_columns = patient[catagorical_var]\n",
    "cat_df = cat_columns.copy()\n",
    "print(cat_df)"
   ]
  },
  {
   "cell_type": "code",
   "execution_count": 15,
   "id": "a1f5f137-7056-42f2-a514-7c664d512aee",
   "metadata": {},
   "outputs": [],
   "source": [
    "class OneHotEncoder(SklearnOneHotEncoder):\n",
    "    def __init__(self, **kwargs):\n",
    "        super(OneHotEncoder, self).__init__(**kwargs)\n",
    "        self.fit_flag = False\n",
    "\n",
    "    def fit(self, X, **kwargs):\n",
    "        out = super().fit(X)\n",
    "        self.fit_flag = True\n",
    "        return out\n",
    "\n",
    "    def transform(self, X, **kwargs):\n",
    "        sparse_matrix = super(OneHotEncoder, self).transform(X)\n",
    "        new_columns = self.get_new_columns(X=X)\n",
    "        d_out = pd.DataFrame(sparse_matrix.toarray(), columns=new_columns, index=X.index)\n",
    "        return d_out\n",
    "\n",
    "    def fit_transform(self, X, **kwargs):\n",
    "        self.fit(X)\n",
    "        return self.transform(X)\n",
    "\n",
    "    def get_new_columns(self, X):\n",
    "        new_columns = []\n",
    "        for i, column in enumerate(X.columns):\n",
    "            j = 0\n",
    "            while j < len(self.categories_[i]):\n",
    "                new_columns.append(f'{column}_{self.categories_[i][j]}')\n",
    "                j += 1\n",
    "        return new_columns\n",
    "\n",
    "enc = OneHotEncoder()\n",
    "new_cat = enc.fit_transform(cat_df)"
   ]
  },
  {
   "cell_type": "code",
   "execution_count": 16,
   "id": "724d4c4a-409c-41ac-ba67-30cab022a450",
   "metadata": {},
   "outputs": [
    {
     "data": {
      "text/html": [
       "<div>\n",
       "<style scoped>\n",
       "    .dataframe tbody tr th:only-of-type {\n",
       "        vertical-align: middle;\n",
       "    }\n",
       "\n",
       "    .dataframe tbody tr th {\n",
       "        vertical-align: top;\n",
       "    }\n",
       "\n",
       "    .dataframe thead th {\n",
       "        text-align: right;\n",
       "    }\n",
       "</style>\n",
       "<table border=\"1\" class=\"dataframe\">\n",
       "  <thead>\n",
       "    <tr style=\"text-align: right;\">\n",
       "      <th></th>\n",
       "      <th>Gender_'Female'</th>\n",
       "      <th>Gender_'Male'</th>\n",
       "      <th>Location_'County General Hospital'</th>\n",
       "      <th>Location_'St. Mary's Medical Center'</th>\n",
       "      <th>Location_'VA Hospital'</th>\n",
       "      <th>SelfAssessedHealthStatus_'Excellent'</th>\n",
       "      <th>SelfAssessedHealthStatus_'Fair'</th>\n",
       "      <th>SelfAssessedHealthStatus_'Good'</th>\n",
       "      <th>SelfAssessedHealthStatus_'Poor'</th>\n",
       "    </tr>\n",
       "  </thead>\n",
       "  <tbody>\n",
       "    <tr>\n",
       "      <th>0</th>\n",
       "      <td>0.0</td>\n",
       "      <td>1.0</td>\n",
       "      <td>1.0</td>\n",
       "      <td>0.0</td>\n",
       "      <td>0.0</td>\n",
       "      <td>1.0</td>\n",
       "      <td>0.0</td>\n",
       "      <td>0.0</td>\n",
       "      <td>0.0</td>\n",
       "    </tr>\n",
       "    <tr>\n",
       "      <th>1</th>\n",
       "      <td>0.0</td>\n",
       "      <td>1.0</td>\n",
       "      <td>0.0</td>\n",
       "      <td>0.0</td>\n",
       "      <td>1.0</td>\n",
       "      <td>0.0</td>\n",
       "      <td>1.0</td>\n",
       "      <td>0.0</td>\n",
       "      <td>0.0</td>\n",
       "    </tr>\n",
       "    <tr>\n",
       "      <th>2</th>\n",
       "      <td>1.0</td>\n",
       "      <td>0.0</td>\n",
       "      <td>0.0</td>\n",
       "      <td>1.0</td>\n",
       "      <td>0.0</td>\n",
       "      <td>0.0</td>\n",
       "      <td>0.0</td>\n",
       "      <td>1.0</td>\n",
       "      <td>0.0</td>\n",
       "    </tr>\n",
       "    <tr>\n",
       "      <th>3</th>\n",
       "      <td>1.0</td>\n",
       "      <td>0.0</td>\n",
       "      <td>0.0</td>\n",
       "      <td>0.0</td>\n",
       "      <td>1.0</td>\n",
       "      <td>0.0</td>\n",
       "      <td>1.0</td>\n",
       "      <td>0.0</td>\n",
       "      <td>0.0</td>\n",
       "    </tr>\n",
       "    <tr>\n",
       "      <th>4</th>\n",
       "      <td>1.0</td>\n",
       "      <td>0.0</td>\n",
       "      <td>1.0</td>\n",
       "      <td>0.0</td>\n",
       "      <td>0.0</td>\n",
       "      <td>0.0</td>\n",
       "      <td>0.0</td>\n",
       "      <td>1.0</td>\n",
       "      <td>0.0</td>\n",
       "    </tr>\n",
       "    <tr>\n",
       "      <th>...</th>\n",
       "      <td>...</td>\n",
       "      <td>...</td>\n",
       "      <td>...</td>\n",
       "      <td>...</td>\n",
       "      <td>...</td>\n",
       "      <td>...</td>\n",
       "      <td>...</td>\n",
       "      <td>...</td>\n",
       "      <td>...</td>\n",
       "    </tr>\n",
       "    <tr>\n",
       "      <th>95</th>\n",
       "      <td>0.0</td>\n",
       "      <td>1.0</td>\n",
       "      <td>1.0</td>\n",
       "      <td>0.0</td>\n",
       "      <td>0.0</td>\n",
       "      <td>0.0</td>\n",
       "      <td>0.0</td>\n",
       "      <td>1.0</td>\n",
       "      <td>0.0</td>\n",
       "    </tr>\n",
       "    <tr>\n",
       "      <th>96</th>\n",
       "      <td>0.0</td>\n",
       "      <td>1.0</td>\n",
       "      <td>0.0</td>\n",
       "      <td>0.0</td>\n",
       "      <td>1.0</td>\n",
       "      <td>0.0</td>\n",
       "      <td>0.0</td>\n",
       "      <td>1.0</td>\n",
       "      <td>0.0</td>\n",
       "    </tr>\n",
       "    <tr>\n",
       "      <th>97</th>\n",
       "      <td>0.0</td>\n",
       "      <td>1.0</td>\n",
       "      <td>1.0</td>\n",
       "      <td>0.0</td>\n",
       "      <td>0.0</td>\n",
       "      <td>0.0</td>\n",
       "      <td>1.0</td>\n",
       "      <td>0.0</td>\n",
       "      <td>0.0</td>\n",
       "    </tr>\n",
       "    <tr>\n",
       "      <th>98</th>\n",
       "      <td>0.0</td>\n",
       "      <td>1.0</td>\n",
       "      <td>1.0</td>\n",
       "      <td>0.0</td>\n",
       "      <td>0.0</td>\n",
       "      <td>0.0</td>\n",
       "      <td>0.0</td>\n",
       "      <td>1.0</td>\n",
       "      <td>0.0</td>\n",
       "    </tr>\n",
       "    <tr>\n",
       "      <th>99</th>\n",
       "      <td>0.0</td>\n",
       "      <td>1.0</td>\n",
       "      <td>1.0</td>\n",
       "      <td>0.0</td>\n",
       "      <td>0.0</td>\n",
       "      <td>0.0</td>\n",
       "      <td>1.0</td>\n",
       "      <td>0.0</td>\n",
       "      <td>0.0</td>\n",
       "    </tr>\n",
       "  </tbody>\n",
       "</table>\n",
       "<p>100 rows × 9 columns</p>\n",
       "</div>"
      ],
      "text/plain": [
       "    Gender_'Female'  Gender_'Male'  Location_'County General Hospital'  \\\n",
       "0               0.0            1.0                                 1.0   \n",
       "1               0.0            1.0                                 0.0   \n",
       "2               1.0            0.0                                 0.0   \n",
       "3               1.0            0.0                                 0.0   \n",
       "4               1.0            0.0                                 1.0   \n",
       "..              ...            ...                                 ...   \n",
       "95              0.0            1.0                                 1.0   \n",
       "96              0.0            1.0                                 0.0   \n",
       "97              0.0            1.0                                 1.0   \n",
       "98              0.0            1.0                                 1.0   \n",
       "99              0.0            1.0                                 1.0   \n",
       "\n",
       "    Location_'St. Mary's Medical Center'  Location_'VA Hospital'  \\\n",
       "0                                    0.0                     0.0   \n",
       "1                                    0.0                     1.0   \n",
       "2                                    1.0                     0.0   \n",
       "3                                    0.0                     1.0   \n",
       "4                                    0.0                     0.0   \n",
       "..                                   ...                     ...   \n",
       "95                                   0.0                     0.0   \n",
       "96                                   0.0                     1.0   \n",
       "97                                   0.0                     0.0   \n",
       "98                                   0.0                     0.0   \n",
       "99                                   0.0                     0.0   \n",
       "\n",
       "    SelfAssessedHealthStatus_'Excellent'  SelfAssessedHealthStatus_'Fair'  \\\n",
       "0                                    1.0                              0.0   \n",
       "1                                    0.0                              1.0   \n",
       "2                                    0.0                              0.0   \n",
       "3                                    0.0                              1.0   \n",
       "4                                    0.0                              0.0   \n",
       "..                                   ...                              ...   \n",
       "95                                   0.0                              0.0   \n",
       "96                                   0.0                              0.0   \n",
       "97                                   0.0                              1.0   \n",
       "98                                   0.0                              0.0   \n",
       "99                                   0.0                              1.0   \n",
       "\n",
       "    SelfAssessedHealthStatus_'Good'  SelfAssessedHealthStatus_'Poor'  \n",
       "0                               0.0                              0.0  \n",
       "1                               0.0                              0.0  \n",
       "2                               1.0                              0.0  \n",
       "3                               0.0                              0.0  \n",
       "4                               1.0                              0.0  \n",
       "..                              ...                              ...  \n",
       "95                              1.0                              0.0  \n",
       "96                              1.0                              0.0  \n",
       "97                              0.0                              0.0  \n",
       "98                              1.0                              0.0  \n",
       "99                              0.0                              0.0  \n",
       "\n",
       "[100 rows x 9 columns]"
      ]
     },
     "execution_count": 16,
     "metadata": {},
     "output_type": "execute_result"
    }
   ],
   "source": [
    "new_cat"
   ]
  },
  {
   "cell_type": "code",
   "execution_count": 17,
   "id": "c93a594b-ada7-4dd1-af3d-17afd684d3a5",
   "metadata": {},
   "outputs": [
    {
     "data": {
      "text/plain": [
       "Gender_'Female'                         float64\n",
       "Gender_'Male'                           float64\n",
       "Location_'County General Hospital'      float64\n",
       "Location_'St. Mary's Medical Center'    float64\n",
       "Location_'VA Hospital'                  float64\n",
       "SelfAssessedHealthStatus_'Excellent'    float64\n",
       "SelfAssessedHealthStatus_'Fair'         float64\n",
       "SelfAssessedHealthStatus_'Good'         float64\n",
       "SelfAssessedHealthStatus_'Poor'         float64\n",
       "dtype: object"
      ]
     },
     "execution_count": 17,
     "metadata": {},
     "output_type": "execute_result"
    }
   ],
   "source": [
    "new_cat.dtypes"
   ]
  },
  {
   "cell_type": "markdown",
   "id": "703c2aca-a1c4-49dc-a18d-f171215496d6",
   "metadata": {},
   "source": [
    "Drop one-hot encoded columns that are already represented in the dataframe."
   ]
  },
  {
   "cell_type": "code",
   "execution_count": 18,
   "id": "c92ce704-4b7e-409f-9d31-3a9312972e03",
   "metadata": {},
   "outputs": [],
   "source": [
    "cat_df_clean = new_cat.iloc[:,[0,2,3,5,6,7]]"
   ]
  },
  {
   "cell_type": "code",
   "execution_count": 19,
   "id": "6b4377d4-fbf5-47f2-8f84-f311fa800c53",
   "metadata": {},
   "outputs": [
    {
     "data": {
      "text/html": [
       "<div>\n",
       "<style scoped>\n",
       "    .dataframe tbody tr th:only-of-type {\n",
       "        vertical-align: middle;\n",
       "    }\n",
       "\n",
       "    .dataframe tbody tr th {\n",
       "        vertical-align: top;\n",
       "    }\n",
       "\n",
       "    .dataframe thead th {\n",
       "        text-align: right;\n",
       "    }\n",
       "</style>\n",
       "<table border=\"1\" class=\"dataframe\">\n",
       "  <thead>\n",
       "    <tr style=\"text-align: right;\">\n",
       "      <th></th>\n",
       "      <th>Gender_'Female'</th>\n",
       "      <th>Location_'County General Hospital'</th>\n",
       "      <th>Location_'St. Mary's Medical Center'</th>\n",
       "      <th>SelfAssessedHealthStatus_'Excellent'</th>\n",
       "      <th>SelfAssessedHealthStatus_'Fair'</th>\n",
       "      <th>SelfAssessedHealthStatus_'Good'</th>\n",
       "    </tr>\n",
       "  </thead>\n",
       "  <tbody>\n",
       "    <tr>\n",
       "      <th>0</th>\n",
       "      <td>0.0</td>\n",
       "      <td>1.0</td>\n",
       "      <td>0.0</td>\n",
       "      <td>1.0</td>\n",
       "      <td>0.0</td>\n",
       "      <td>0.0</td>\n",
       "    </tr>\n",
       "    <tr>\n",
       "      <th>1</th>\n",
       "      <td>0.0</td>\n",
       "      <td>0.0</td>\n",
       "      <td>0.0</td>\n",
       "      <td>0.0</td>\n",
       "      <td>1.0</td>\n",
       "      <td>0.0</td>\n",
       "    </tr>\n",
       "    <tr>\n",
       "      <th>2</th>\n",
       "      <td>1.0</td>\n",
       "      <td>0.0</td>\n",
       "      <td>1.0</td>\n",
       "      <td>0.0</td>\n",
       "      <td>0.0</td>\n",
       "      <td>1.0</td>\n",
       "    </tr>\n",
       "    <tr>\n",
       "      <th>3</th>\n",
       "      <td>1.0</td>\n",
       "      <td>0.0</td>\n",
       "      <td>0.0</td>\n",
       "      <td>0.0</td>\n",
       "      <td>1.0</td>\n",
       "      <td>0.0</td>\n",
       "    </tr>\n",
       "    <tr>\n",
       "      <th>4</th>\n",
       "      <td>1.0</td>\n",
       "      <td>1.0</td>\n",
       "      <td>0.0</td>\n",
       "      <td>0.0</td>\n",
       "      <td>0.0</td>\n",
       "      <td>1.0</td>\n",
       "    </tr>\n",
       "    <tr>\n",
       "      <th>...</th>\n",
       "      <td>...</td>\n",
       "      <td>...</td>\n",
       "      <td>...</td>\n",
       "      <td>...</td>\n",
       "      <td>...</td>\n",
       "      <td>...</td>\n",
       "    </tr>\n",
       "    <tr>\n",
       "      <th>95</th>\n",
       "      <td>0.0</td>\n",
       "      <td>1.0</td>\n",
       "      <td>0.0</td>\n",
       "      <td>0.0</td>\n",
       "      <td>0.0</td>\n",
       "      <td>1.0</td>\n",
       "    </tr>\n",
       "    <tr>\n",
       "      <th>96</th>\n",
       "      <td>0.0</td>\n",
       "      <td>0.0</td>\n",
       "      <td>0.0</td>\n",
       "      <td>0.0</td>\n",
       "      <td>0.0</td>\n",
       "      <td>1.0</td>\n",
       "    </tr>\n",
       "    <tr>\n",
       "      <th>97</th>\n",
       "      <td>0.0</td>\n",
       "      <td>1.0</td>\n",
       "      <td>0.0</td>\n",
       "      <td>0.0</td>\n",
       "      <td>1.0</td>\n",
       "      <td>0.0</td>\n",
       "    </tr>\n",
       "    <tr>\n",
       "      <th>98</th>\n",
       "      <td>0.0</td>\n",
       "      <td>1.0</td>\n",
       "      <td>0.0</td>\n",
       "      <td>0.0</td>\n",
       "      <td>0.0</td>\n",
       "      <td>1.0</td>\n",
       "    </tr>\n",
       "    <tr>\n",
       "      <th>99</th>\n",
       "      <td>0.0</td>\n",
       "      <td>1.0</td>\n",
       "      <td>0.0</td>\n",
       "      <td>0.0</td>\n",
       "      <td>1.0</td>\n",
       "      <td>0.0</td>\n",
       "    </tr>\n",
       "  </tbody>\n",
       "</table>\n",
       "<p>100 rows × 6 columns</p>\n",
       "</div>"
      ],
      "text/plain": [
       "    Gender_'Female'  Location_'County General Hospital'  \\\n",
       "0               0.0                                 1.0   \n",
       "1               0.0                                 0.0   \n",
       "2               1.0                                 0.0   \n",
       "3               1.0                                 0.0   \n",
       "4               1.0                                 1.0   \n",
       "..              ...                                 ...   \n",
       "95              0.0                                 1.0   \n",
       "96              0.0                                 0.0   \n",
       "97              0.0                                 1.0   \n",
       "98              0.0                                 1.0   \n",
       "99              0.0                                 1.0   \n",
       "\n",
       "    Location_'St. Mary's Medical Center'  \\\n",
       "0                                    0.0   \n",
       "1                                    0.0   \n",
       "2                                    1.0   \n",
       "3                                    0.0   \n",
       "4                                    0.0   \n",
       "..                                   ...   \n",
       "95                                   0.0   \n",
       "96                                   0.0   \n",
       "97                                   0.0   \n",
       "98                                   0.0   \n",
       "99                                   0.0   \n",
       "\n",
       "    SelfAssessedHealthStatus_'Excellent'  SelfAssessedHealthStatus_'Fair'  \\\n",
       "0                                    1.0                              0.0   \n",
       "1                                    0.0                              1.0   \n",
       "2                                    0.0                              0.0   \n",
       "3                                    0.0                              1.0   \n",
       "4                                    0.0                              0.0   \n",
       "..                                   ...                              ...   \n",
       "95                                   0.0                              0.0   \n",
       "96                                   0.0                              0.0   \n",
       "97                                   0.0                              1.0   \n",
       "98                                   0.0                              0.0   \n",
       "99                                   0.0                              1.0   \n",
       "\n",
       "    SelfAssessedHealthStatus_'Good'  \n",
       "0                               0.0  \n",
       "1                               0.0  \n",
       "2                               1.0  \n",
       "3                               0.0  \n",
       "4                               1.0  \n",
       "..                              ...  \n",
       "95                              1.0  \n",
       "96                              1.0  \n",
       "97                              0.0  \n",
       "98                              1.0  \n",
       "99                              0.0  \n",
       "\n",
       "[100 rows x 6 columns]"
      ]
     },
     "execution_count": 19,
     "metadata": {},
     "output_type": "execute_result"
    }
   ],
   "source": [
    "cat_df_clean"
   ]
  },
  {
   "cell_type": "markdown",
   "id": "d28134a7-a01c-4b29-bf19-832b082cbb07",
   "metadata": {},
   "source": [
    "Seperate target variable, Systolic, from the current dataframe for modeling purposes."
   ]
  },
  {
   "cell_type": "code",
   "execution_count": 20,
   "id": "ec5d15e2-024c-4a82-b174-b27aaa079503",
   "metadata": {},
   "outputs": [
    {
     "data": {
      "text/html": [
       "<div>\n",
       "<style scoped>\n",
       "    .dataframe tbody tr th:only-of-type {\n",
       "        vertical-align: middle;\n",
       "    }\n",
       "\n",
       "    .dataframe tbody tr th {\n",
       "        vertical-align: top;\n",
       "    }\n",
       "\n",
       "    .dataframe thead th {\n",
       "        text-align: right;\n",
       "    }\n",
       "</style>\n",
       "<table border=\"1\" class=\"dataframe\">\n",
       "  <thead>\n",
       "    <tr style=\"text-align: right;\">\n",
       "      <th></th>\n",
       "      <th>Systolic</th>\n",
       "    </tr>\n",
       "  </thead>\n",
       "  <tbody>\n",
       "    <tr>\n",
       "      <th>0</th>\n",
       "      <td>124</td>\n",
       "    </tr>\n",
       "    <tr>\n",
       "      <th>1</th>\n",
       "      <td>109</td>\n",
       "    </tr>\n",
       "    <tr>\n",
       "      <th>2</th>\n",
       "      <td>125</td>\n",
       "    </tr>\n",
       "    <tr>\n",
       "      <th>3</th>\n",
       "      <td>117</td>\n",
       "    </tr>\n",
       "    <tr>\n",
       "      <th>4</th>\n",
       "      <td>122</td>\n",
       "    </tr>\n",
       "    <tr>\n",
       "      <th>...</th>\n",
       "      <td>...</td>\n",
       "    </tr>\n",
       "    <tr>\n",
       "      <th>95</th>\n",
       "      <td>128</td>\n",
       "    </tr>\n",
       "    <tr>\n",
       "      <th>96</th>\n",
       "      <td>124</td>\n",
       "    </tr>\n",
       "    <tr>\n",
       "      <th>97</th>\n",
       "      <td>119</td>\n",
       "    </tr>\n",
       "    <tr>\n",
       "      <th>98</th>\n",
       "      <td>136</td>\n",
       "    </tr>\n",
       "    <tr>\n",
       "      <th>99</th>\n",
       "      <td>114</td>\n",
       "    </tr>\n",
       "  </tbody>\n",
       "</table>\n",
       "<p>100 rows × 1 columns</p>\n",
       "</div>"
      ],
      "text/plain": [
       "    Systolic\n",
       "0        124\n",
       "1        109\n",
       "2        125\n",
       "3        117\n",
       "4        122\n",
       "..       ...\n",
       "95       128\n",
       "96       124\n",
       "97       119\n",
       "98       136\n",
       "99       114\n",
       "\n",
       "[100 rows x 1 columns]"
      ]
     },
     "execution_count": 20,
     "metadata": {},
     "output_type": "execute_result"
    }
   ],
   "source": [
    "Y = patient[['Systolic']]\n",
    "Y"
   ]
  },
  {
   "cell_type": "markdown",
   "id": "955e7ecb-f190-4383-ac02-1f96ae53c177",
   "metadata": {},
   "source": [
    "Combine all pre-processed columns to be used in linear regression model."
   ]
  },
  {
   "cell_type": "code",
   "execution_count": 21,
   "id": "1f18a172-e9f1-46b6-86ad-7b818c388c38",
   "metadata": {},
   "outputs": [],
   "source": [
    "smoking = patient.iloc[:,5]"
   ]
  },
  {
   "cell_type": "code",
   "execution_count": 22,
   "id": "b0e738e3-afbe-4bfb-91b6-dc83d2c2b837",
   "metadata": {},
   "outputs": [],
   "source": [
    "X = pd.concat([num_df_clean, cat_df_clean, smoking], axis=1)"
   ]
  },
  {
   "cell_type": "code",
   "execution_count": 23,
   "id": "cc29d6b5-2e7c-41f7-930c-8041b5abb8c5",
   "metadata": {},
   "outputs": [
    {
     "name": "stdout",
     "output_type": "stream",
     "text": [
      "         Age    Height    Weight  Gender_'Female'  \\\n",
      "0  -0.039001  1.392506  0.832128              0.0   \n",
      "1   0.657450  0.683851  0.340416              0.0   \n",
      "2  -0.039001 -1.087784 -0.869952              1.0   \n",
      "3   0.239579 -0.024803 -0.794304              1.0   \n",
      "4   1.493193 -1.087784 -1.323841              1.0   \n",
      "..       ...       ...       ...              ...   \n",
      "95 -1.849776  0.683851  0.643008              0.0   \n",
      "96  0.796741  0.683851  1.286017              0.0   \n",
      "97  1.493193  1.038178  1.210368              0.0   \n",
      "98  0.936031  0.329524  0.680832              0.0   \n",
      "99  1.353902 -0.379130  0.869952              0.0   \n",
      "\n",
      "    Location_'County General Hospital'  Location_'St. Mary's Medical Center'  \\\n",
      "0                                  1.0                                   0.0   \n",
      "1                                  0.0                                   0.0   \n",
      "2                                  0.0                                   1.0   \n",
      "3                                  0.0                                   0.0   \n",
      "4                                  1.0                                   0.0   \n",
      "..                                 ...                                   ...   \n",
      "95                                 1.0                                   0.0   \n",
      "96                                 0.0                                   0.0   \n",
      "97                                 1.0                                   0.0   \n",
      "98                                 1.0                                   0.0   \n",
      "99                                 1.0                                   0.0   \n",
      "\n",
      "    SelfAssessedHealthStatus_'Excellent'  SelfAssessedHealthStatus_'Fair'  \\\n",
      "0                                    1.0                              0.0   \n",
      "1                                    0.0                              1.0   \n",
      "2                                    0.0                              0.0   \n",
      "3                                    0.0                              1.0   \n",
      "4                                    0.0                              0.0   \n",
      "..                                   ...                              ...   \n",
      "95                                   0.0                              0.0   \n",
      "96                                   0.0                              0.0   \n",
      "97                                   0.0                              1.0   \n",
      "98                                   0.0                              0.0   \n",
      "99                                   0.0                              1.0   \n",
      "\n",
      "    SelfAssessedHealthStatus_'Good'  Smoker  \n",
      "0                               0.0       1  \n",
      "1                               0.0       0  \n",
      "2                               1.0       0  \n",
      "3                               0.0       0  \n",
      "4                               1.0       0  \n",
      "..                              ...     ...  \n",
      "95                              1.0       1  \n",
      "96                              1.0       1  \n",
      "97                              0.0       0  \n",
      "98                              1.0       1  \n",
      "99                              0.0       0  \n",
      "\n",
      "[100 rows x 10 columns]\n"
     ]
    }
   ],
   "source": [
    "print(X)"
   ]
  },
  {
   "cell_type": "markdown",
   "id": "05afdea0-80b8-487f-bba8-0b27da01f683",
   "metadata": {},
   "source": [
    "Perform linear regression model on train and testing datasets."
   ]
  },
  {
   "cell_type": "code",
   "execution_count": 24,
   "id": "ba62ec25-db3e-4e14-a49c-c30c8f7a90dd",
   "metadata": {},
   "outputs": [
    {
     "name": "stdout",
     "output_type": "stream",
     "text": [
      "(80, 10) (20, 10) (80, 1) (20, 1)\n",
      "Coefficients: \n",
      " [[ 0.4144811   1.44918084 -1.22769637  0.11132322  1.17372403  0.57112842\n",
      "  -1.29785555 -2.26349276  0.63191715 10.14294558]]\n",
      "RMSE: 30.90\n",
      "Variance score: 0.32\n"
     ]
    }
   ],
   "source": [
    "X_train, x_test, y_train, y_test = train_test_split(X, Y, test_size = .2, random_state = 1234)\n",
    "print(X_train.shape, x_test.shape, y_train.shape, y_test.shape)\n",
    "\n",
    "regr= linear_model.LinearRegression()\n",
    "\n",
    "# Train the model using the training sets\n",
    "regr.fit(X_train, y_train)\n",
    "\n",
    "\n",
    "# Make predictions using the testing set\n",
    "y_pred = regr.predict(x_test)\n",
    "\n",
    "# The coefficients\n",
    "print('Coefficients: \\n', regr.coef_ )\n",
    "\n",
    "# The mean squared error\n",
    "print(\"RMSE: %.2f\"  %mean_squared_error(y_test, y_pred))\n",
    "\n",
    "# score: 1 = perfect prediction\n",
    "print(\"Variance score: %.2f\" % r2_score(y_test, y_pred))"
   ]
  },
  {
   "cell_type": "code",
   "execution_count": 25,
   "id": "0233a17e-596e-42a9-b2fd-12b8d0f6d21d",
   "metadata": {},
   "outputs": [
    {
     "data": {
      "image/png": "[encoded data removed]",
      "text/plain": [
       "<Figure size 432x288 with 1 Axes>"
      ]
     },
     "execution_count": 25,
     "metadata": {},
     "output_type": "execute_result"
    },
    {
     "data": {
      "image/png": "[encoded data removed]",
      "text/plain": [
       "<Figure size 432x288 with 1 Axes>"
      ]
     },
     "metadata": {
      "needs_background": "light"
     },
     "output_type": "display_data"
    }
   ],
   "source": [
    "residuals = y_pred - y_test\n",
    "from statsmodels.graphics.gofplots import qqplot\n",
    "qqplot(residuals, line = 'q')"
   ]
  },
  {
   "cell_type": "markdown",
   "id": "bffa5772-653c-4ae6-b26c-74500b628f2d",
   "metadata": {},
   "source": [
    "**3. What are the regression coefficients (thetas)?**"
   ]
  },
  {
   "cell_type": "code",
   "execution_count": 26,
   "id": "4b9cf829-8f18-4f4f-a2dc-f29049fd2a1e",
   "metadata": {},
   "outputs": [
    {
     "name": "stdout",
     "output_type": "stream",
     "text": [
      "The regression coefficients are: \n",
      " [[ 0.4144811   1.44918084 -1.22769637  0.11132322  1.17372403  0.57112842\n",
      "  -1.29785555 -2.26349276  0.63191715 10.14294558]] \n",
      "and a more concrete summary is below.\n"
     ]
    }
   ],
   "source": [
    "print('The regression coefficients are: \\n', regr.coef_ , '\\nand a more concrete summary is below.')"
   ]
  },
  {
   "cell_type": "code",
   "execution_count": 27,
   "id": "d54ce4e4-2d7a-495c-ba54-0cee0a10464f",
   "metadata": {},
   "outputs": [
    {
     "name": "stdout",
     "output_type": "stream",
     "text": [
      "                            OLS Regression Results                            \n",
      "==============================================================================\n",
      "Dep. Variable:               Systolic   R-squared:                       0.594\n",
      "Model:                            OLS   Adj. R-squared:                  0.535\n",
      "Method:                 Least Squares   F-statistic:                     10.08\n",
      "Date:                Tue, 15 Feb 2022   Prob (F-statistic):           3.39e-10\n",
      "Time:                        21:37:47   Log-Likelihood:                -229.00\n",
      "No. Observations:                  80   AIC:                             480.0\n",
      "Df Residuals:                      69   BIC:                             506.2\n",
      "Df Model:                          10                                         \n",
      "Covariance Type:            nonrobust                                         \n",
      "========================================================================================================\n",
      "                                           coef    std err          t      P>|t|      [0.025      0.975]\n",
      "--------------------------------------------------------------------------------------------------------\n",
      "const                                  119.2181      2.466     48.352      0.000     114.299     124.137\n",
      "Age                                      0.4145      0.531      0.781      0.438      -0.645       1.474\n",
      "Height                                   1.4492      0.736      1.969      0.053      -0.019       2.917\n",
      "Weight                                  -1.2277      1.696     -0.724      0.472      -4.612       2.156\n",
      "Gender_'Female'                          0.1113      3.559      0.031      0.975      -6.990       7.212\n",
      "Location_'County General Hospital'       1.1737      1.240      0.946      0.347      -1.301       3.648\n",
      "Location_'St. Mary's Medical Center'     0.5711      1.393      0.410      0.683      -2.208       3.351\n",
      "SelfAssessedHealthStatus_'Excellent'    -1.2979      1.658     -0.783      0.437      -4.606       2.010\n",
      "SelfAssessedHealthStatus_'Fair'         -2.2635      1.951     -1.160      0.250      -6.157       1.630\n",
      "SelfAssessedHealthStatus_'Good'          0.6319      1.648      0.384      0.702      -2.655       3.919\n",
      "Smoker                                  10.1429      1.122      9.041      0.000       7.905      12.381\n",
      "==============================================================================\n",
      "Omnibus:                        5.333   Durbin-Watson:                   1.884\n",
      "Prob(Omnibus):                  0.070   Jarque-Bera (JB):                5.224\n",
      "Skew:                           0.624   Prob(JB):                       0.0734\n",
      "Kurtosis:                       2.914   Cond. No.                         12.5\n",
      "==============================================================================\n",
      "\n",
      "Notes:\n",
      "[1] Standard Errors assume that the covariance matrix of the errors is correctly specified.\n"
     ]
    }
   ],
   "source": [
    "model = sm.OLS(y_train, sm.add_constant(X_train))\n",
    "model_fit =model.fit()\n",
    "print(model_fit.summary())"
   ]
  },
  {
   "cell_type": "markdown",
   "id": "6c508698-c5c5-4e41-b047-863b863764e0",
   "metadata": {},
   "source": [
    "**4. How do you interpret those numbers in thetas?**"
   ]
  },
  {
   "cell_type": "markdown",
   "id": "2cc9faa2-6cef-470e-9b4e-dc763a44b6fd",
   "metadata": {},
   "source": [
    "I interepret the thetas as:\n",
    "- Age and Height show to have slightly elevated impacts on systolic pressure,\n",
    "- Females have a slightly elevated systolic pressure in comparison to men,\n",
    "- Weight has slightly decreasing impact on systolic pressure,\n",
    "- Smoking by far has the greatest impact on elevated systolic pressures\n",
    "- Those individuals who give themself a 'Fair' or 'Excellent' rating for their SelfAssessedHealth status generally show lower systolic pressure than those who rate themself as 'Poor' or 'Good',\n",
    "- Individuals associated with County General Hospital and St. Mary's medical center generally have more elevated systolic pressures than those associated with the VA."
   ]
  },
  {
   "cell_type": "code",
   "execution_count": 28,
   "id": "ca91e57b-9161-4f4b-977f-abbcb1997411",
   "metadata": {},
   "outputs": [
    {
     "name": "stdout",
     "output_type": "stream",
     "text": [
      "(80, 10) (20, 10) (80, 1) (20, 1)\n"
     ]
    }
   ],
   "source": [
    "print(X_train.shape, x_test.shape, y_train.shape, y_test.shape)"
   ]
  },
  {
   "cell_type": "code",
   "execution_count": 29,
   "id": "217507db-0832-44c8-8243-04ed1f8db522",
   "metadata": {},
   "outputs": [
    {
     "data": {
      "text/plain": [
       "(         Age    Height    Weight  Gender_'Female'  \\\n",
       " 9  -1.014034 -0.379130 -0.832128              1.0   \n",
       " 51  0.796741 -1.796438 -0.680832              1.0   \n",
       " 29 -1.153324 -0.024803  1.210368              0.0   \n",
       " 88 -1.014034 -0.379130 -0.491712              1.0   \n",
       " 75 -1.014034  1.746833  0.907776              0.0   \n",
       " \n",
       "     Location_'County General Hospital'  Location_'St. Mary's Medical Center'  \\\n",
       " 9                                  1.0                                   0.0   \n",
       " 51                                 0.0                                   1.0   \n",
       " 29                                 1.0                                   0.0   \n",
       " 88                                 0.0                                   0.0   \n",
       " 75                                 0.0                                   0.0   \n",
       " \n",
       "     SelfAssessedHealthStatus_'Excellent'  SelfAssessedHealthStatus_'Fair'  \\\n",
       " 9                                    1.0                              0.0   \n",
       " 51                                   0.0                              0.0   \n",
       " 29                                   1.0                              0.0   \n",
       " 88                                   0.0                              0.0   \n",
       " 75                                   0.0                              1.0   \n",
       " \n",
       "     SelfAssessedHealthStatus_'Good'  Smoker  \n",
       " 9                               0.0       0  \n",
       " 51                              1.0       1  \n",
       " 29                              0.0       1  \n",
       " 88                              1.0       1  \n",
       " 75                              0.0       1  ,\n",
       "     Systolic\n",
       " 9        118\n",
       " 51       130\n",
       " 29       127\n",
       " 88       123\n",
       " 75       124)"
      ]
     },
     "execution_count": 29,
     "metadata": {},
     "output_type": "execute_result"
    }
   ],
   "source": [
    "X_train.head(), y_train.head()"
   ]
  },
  {
   "cell_type": "code",
   "execution_count": 30,
   "id": "11252eb0-d5f2-47de-8bf2-593ab0ebcbcf",
   "metadata": {},
   "outputs": [],
   "source": [
    "outliers = model_fit.get_influence()\n",
    "leverage = outliers.hat_matrix_diag\n",
    "dffits = outliers.dffits[0]\n",
    "resid_stu = outliers.resid_studentized_external\n",
    "cook = outliers.cooks_distance[0]\n",
    "contat1 = pd.concat([pd.Series(leverage, name = 'leverage'),pd.Series(dffits, name = 'dffits'),\n",
    "                     pd.Series(resid_stu,name = 'resid_stu'),pd.Series(cook, name = 'cook')],axis = 1)\n",
    "X_train.index = range(X_train.shape[0])\n",
    "df_outliers = pd.concat([X_train,contat1], axis = 1)\n",
    "outlier_rows = np.where(np.abs(df_outliers.resid_stu)>2)"
   ]
  },
  {
   "cell_type": "code",
   "execution_count": 31,
   "id": "b7f0eb62-0640-471d-b2e4-21c79da3182e",
   "metadata": {},
   "outputs": [],
   "source": [
    "y_train.index = range(y_train.shape[0])"
   ]
  },
  {
   "cell_type": "markdown",
   "id": "524a4e84-8aa0-4f48-ba96-ae60a581c79e",
   "metadata": {},
   "source": [
    "**5. If you need to identify one outlier record, which record is a potential outlier? How do you reach this conclusion?**"
   ]
  },
  {
   "cell_type": "code",
   "execution_count": 32,
   "id": "cd30784b-1f99-41ec-92b3-93389894e18e",
   "metadata": {},
   "outputs": [
    {
     "name": "stdout",
     "output_type": "stream",
     "text": [
      "\n",
      "5. The outliers are: (array([36, 64, 66, 68, 78]),) \n",
      "\n"
     ]
    }
   ],
   "source": [
    "print(\"\\n5. The outliers are:\", outlier_rows, '\\n')"
   ]
  },
  {
   "cell_type": "markdown",
   "id": "77f33200-4540-440b-bfad-3e58d24a32f2",
   "metadata": {},
   "source": [
    "I came to this conclusion by determining the level of influence on each of the fitted data points, influence being loosely defined as deleting the observations one at a time and refitting the regression model and comparing the current model vs the new model with the observation deleted (https://online.stat.psu.edu/stat462/node/173/).  I measured the distance of the data points to the model using three different methods, and any standardized outlier greater than 2 standard deviations away from the model was identified and flagged as an outlier for potential removal from the model."
   ]
  },
  {
   "cell_type": "code",
   "execution_count": 33,
   "id": "c853d3c9-ccc0-49e1-85b3-848f7d604e95",
   "metadata": {},
   "outputs": [],
   "source": [
    "X_1 = X_train.drop(outlier_rows[0])  # outliers\n",
    "y = y_train.drop(outlier_rows[0])"
   ]
  },
  {
   "cell_type": "code",
   "execution_count": 34,
   "id": "57d49821-e285-45a3-befb-290e6eb5e0ba",
   "metadata": {},
   "outputs": [
    {
     "name": "stdout",
     "output_type": "stream",
     "text": [
      "(75, 10) (75, 1)\n"
     ]
    }
   ],
   "source": [
    "print(X_1.shape, y.shape)"
   ]
  },
  {
   "cell_type": "code",
   "execution_count": 35,
   "id": "b6576c7c-8b27-4094-9211-160dbf5d657e",
   "metadata": {},
   "outputs": [],
   "source": [
    "X_1train, X_1test, y_1train, y_1test = train_test_split(X_1,y,test_size = 0.20)\n",
    "reg = linear_model.LinearRegression()\n",
    "reg.fit(X_1train, y_1train)\n",
    "y_1pred = reg.predict(X_1test)"
   ]
  },
  {
   "cell_type": "code",
   "execution_count": 36,
   "id": "b547cf06-c9aa-4c73-9a96-4a937c0fb770",
   "metadata": {},
   "outputs": [
    {
     "name": "stdout",
     "output_type": "stream",
     "text": [
      "\n",
      "RMSE: 4.56\n",
      "                            OLS Regression Results                            \n",
      "==============================================================================\n",
      "Dep. Variable:               Systolic   R-squared:                       0.708\n",
      "Model:                            OLS   Adj. R-squared:                  0.648\n",
      "Method:                 Least Squares   F-statistic:                     11.87\n",
      "Date:                Tue, 15 Feb 2022   Prob (F-statistic):           4.79e-10\n",
      "Time:                        21:37:47   Log-Likelihood:                -157.11\n",
      "No. Observations:                  60   AIC:                             336.2\n",
      "Df Residuals:                      49   BIC:                             359.3\n",
      "Df Model:                          10                                         \n",
      "Covariance Type:            nonrobust                                         \n",
      "========================================================================================================\n",
      "                                           coef    std err          t      P>|t|      [0.025      0.975]\n",
      "--------------------------------------------------------------------------------------------------------\n",
      "const                                  119.5190      2.354     50.774      0.000     114.789     124.249\n",
      "Age                                      0.3546      0.519      0.683      0.498      -0.688       1.398\n",
      "Height                                   2.5450      0.770      3.304      0.002       0.997       4.093\n",
      "Weight                                  -0.1928      1.563     -0.123      0.902      -3.333       2.948\n",
      "Gender_'Female'                          3.4370      3.432      1.001      0.322      -3.460      10.334\n",
      "Location_'County General Hospital'       0.9500      1.201      0.791      0.433      -1.464       3.364\n",
      "Location_'St. Mary's Medical Center'    -1.2809      1.311     -0.977      0.334      -3.916       1.355\n",
      "SelfAssessedHealthStatus_'Excellent'    -3.2533      1.557     -2.090      0.042      -6.382      -0.125\n",
      "SelfAssessedHealthStatus_'Fair'         -4.5258      1.956     -2.313      0.025      -8.457      -0.594\n",
      "SelfAssessedHealthStatus_'Good'          0.0340      1.542      0.022      0.982      -3.064       3.132\n",
      "Smoker                                   8.2202      1.113      7.383      0.000       5.983      10.458\n",
      "==============================================================================\n",
      "Omnibus:                        0.832   Durbin-Watson:                   2.005\n",
      "Prob(Omnibus):                  0.660   Jarque-Bera (JB):                0.919\n",
      "Skew:                           0.248   Prob(JB):                        0.632\n",
      "Kurtosis:                       2.652   Cond. No.                         13.2\n",
      "==============================================================================\n",
      "\n",
      "Notes:\n",
      "[1] Standard Errors assume that the covariance matrix of the errors is correctly specified.\n"
     ]
    }
   ],
   "source": [
    "print(\"\\nRMSE: %.2f\" %(mean_squared_error(y_1test, y_1pred)) ** 0.5)\n",
    "X2 = sm.add_constant(X_1train)\n",
    "RE = sm.OLS(y_1train, X2)\n",
    "RE2 =RE.fit()\n",
    "print(RE2.summary())"
   ]
  },
  {
   "cell_type": "markdown",
   "id": "d605c6a5-d836-4b17-a5d5-645e6405e153",
   "metadata": {},
   "source": [
    "**6. If you need to identify one or few useless features (independent variables or predictors), which one(s) will you choose? Why do you reach this conclusion?**"
   ]
  },
  {
   "cell_type": "markdown",
   "id": "01d6c0dc-a365-4c22-a90f-064f9a3512fe",
   "metadata": {},
   "source": [
    "If I needed to identify one or few useless features, I would choose the features that have least impact on the model, shown by the weight of the coefficient. In this case, I would consider eliminating Gender_Female (eliminating Gender as a factor, Female and Male), Height, and Weight. Theoretically this makes sense, however, in actuallity I would consider having a far greater sample size as those features would fundamentally seem important. If I had to choose only one feature for the entire model, it would be using the 'Smoker' feature, as it appears to have the most impact on predicting Systolic pressure."
   ]
  },
  {
   "cell_type": "code",
   "execution_count": null,
   "id": "16254f7b-f571-4e7c-b8b3-6a0537003775",
   "metadata": {},
   "outputs": [],
   "source": []
  }
 ],
 "metadata": {
  "kernelspec": {
   "display_name": "Python 3 (ipykernel)",
   "language": "python",
   "name": "python3"
  },
  "language_info": {
   "codemirror_mode": {
    "name": "ipython",
    "version": 3
   },
   "file_extension": ".py",
   "mimetype": "text/x-python",
   "name": "python",
   "nbconvert_exporter": "python",
   "pygments_lexer": "ipython3",
   "version": "3.8.12"
  }
 },
 "nbformat": 4,
 "nbformat_minor": 5
}
