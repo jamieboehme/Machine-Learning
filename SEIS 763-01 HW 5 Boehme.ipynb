{
 "cells": [
  {
   "cell_type": "markdown",
   "id": "f0246bde-8b17-4240-8e32-e36091a78b6b",
   "metadata": {},
   "source": [
    "### SEIS 763-01: Homework 5\n",
    "#### Completed by: Jamie Boehme"
   ]
  },
  {
   "cell_type": "markdown",
   "id": "4109acc2-abb8-4c4f-bf9d-c7f4881dcabe",
   "metadata": {},
   "source": [
    "Import libraries needed for analysis."
   ]
  },
  {
   "cell_type": "code",
   "execution_count": 50,
   "id": "8ab2f681-9757-419a-bae7-81236313ce63",
   "metadata": {},
   "outputs": [],
   "source": [
    "import pandas as pd\n",
    "import numpy as np\n",
    "import matplotlib as mp\n",
    "import matplotlib.pyplot as plt \n",
    "from matplotlib.pyplot import figure\n",
    "import seaborn as sns\n",
    "from sklearn import preprocessing\n",
    "from sklearn.preprocessing import StandardScaler\n",
    "from sklearn.preprocessing import OneHotEncoder as SklearnOneHotEncoder\n",
    "from sklearn.model_selection import train_test_split\n",
    "from sklearn import linear_model\n",
    "from sklearn.metrics import mean_squared_error\n",
    "from sklearn.metrics import r2_score\n",
    "import statsmodels.api as sm\n",
    "from sklearn.linear_model import LogisticRegressionCV, LassoCV, LassoLarsCV, Lasso\n",
    "from sklearn.metrics import classification_report\n",
    "from sklearn.model_selection import KFold"
   ]
  },
  {
   "cell_type": "markdown",
   "id": "c2008ee9-9670-4d81-a2ca-d209d2ae83c7",
   "metadata": {},
   "source": [
    "Import cell DNA data from “ML_HW_Data_CellDNA.csv” file located on Github."
   ]
  },
  {
   "cell_type": "code",
   "execution_count": 51,
   "id": "162d9ffb-21de-4138-8917-173e4a4c9394",
   "metadata": {},
   "outputs": [
    {
     "data": {
      "text/html": [
       "<div>\n",
       "<style scoped>\n",
       "    .dataframe tbody tr th:only-of-type {\n",
       "        vertical-align: middle;\n",
       "    }\n",
       "\n",
       "    .dataframe tbody tr th {\n",
       "        vertical-align: top;\n",
       "    }\n",
       "\n",
       "    .dataframe thead th {\n",
       "        text-align: right;\n",
       "    }\n",
       "</style>\n",
       "<table border=\"1\" class=\"dataframe\">\n",
       "  <thead>\n",
       "    <tr style=\"text-align: right;\">\n",
       "      <th></th>\n",
       "      <th>V1</th>\n",
       "      <th>V2</th>\n",
       "      <th>V3</th>\n",
       "      <th>V4</th>\n",
       "      <th>V5</th>\n",
       "      <th>V6</th>\n",
       "      <th>V7</th>\n",
       "      <th>V8</th>\n",
       "      <th>V9</th>\n",
       "      <th>V10</th>\n",
       "      <th>V11</th>\n",
       "      <th>V12</th>\n",
       "      <th>V13</th>\n",
       "      <th>Target</th>\n",
       "    </tr>\n",
       "  </thead>\n",
       "  <tbody>\n",
       "    <tr>\n",
       "      <th>0</th>\n",
       "      <td>222</td>\n",
       "      <td>31.189189</td>\n",
       "      <td>40.342342</td>\n",
       "      <td>35.579087</td>\n",
       "      <td>8.883917</td>\n",
       "      <td>0.968325</td>\n",
       "      <td>-80.113673</td>\n",
       "      <td>222</td>\n",
       "      <td>1</td>\n",
       "      <td>16.812471</td>\n",
       "      <td>0.816176</td>\n",
       "      <td>0.578125</td>\n",
       "      <td>78.591</td>\n",
       "      <td>0</td>\n",
       "    </tr>\n",
       "    <tr>\n",
       "      <th>1</th>\n",
       "      <td>73</td>\n",
       "      <td>29.493151</td>\n",
       "      <td>271.397260</td>\n",
       "      <td>15.517202</td>\n",
       "      <td>6.407490</td>\n",
       "      <td>0.910764</td>\n",
       "      <td>76.042946</td>\n",
       "      <td>73</td>\n",
       "      <td>1</td>\n",
       "      <td>9.640876</td>\n",
       "      <td>0.858824</td>\n",
       "      <td>0.608333</td>\n",
       "      <td>39.217</td>\n",
       "      <td>0</td>\n",
       "    </tr>\n",
       "    <tr>\n",
       "      <th>2</th>\n",
       "      <td>256</td>\n",
       "      <td>58.816406</td>\n",
       "      <td>289.941406</td>\n",
       "      <td>37.226013</td>\n",
       "      <td>9.863895</td>\n",
       "      <td>0.964256</td>\n",
       "      <td>85.324742</td>\n",
       "      <td>256</td>\n",
       "      <td>1</td>\n",
       "      <td>18.054067</td>\n",
       "      <td>0.752941</td>\n",
       "      <td>0.562637</td>\n",
       "      <td>89.111</td>\n",
       "      <td>0</td>\n",
       "    </tr>\n",
       "    <tr>\n",
       "      <th>3</th>\n",
       "      <td>126</td>\n",
       "      <td>71.023810</td>\n",
       "      <td>477.412698</td>\n",
       "      <td>13.112980</td>\n",
       "      <td>12.790672</td>\n",
       "      <td>0.220351</td>\n",
       "      <td>63.523477</td>\n",
       "      <td>126</td>\n",
       "      <td>1</td>\n",
       "      <td>12.666025</td>\n",
       "      <td>0.881119</td>\n",
       "      <td>0.646154</td>\n",
       "      <td>43.832</td>\n",
       "      <td>0</td>\n",
       "    </tr>\n",
       "    <tr>\n",
       "      <th>4</th>\n",
       "      <td>225</td>\n",
       "      <td>90.808889</td>\n",
       "      <td>541.946667</td>\n",
       "      <td>44.463110</td>\n",
       "      <td>7.858879</td>\n",
       "      <td>0.984256</td>\n",
       "      <td>-52.874983</td>\n",
       "      <td>225</td>\n",
       "      <td>1</td>\n",
       "      <td>16.925688</td>\n",
       "      <td>0.728155</td>\n",
       "      <td>0.252525</td>\n",
       "      <td>90.072</td>\n",
       "      <td>7</td>\n",
       "    </tr>\n",
       "  </tbody>\n",
       "</table>\n",
       "</div>"
      ],
      "text/plain": [
       "    V1         V2          V3         V4         V5        V6         V7   V8  \\\n",
       "0  222  31.189189   40.342342  35.579087   8.883917  0.968325 -80.113673  222   \n",
       "1   73  29.493151  271.397260  15.517202   6.407490  0.910764  76.042946   73   \n",
       "2  256  58.816406  289.941406  37.226013   9.863895  0.964256  85.324742  256   \n",
       "3  126  71.023810  477.412698  13.112980  12.790672  0.220351  63.523477  126   \n",
       "4  225  90.808889  541.946667  44.463110   7.858879  0.984256 -52.874983  225   \n",
       "\n",
       "   V9        V10       V11       V12     V13  Target  \n",
       "0   1  16.812471  0.816176  0.578125  78.591       0  \n",
       "1   1   9.640876  0.858824  0.608333  39.217       0  \n",
       "2   1  18.054067  0.752941  0.562637  89.111       0  \n",
       "3   1  12.666025  0.881119  0.646154  43.832       0  \n",
       "4   1  16.925688  0.728155  0.252525  90.072       7  "
      ]
     },
     "execution_count": 51,
     "metadata": {},
     "output_type": "execute_result"
    }
   ],
   "source": [
    "file = 'https://raw.githubusercontent.com/jamieboehme/Machine-Learning/main/ML_HW_Data_CellDNA.csv'\n",
    "cell = pd.read_csv(file, header=None)\n",
    "cell.columns = ['V1','V2','V3','V4','V5','V6','V7','V8','V9','V10','V11','V12','V13','Target']\n",
    "cell.head()"
   ]
  },
  {
   "cell_type": "markdown",
   "id": "50befb0a-43a6-48ab-b3a8-9f74c7f0a60d",
   "metadata": {},
   "source": [
    "Do some exploratory analysis of the dataset including: reviewing number of columns and rows, data types, and overall shape of each column. Determine if there appear to be any obvious outliers. Check if there are any null values that will need to be taken care of prior to building a linear regression model."
   ]
  },
  {
   "cell_type": "code",
   "execution_count": 52,
   "id": "9a07c1fa-e092-4ce1-88b0-d5af987d970d",
   "metadata": {},
   "outputs": [
    {
     "data": {
      "text/plain": [
       "(1217, 14)"
      ]
     },
     "execution_count": 52,
     "metadata": {},
     "output_type": "execute_result"
    }
   ],
   "source": [
    "cell.shape"
   ]
  },
  {
   "cell_type": "code",
   "execution_count": 53,
   "id": "30ff967f-7274-4ec6-bbc5-faade0246b5b",
   "metadata": {},
   "outputs": [
    {
     "data": {
      "text/plain": [
       "Index(['V1', 'V2', 'V3', 'V4', 'V5', 'V6', 'V7', 'V8', 'V9', 'V10', 'V11',\n",
       "       'V12', 'V13', 'Target'],\n",
       "      dtype='object')"
      ]
     },
     "execution_count": 53,
     "metadata": {},
     "output_type": "execute_result"
    }
   ],
   "source": [
    "cell.columns"
   ]
  },
  {
   "cell_type": "code",
   "execution_count": 54,
   "id": "2495283d-20f6-4d08-a937-a318654df724",
   "metadata": {},
   "outputs": [
    {
     "data": {
      "text/plain": [
       "V1          int64\n",
       "V2        float64\n",
       "V3        float64\n",
       "V4        float64\n",
       "V5        float64\n",
       "V6        float64\n",
       "V7        float64\n",
       "V8          int64\n",
       "V9          int64\n",
       "V10       float64\n",
       "V11       float64\n",
       "V12       float64\n",
       "V13       float64\n",
       "Target      int64\n",
       "dtype: object"
      ]
     },
     "execution_count": 54,
     "metadata": {},
     "output_type": "execute_result"
    }
   ],
   "source": [
    "cell.dtypes"
   ]
  },
  {
   "cell_type": "code",
   "execution_count": 55,
   "id": "706558be-851d-4888-a51a-d4d4b14fbe84",
   "metadata": {},
   "outputs": [
    {
     "data": {
      "text/html": [
       "<div>\n",
       "<style scoped>\n",
       "    .dataframe tbody tr th:only-of-type {\n",
       "        vertical-align: middle;\n",
       "    }\n",
       "\n",
       "    .dataframe tbody tr th {\n",
       "        vertical-align: top;\n",
       "    }\n",
       "\n",
       "    .dataframe thead th {\n",
       "        text-align: right;\n",
       "    }\n",
       "</style>\n",
       "<table border=\"1\" class=\"dataframe\">\n",
       "  <thead>\n",
       "    <tr style=\"text-align: right;\">\n",
       "      <th></th>\n",
       "      <th>V1</th>\n",
       "      <th>V2</th>\n",
       "      <th>V3</th>\n",
       "      <th>V4</th>\n",
       "      <th>V5</th>\n",
       "      <th>V6</th>\n",
       "      <th>V7</th>\n",
       "      <th>V8</th>\n",
       "      <th>V9</th>\n",
       "      <th>V10</th>\n",
       "      <th>V11</th>\n",
       "      <th>V12</th>\n",
       "      <th>V13</th>\n",
       "      <th>Target</th>\n",
       "    </tr>\n",
       "  </thead>\n",
       "  <tbody>\n",
       "    <tr>\n",
       "      <th>count</th>\n",
       "      <td>1217.000000</td>\n",
       "      <td>1217.000000</td>\n",
       "      <td>1217.000000</td>\n",
       "      <td>1217.000000</td>\n",
       "      <td>1217.000000</td>\n",
       "      <td>1217.000000</td>\n",
       "      <td>1217.000000</td>\n",
       "      <td>1217.000000</td>\n",
       "      <td>1217.000000</td>\n",
       "      <td>1217.000000</td>\n",
       "      <td>1217.000000</td>\n",
       "      <td>1217.000000</td>\n",
       "      <td>1217.000000</td>\n",
       "      <td>1217.000000</td>\n",
       "    </tr>\n",
       "    <tr>\n",
       "      <th>mean</th>\n",
       "      <td>200.366475</td>\n",
       "      <td>419.476953</td>\n",
       "      <td>211.335155</td>\n",
       "      <td>33.388599</td>\n",
       "      <td>9.376939</td>\n",
       "      <td>0.908628</td>\n",
       "      <td>0.160337</td>\n",
       "      <td>202.640099</td>\n",
       "      <td>0.516845</td>\n",
       "      <td>15.288929</td>\n",
       "      <td>0.775538</td>\n",
       "      <td>0.474788</td>\n",
       "      <td>78.928198</td>\n",
       "      <td>0.903862</td>\n",
       "    </tr>\n",
       "    <tr>\n",
       "      <th>std</th>\n",
       "      <td>135.665649</td>\n",
       "      <td>215.563920</td>\n",
       "      <td>141.592818</td>\n",
       "      <td>19.152143</td>\n",
       "      <td>3.634969</td>\n",
       "      <td>0.110942</td>\n",
       "      <td>50.589440</td>\n",
       "      <td>142.585975</td>\n",
       "      <td>2.071880</td>\n",
       "      <td>4.623930</td>\n",
       "      <td>0.117802</td>\n",
       "      <td>0.158341</td>\n",
       "      <td>48.798548</td>\n",
       "      <td>2.348318</td>\n",
       "    </tr>\n",
       "    <tr>\n",
       "      <th>min</th>\n",
       "      <td>70.000000</td>\n",
       "      <td>28.176471</td>\n",
       "      <td>27.870130</td>\n",
       "      <td>10.282437</td>\n",
       "      <td>3.080963</td>\n",
       "      <td>0.218074</td>\n",
       "      <td>-89.531335</td>\n",
       "      <td>70.000000</td>\n",
       "      <td>-26.000000</td>\n",
       "      <td>9.440697</td>\n",
       "      <td>0.261049</td>\n",
       "      <td>0.114482</td>\n",
       "      <td>28.193000</td>\n",
       "      <td>0.000000</td>\n",
       "    </tr>\n",
       "    <tr>\n",
       "      <th>25%</th>\n",
       "      <td>107.000000</td>\n",
       "      <td>243.400000</td>\n",
       "      <td>96.200000</td>\n",
       "      <td>18.760441</td>\n",
       "      <td>7.529888</td>\n",
       "      <td>0.885337</td>\n",
       "      <td>-41.131405</td>\n",
       "      <td>108.000000</td>\n",
       "      <td>1.000000</td>\n",
       "      <td>11.672045</td>\n",
       "      <td>0.702186</td>\n",
       "      <td>0.353261</td>\n",
       "      <td>45.974000</td>\n",
       "      <td>0.000000</td>\n",
       "    </tr>\n",
       "    <tr>\n",
       "      <th>50%</th>\n",
       "      <td>160.000000</td>\n",
       "      <td>415.360000</td>\n",
       "      <td>183.834286</td>\n",
       "      <td>27.832476</td>\n",
       "      <td>8.463304</td>\n",
       "      <td>0.949998</td>\n",
       "      <td>-0.104479</td>\n",
       "      <td>161.000000</td>\n",
       "      <td>1.000000</td>\n",
       "      <td>14.272993</td>\n",
       "      <td>0.789474</td>\n",
       "      <td>0.474359</td>\n",
       "      <td>66.302000</td>\n",
       "      <td>0.000000</td>\n",
       "    </tr>\n",
       "    <tr>\n",
       "      <th>75%</th>\n",
       "      <td>252.000000</td>\n",
       "      <td>611.128440</td>\n",
       "      <td>292.824742</td>\n",
       "      <td>44.462419</td>\n",
       "      <td>9.801152</td>\n",
       "      <td>0.978903</td>\n",
       "      <td>41.010273</td>\n",
       "      <td>253.000000</td>\n",
       "      <td>1.000000</td>\n",
       "      <td>17.912464</td>\n",
       "      <td>0.866071</td>\n",
       "      <td>0.592593</td>\n",
       "      <td>97.928000</td>\n",
       "      <td>0.000000</td>\n",
       "    </tr>\n",
       "    <tr>\n",
       "      <th>max</th>\n",
       "      <td>1089.000000</td>\n",
       "      <td>773.919643</td>\n",
       "      <td>575.340206</td>\n",
       "      <td>155.330123</td>\n",
       "      <td>43.487111</td>\n",
       "      <td>0.998459</td>\n",
       "      <td>89.881120</td>\n",
       "      <td>1159.000000</td>\n",
       "      <td>1.000000</td>\n",
       "      <td>37.236513</td>\n",
       "      <td>1.000000</td>\n",
       "      <td>0.905882</td>\n",
       "      <td>493.749000</td>\n",
       "      <td>10.000000</td>\n",
       "    </tr>\n",
       "  </tbody>\n",
       "</table>\n",
       "</div>"
      ],
      "text/plain": [
       "                V1           V2           V3           V4           V5  \\\n",
       "count  1217.000000  1217.000000  1217.000000  1217.000000  1217.000000   \n",
       "mean    200.366475   419.476953   211.335155    33.388599     9.376939   \n",
       "std     135.665649   215.563920   141.592818    19.152143     3.634969   \n",
       "min      70.000000    28.176471    27.870130    10.282437     3.080963   \n",
       "25%     107.000000   243.400000    96.200000    18.760441     7.529888   \n",
       "50%     160.000000   415.360000   183.834286    27.832476     8.463304   \n",
       "75%     252.000000   611.128440   292.824742    44.462419     9.801152   \n",
       "max    1089.000000   773.919643   575.340206   155.330123    43.487111   \n",
       "\n",
       "                V6           V7           V8           V9          V10  \\\n",
       "count  1217.000000  1217.000000  1217.000000  1217.000000  1217.000000   \n",
       "mean      0.908628     0.160337   202.640099     0.516845    15.288929   \n",
       "std       0.110942    50.589440   142.585975     2.071880     4.623930   \n",
       "min       0.218074   -89.531335    70.000000   -26.000000     9.440697   \n",
       "25%       0.885337   -41.131405   108.000000     1.000000    11.672045   \n",
       "50%       0.949998    -0.104479   161.000000     1.000000    14.272993   \n",
       "75%       0.978903    41.010273   253.000000     1.000000    17.912464   \n",
       "max       0.998459    89.881120  1159.000000     1.000000    37.236513   \n",
       "\n",
       "               V11          V12          V13       Target  \n",
       "count  1217.000000  1217.000000  1217.000000  1217.000000  \n",
       "mean      0.775538     0.474788    78.928198     0.903862  \n",
       "std       0.117802     0.158341    48.798548     2.348318  \n",
       "min       0.261049     0.114482    28.193000     0.000000  \n",
       "25%       0.702186     0.353261    45.974000     0.000000  \n",
       "50%       0.789474     0.474359    66.302000     0.000000  \n",
       "75%       0.866071     0.592593    97.928000     0.000000  \n",
       "max       1.000000     0.905882   493.749000    10.000000  "
      ]
     },
     "execution_count": 55,
     "metadata": {},
     "output_type": "execute_result"
    }
   ],
   "source": [
    "cell.describe()"
   ]
  },
  {
   "cell_type": "code",
   "execution_count": 56,
   "id": "59dad18e-58e3-4630-ab3b-ddec712c6380",
   "metadata": {},
   "outputs": [
    {
     "data": {
      "text/plain": [
       "V1        0\n",
       "V2        0\n",
       "V3        0\n",
       "V4        0\n",
       "V5        0\n",
       "V6        0\n",
       "V7        0\n",
       "V8        0\n",
       "V9        0\n",
       "V10       0\n",
       "V11       0\n",
       "V12       0\n",
       "V13       0\n",
       "Target    0\n",
       "dtype: int64"
      ]
     },
     "execution_count": 56,
     "metadata": {},
     "output_type": "execute_result"
    }
   ],
   "source": [
    "cell.isnull().sum()"
   ]
  },
  {
   "cell_type": "code",
   "execution_count": 57,
   "id": "95a54928-2faa-4bbd-a43e-8ab858f15ae0",
   "metadata": {},
   "outputs": [
    {
     "data": {
      "image/png": "[encoded data removed]",
      "text/plain": [
       "<Figure size 1008x576 with 13 Axes>"
      ]
     },
     "metadata": {
      "needs_background": "light"
     },
     "output_type": "display_data"
    }
   ],
   "source": [
    "def graph_num(num_variable, dataframe):\n",
    "    sns.histplot(dataframe[num_variable])\n",
    "    \n",
    "num_columns = ['V1','V2','V3','V4','V5','V6','V7','V8','V9','V10','V11','V12','V13']\n",
    "plot_num = plt.figure(figsize=(14,8))\n",
    "plt.suptitle('Distribution of Numerical Variables')\n",
    "\n",
    "plotnum=1\n",
    "for num_var in num_columns:\n",
    "    plt.subplot(4,4,plotnum)\n",
    "    graph_num(num_var, cell)\n",
    "    plotnum +=1\n",
    "plt.show()"
   ]
  },
  {
   "cell_type": "markdown",
   "id": "7f655b05-813c-4425-9032-0b21ff496fcf",
   "metadata": {},
   "source": [
    "The above graphs show that we may have outliers in our data based upon a few distributions - however, without further domain knowledge we will ignore eliminating any data points at this time.\n",
    "\n",
    "Prep the target variable for modeling:\n",
    "- Seperate target variable from the cell dataframe\n",
    "- Convert the target variable back to a dataframe\n",
    "- Replace all values > 0 with a 1 for bivariate analysis"
   ]
  },
  {
   "cell_type": "code",
   "execution_count": 58,
   "id": "11399d51-2617-4c6b-9bbc-70d784550252",
   "metadata": {},
   "outputs": [],
   "source": [
    "target_split = cell.loc[:,'Target']\n",
    "target_split = pd.DataFrame(target_split)\n",
    "target_split.loc[target_split.Target > 0, 'Target'] = 1"
   ]
  },
  {
   "cell_type": "code",
   "execution_count": 59,
   "id": "780e4cf7-d36a-472c-acac-4ef7cd3a09b2",
   "metadata": {},
   "outputs": [
    {
     "data": {
      "text/html": [
       "<div>\n",
       "<style scoped>\n",
       "    .dataframe tbody tr th:only-of-type {\n",
       "        vertical-align: middle;\n",
       "    }\n",
       "\n",
       "    .dataframe tbody tr th {\n",
       "        vertical-align: top;\n",
       "    }\n",
       "\n",
       "    .dataframe thead th {\n",
       "        text-align: right;\n",
       "    }\n",
       "</style>\n",
       "<table border=\"1\" class=\"dataframe\">\n",
       "  <thead>\n",
       "    <tr style=\"text-align: right;\">\n",
       "      <th></th>\n",
       "      <th>Target</th>\n",
       "    </tr>\n",
       "  </thead>\n",
       "  <tbody>\n",
       "    <tr>\n",
       "      <th>count</th>\n",
       "      <td>1217.000000</td>\n",
       "    </tr>\n",
       "    <tr>\n",
       "      <th>mean</th>\n",
       "      <td>0.164339</td>\n",
       "    </tr>\n",
       "    <tr>\n",
       "      <th>std</th>\n",
       "      <td>0.370735</td>\n",
       "    </tr>\n",
       "    <tr>\n",
       "      <th>min</th>\n",
       "      <td>0.000000</td>\n",
       "    </tr>\n",
       "    <tr>\n",
       "      <th>25%</th>\n",
       "      <td>0.000000</td>\n",
       "    </tr>\n",
       "    <tr>\n",
       "      <th>50%</th>\n",
       "      <td>0.000000</td>\n",
       "    </tr>\n",
       "    <tr>\n",
       "      <th>75%</th>\n",
       "      <td>0.000000</td>\n",
       "    </tr>\n",
       "    <tr>\n",
       "      <th>max</th>\n",
       "      <td>1.000000</td>\n",
       "    </tr>\n",
       "  </tbody>\n",
       "</table>\n",
       "</div>"
      ],
      "text/plain": [
       "            Target\n",
       "count  1217.000000\n",
       "mean      0.164339\n",
       "std       0.370735\n",
       "min       0.000000\n",
       "25%       0.000000\n",
       "50%       0.000000\n",
       "75%       0.000000\n",
       "max       1.000000"
      ]
     },
     "execution_count": 59,
     "metadata": {},
     "output_type": "execute_result"
    }
   ],
   "source": [
    "target_split.describe()"
   ]
  },
  {
   "cell_type": "code",
   "execution_count": 60,
   "id": "a20d7637-be9e-44dc-a7ab-9dac6b9f042e",
   "metadata": {},
   "outputs": [],
   "source": [
    "Y = target_split.values.ravel()"
   ]
  },
  {
   "cell_type": "markdown",
   "id": "91345247-904c-4fdd-ab33-431bf8dcc964",
   "metadata": {},
   "source": [
    "Standardize numeric variables for the purposes of modeling."
   ]
  },
  {
   "cell_type": "code",
   "execution_count": 61,
   "id": "25037f51-bb47-48b3-972c-b1b81cc33766",
   "metadata": {},
   "outputs": [],
   "source": [
    "cell_predictors = cell.iloc[:,0:13]"
   ]
  },
  {
   "cell_type": "code",
   "execution_count": 62,
   "id": "6329bc14-97e8-45d2-9da4-e6798a827cd3",
   "metadata": {},
   "outputs": [
    {
     "data": {
      "text/html": [
       "<div>\n",
       "<style scoped>\n",
       "    .dataframe tbody tr th:only-of-type {\n",
       "        vertical-align: middle;\n",
       "    }\n",
       "\n",
       "    .dataframe tbody tr th {\n",
       "        vertical-align: top;\n",
       "    }\n",
       "\n",
       "    .dataframe thead th {\n",
       "        text-align: right;\n",
       "    }\n",
       "</style>\n",
       "<table border=\"1\" class=\"dataframe\">\n",
       "  <thead>\n",
       "    <tr style=\"text-align: right;\">\n",
       "      <th></th>\n",
       "      <th>V1</th>\n",
       "      <th>V2</th>\n",
       "      <th>V3</th>\n",
       "      <th>V4</th>\n",
       "      <th>V5</th>\n",
       "      <th>V6</th>\n",
       "      <th>V7</th>\n",
       "      <th>V8</th>\n",
       "      <th>V9</th>\n",
       "      <th>V10</th>\n",
       "      <th>V11</th>\n",
       "      <th>V12</th>\n",
       "      <th>V13</th>\n",
       "    </tr>\n",
       "  </thead>\n",
       "  <tbody>\n",
       "    <tr>\n",
       "      <th>0</th>\n",
       "      <td>222</td>\n",
       "      <td>31.189189</td>\n",
       "      <td>40.342342</td>\n",
       "      <td>35.579087</td>\n",
       "      <td>8.883917</td>\n",
       "      <td>0.968325</td>\n",
       "      <td>-80.113673</td>\n",
       "      <td>222</td>\n",
       "      <td>1</td>\n",
       "      <td>16.812471</td>\n",
       "      <td>0.816176</td>\n",
       "      <td>0.578125</td>\n",
       "      <td>78.591</td>\n",
       "    </tr>\n",
       "    <tr>\n",
       "      <th>1</th>\n",
       "      <td>73</td>\n",
       "      <td>29.493151</td>\n",
       "      <td>271.397260</td>\n",
       "      <td>15.517202</td>\n",
       "      <td>6.407490</td>\n",
       "      <td>0.910764</td>\n",
       "      <td>76.042946</td>\n",
       "      <td>73</td>\n",
       "      <td>1</td>\n",
       "      <td>9.640876</td>\n",
       "      <td>0.858824</td>\n",
       "      <td>0.608333</td>\n",
       "      <td>39.217</td>\n",
       "    </tr>\n",
       "    <tr>\n",
       "      <th>2</th>\n",
       "      <td>256</td>\n",
       "      <td>58.816406</td>\n",
       "      <td>289.941406</td>\n",
       "      <td>37.226013</td>\n",
       "      <td>9.863895</td>\n",
       "      <td>0.964256</td>\n",
       "      <td>85.324742</td>\n",
       "      <td>256</td>\n",
       "      <td>1</td>\n",
       "      <td>18.054067</td>\n",
       "      <td>0.752941</td>\n",
       "      <td>0.562637</td>\n",
       "      <td>89.111</td>\n",
       "    </tr>\n",
       "    <tr>\n",
       "      <th>3</th>\n",
       "      <td>126</td>\n",
       "      <td>71.023810</td>\n",
       "      <td>477.412698</td>\n",
       "      <td>13.112980</td>\n",
       "      <td>12.790672</td>\n",
       "      <td>0.220351</td>\n",
       "      <td>63.523477</td>\n",
       "      <td>126</td>\n",
       "      <td>1</td>\n",
       "      <td>12.666025</td>\n",
       "      <td>0.881119</td>\n",
       "      <td>0.646154</td>\n",
       "      <td>43.832</td>\n",
       "    </tr>\n",
       "    <tr>\n",
       "      <th>4</th>\n",
       "      <td>225</td>\n",
       "      <td>90.808889</td>\n",
       "      <td>541.946667</td>\n",
       "      <td>44.463110</td>\n",
       "      <td>7.858879</td>\n",
       "      <td>0.984256</td>\n",
       "      <td>-52.874983</td>\n",
       "      <td>225</td>\n",
       "      <td>1</td>\n",
       "      <td>16.925688</td>\n",
       "      <td>0.728155</td>\n",
       "      <td>0.252525</td>\n",
       "      <td>90.072</td>\n",
       "    </tr>\n",
       "  </tbody>\n",
       "</table>\n",
       "</div>"
      ],
      "text/plain": [
       "    V1         V2          V3         V4         V5        V6         V7   V8  \\\n",
       "0  222  31.189189   40.342342  35.579087   8.883917  0.968325 -80.113673  222   \n",
       "1   73  29.493151  271.397260  15.517202   6.407490  0.910764  76.042946   73   \n",
       "2  256  58.816406  289.941406  37.226013   9.863895  0.964256  85.324742  256   \n",
       "3  126  71.023810  477.412698  13.112980  12.790672  0.220351  63.523477  126   \n",
       "4  225  90.808889  541.946667  44.463110   7.858879  0.984256 -52.874983  225   \n",
       "\n",
       "   V9        V10       V11       V12     V13  \n",
       "0   1  16.812471  0.816176  0.578125  78.591  \n",
       "1   1   9.640876  0.858824  0.608333  39.217  \n",
       "2   1  18.054067  0.752941  0.562637  89.111  \n",
       "3   1  12.666025  0.881119  0.646154  43.832  \n",
       "4   1  16.925688  0.728155  0.252525  90.072  "
      ]
     },
     "execution_count": 62,
     "metadata": {},
     "output_type": "execute_result"
    }
   ],
   "source": [
    "cell_predictors.head()"
   ]
  },
  {
   "cell_type": "code",
   "execution_count": 63,
   "id": "9dad8886-fc54-4627-9f92-7611c8d2fb13",
   "metadata": {},
   "outputs": [
    {
     "name": "stdout",
     "output_type": "stream",
     "text": [
      "            0         1         2         3         4         5         6   \\\n",
      "0     0.159528 -1.802006 -1.208134  0.114420 -0.135689  0.538311 -1.587426   \n",
      "1    -0.939212 -1.809877  0.424363 -0.933511 -0.817247  0.019258  1.500586   \n",
      "2     0.410247 -1.673790  0.555385  0.200447  0.134019  0.501621  1.684134   \n",
      "3    -0.548385 -1.617137  1.879947 -1.059096  0.939523 -6.206504  1.253012   \n",
      "4     0.181650 -1.525316  2.335905  0.578476 -0.417798  0.681969 -1.048779   \n",
      "...        ...       ...       ...       ...       ...       ...       ...   \n",
      "1212  0.115283  1.480684  0.036132  0.252878  0.049329  0.537678  0.250896   \n",
      "1213  0.941181  1.528803 -1.156399  1.554010 -0.075675  0.729753  1.142193   \n",
      "1214 -0.762234  1.588181 -0.028590 -0.555628 -0.315562  0.213238 -0.491114   \n",
      "1215  0.166902  1.629782  0.170750  1.050082 -0.201979  0.705453  1.445251   \n",
      "1216 -0.835975  1.603325  0.383793 -1.040983 -0.235315 -1.213681  0.364560   \n",
      "\n",
      "            7         8         9         10        11        12  \n",
      "0     0.135833  0.233292  0.329626  0.345115  0.652891 -0.006913  \n",
      "1    -0.909580  0.233292 -1.221986  0.707287  0.843750 -0.814113  \n",
      "2     0.374384  0.233292  0.598252 -0.191898  0.555039  0.208756  \n",
      "3    -0.537722  0.233292 -0.567479  0.896626  1.082702 -0.719501  \n",
      "4     0.156881  0.233292  0.354121 -0.402387 -1.404271  0.228457  \n",
      "...        ...       ...       ...       ...       ...       ...  \n",
      "1212  0.093736  0.233292  0.280134 -1.142965 -0.491097  0.403063  \n",
      "1213  0.879550  0.233292  1.113556 -1.427815 -1.702917  1.076351  \n",
      "1214 -0.741192  0.233292 -0.903431 -1.563216 -0.567787 -0.235784  \n",
      "1215  0.142849  0.233292  0.337809 -1.851643 -1.402317  0.691448  \n",
      "1216 -0.811354  0.233292 -1.030740  1.532912  1.698309 -0.956020  \n",
      "\n",
      "[1217 rows x 13 columns] \n",
      "\n",
      "0     4.086934e-17\n",
      "1     7.006173e-17\n",
      "2    -8.757717e-17\n",
      "3     1.284465e-16\n",
      "4    -1.080118e-16\n",
      "5     1.495380e-15\n",
      "6     8.757717e-18\n",
      "7     5.838478e-17\n",
      "8    -6.422325e-17\n",
      "9     5.196245e-16\n",
      "10   -5.254630e-16\n",
      "11    1.167696e-17\n",
      "12   -5.838478e-17\n",
      "dtype: float64 0     1.000411\n",
      "1     1.000411\n",
      "2     1.000411\n",
      "3     1.000411\n",
      "4     1.000411\n",
      "5     1.000411\n",
      "6     1.000411\n",
      "7     1.000411\n",
      "8     1.000411\n",
      "9     1.000411\n",
      "10    1.000411\n",
      "11    1.000411\n",
      "12    1.000411\n",
      "dtype: float64\n"
     ]
    }
   ],
   "source": [
    "ZX= preprocessing.scale(cell_predictors)\n",
    "X = pd.DataFrame(ZX)\n",
    "print(X, '\\n')\n",
    "print(X.mean(axis=0), \n",
    "X.std(axis=0))"
   ]
  },
  {
   "cell_type": "markdown",
   "id": "05afdea0-80b8-487f-bba8-0b27da01f683",
   "metadata": {},
   "source": [
    "**1. Use logistic + lasso regression with 10-fold cross-validation to\n",
    "identify useful predictors.**"
   ]
  },
  {
   "cell_type": "code",
   "execution_count": 64,
   "id": "9b52b0c8-c295-43c5-80f8-04c9575ef905",
   "metadata": {},
   "outputs": [],
   "source": [
    "x_train, x_test, y_train, y_test = train_test_split(X, Y, test_size = .3, random_state = 1234)"
   ]
  },
  {
   "cell_type": "markdown",
   "id": "05d2b6c3-7ef3-46d8-a8a1-d3b04dad2d64",
   "metadata": {},
   "source": [
    "Create logistic regression model without Lasso (for fun and to see level of accuracy)"
   ]
  },
  {
   "cell_type": "code",
   "execution_count": 65,
   "id": "a09e3197-0c4d-4958-833f-10fe6c5240be",
   "metadata": {},
   "outputs": [],
   "source": [
    "log_model = linear_model.LogisticRegression()\n",
    "log_model.fit(x_train, y_train) \n",
    "coef = log_model.coef_"
   ]
  },
  {
   "cell_type": "markdown",
   "id": "d2f8fd19-913c-416a-81a6-08f4510d8177",
   "metadata": {},
   "source": [
    "Predict data and analyze results for precision, recall, and f1-score. -- The results appear \"successful\""
   ]
  },
  {
   "cell_type": "code",
   "execution_count": 66,
   "id": "a9d93bb4-90b6-40d3-bbd6-4e28dc385b7a",
   "metadata": {
    "tags": []
   },
   "outputs": [
    {
     "data": {
      "image/png": "[encoded data removed]",
      "text/plain": [
       "<Figure size 432x288 with 2 Axes>"
      ]
     },
     "metadata": {
      "needs_background": "light"
     },
     "output_type": "display_data"
    },
    {
     "name": "stdout",
     "output_type": "stream",
     "text": [
      "              precision    recall  f1-score   support\n",
      "\n",
      "           0       0.96      0.95      0.95       317\n",
      "           1       0.69      0.76      0.72        49\n",
      "\n",
      "    accuracy                           0.92       366\n",
      "   macro avg       0.82      0.85      0.84       366\n",
      "weighted avg       0.92      0.92      0.92       366\n",
      "\n"
     ]
    }
   ],
   "source": [
    "y_hat = log_model.predict(x_test)\n",
    "\n",
    "confusion_matrix = pd.crosstab(y_test, y_hat,rownames=['Actual'], colnames=['Predicted'])\n",
    "sns.heatmap(confusion_matrix, annot=True)\n",
    "plt.show()\n",
    "\n",
    "Stats = classification_report(y_test, y_hat)\n",
    "print(Stats)"
   ]
  },
  {
   "cell_type": "markdown",
   "id": "d1a0fb48-b753-42f8-82fe-da759ec65107",
   "metadata": {},
   "source": [
    "Perform Logistic Lasso regression with 10 fold cross-validation (using L1 regularization)"
   ]
  },
  {
   "cell_type": "code",
   "execution_count": 67,
   "id": "87ddbc95-6afb-4e69-ac80-d7adf28cb72e",
   "metadata": {},
   "outputs": [
    {
     "name": "stdout",
     "output_type": "stream",
     "text": [
      "\n",
      "Lasso Log Scores\n",
      "Train  0.9212690951821386\n",
      "Test 0.9234972677595629\n"
     ]
    }
   ],
   "source": [
    "lasso_log_l1 = LogisticRegressionCV(penalty = 'l1', solver='liblinear', cv = 10)\n",
    "lasso_log_fit_l1 = lasso_log_l1.fit(x_train, y_train)\n",
    "print('\\nLasso Log Scores')\n",
    "print('Train ', lasso_log_fit_l1.score(x_train, y_train))\n",
    "print('Test', lasso_log_fit_l1.score(x_test,y_test))"
   ]
  },
  {
   "cell_type": "markdown",
   "id": "7a364407-9b6c-4e92-8165-420b3edc18cd",
   "metadata": {},
   "source": [
    "Predict data and analyze results for precision, recall, and f1-score following Logistic Lasso Regression analysis. -- The results appear \"successful\""
   ]
  },
  {
   "cell_type": "code",
   "execution_count": 68,
   "id": "8f8c9661-ea4b-43ce-a749-7e805984e2c1",
   "metadata": {},
   "outputs": [
    {
     "data": {
      "image/png": "[encoded data removed]",
      "text/plain": [
       "<Figure size 432x288 with 2 Axes>"
      ]
     },
     "metadata": {
      "needs_background": "light"
     },
     "output_type": "display_data"
    },
    {
     "name": "stdout",
     "output_type": "stream",
     "text": [
      "              precision    recall  f1-score   support\n",
      "\n",
      "           0       0.96      0.95      0.96       317\n",
      "           1       0.70      0.76      0.73        49\n",
      "\n",
      "    accuracy                           0.92       366\n",
      "   macro avg       0.83      0.85      0.84       366\n",
      "weighted avg       0.93      0.92      0.92       366\n",
      "\n"
     ]
    }
   ],
   "source": [
    "y_hat_lasso = lasso_log_fit_l1.predict(x_test)\n",
    "\n",
    "confusion_matrix = pd.crosstab(y_test, y_hat_lasso,rownames=['Actual'], colnames=['Predicted'])\n",
    "sns.heatmap(confusion_matrix, annot=True)\n",
    "plt.show()\n",
    "\n",
    "Stats = classification_report(y_test, y_hat_lasso)\n",
    "print(Stats)"
   ]
  },
  {
   "cell_type": "code",
   "execution_count": 69,
   "id": "aea8e05c-40e1-4c8a-a583-2d98542f034c",
   "metadata": {},
   "outputs": [
    {
     "name": "stdout",
     "output_type": "stream",
     "text": [
      "Lambda, amount of regularization\n",
      " [1.00000000e-04 7.74263683e-04 5.99484250e-03 4.64158883e-02\n",
      " 3.59381366e-01 2.78255940e+00 2.15443469e+01 1.66810054e+02\n",
      " 1.29154967e+03 1.00000000e+04]\n",
      "\n",
      "Coefficients over different regularization\n",
      " {1: array([[[ 0.00000000e+00,  0.00000000e+00,  0.00000000e+00, ...,\n",
      "          0.00000000e+00,  0.00000000e+00,  0.00000000e+00],\n",
      "        [ 0.00000000e+00,  0.00000000e+00,  0.00000000e+00, ...,\n",
      "          0.00000000e+00,  0.00000000e+00,  0.00000000e+00],\n",
      "        [ 0.00000000e+00,  0.00000000e+00,  0.00000000e+00, ...,\n",
      "          0.00000000e+00,  0.00000000e+00, -4.29144011e-01],\n",
      "        ...,\n",
      "        [ 1.21396575e+00,  1.79548342e-01, -4.49900380e-03, ...,\n",
      "          2.89749472e-01,  2.18072302e-01, -1.18176040e+01],\n",
      "        [ 1.89045943e+00,  1.79278622e-01, -4.73025813e-03, ...,\n",
      "          2.90631103e-01,  2.24889600e-01, -1.20802152e+01],\n",
      "        [ 2.26730578e+00,  1.79000558e-01, -4.79448421e-03, ...,\n",
      "          2.90436405e-01,  2.24047199e-01, -1.22372243e+01]],\n",
      "\n",
      "       [[ 0.00000000e+00,  0.00000000e+00,  0.00000000e+00, ...,\n",
      "          0.00000000e+00,  0.00000000e+00,  0.00000000e+00],\n",
      "        [ 0.00000000e+00,  0.00000000e+00,  0.00000000e+00, ...,\n",
      "          0.00000000e+00,  0.00000000e+00,  0.00000000e+00],\n",
      "        [ 0.00000000e+00,  0.00000000e+00,  0.00000000e+00, ...,\n",
      "          0.00000000e+00,  0.00000000e+00, -4.27143180e-01],\n",
      "        ...,\n",
      "        [ 2.14375554e+00,  2.16962335e-01, -1.13664932e-02, ...,\n",
      "          3.45040059e-01,  1.17024461e-01, -1.03200636e+01],\n",
      "        [ 2.95478380e+00,  2.16607189e-01, -1.18484997e-02, ...,\n",
      "          3.45728514e-01,  1.25803971e-01, -1.04971171e+01],\n",
      "        [ 3.23483572e+00,  2.16464049e-01, -1.20055227e-02, ...,\n",
      "          3.45774054e-01,  1.27121383e-01, -1.05388438e+01]],\n",
      "\n",
      "       [[ 0.00000000e+00,  0.00000000e+00,  0.00000000e+00, ...,\n",
      "          0.00000000e+00,  0.00000000e+00,  0.00000000e+00],\n",
      "        [ 0.00000000e+00,  0.00000000e+00,  0.00000000e+00, ...,\n",
      "          0.00000000e+00,  0.00000000e+00,  0.00000000e+00],\n",
      "        [ 0.00000000e+00,  0.00000000e+00,  0.00000000e+00, ...,\n",
      "          0.00000000e+00,  0.00000000e+00, -4.27144866e-01],\n",
      "        ...,\n",
      "        [-1.54157490e+00,  2.29583543e-01, -9.42941561e-02, ...,\n",
      "          2.76019881e-01,  2.52858926e-01, -1.04431313e+01],\n",
      "        [-2.59052523e+00,  2.30289628e-01, -9.36458073e-02, ...,\n",
      "          2.77798423e-01,  2.59647557e-01, -1.06603164e+01],\n",
      "        [-5.23391039e+00,  2.30918046e-01, -9.30152332e-02, ...,\n",
      "          2.80374135e-01,  2.77852216e-01, -1.06785515e+01]],\n",
      "\n",
      "       ...,\n",
      "\n",
      "       [[ 0.00000000e+00,  0.00000000e+00,  0.00000000e+00, ...,\n",
      "          0.00000000e+00,  0.00000000e+00,  0.00000000e+00],\n",
      "        [ 0.00000000e+00,  0.00000000e+00,  0.00000000e+00, ...,\n",
      "          0.00000000e+00,  0.00000000e+00,  0.00000000e+00],\n",
      "        [ 0.00000000e+00,  0.00000000e+00,  0.00000000e+00, ...,\n",
      "          0.00000000e+00,  0.00000000e+00, -4.26655328e-01],\n",
      "        ...,\n",
      "        [ 1.07899735e+00,  1.77470820e-01,  4.45617689e-02, ...,\n",
      "          1.12869657e-01,  3.94659116e-01, -9.50622160e+00],\n",
      "        [ 2.25662931e+00,  1.76964964e-01,  4.36733199e-02, ...,\n",
      "          1.13123164e-01,  3.98714421e-01, -9.77890641e+00],\n",
      "        [ 2.42423859e+00,  1.76959587e-01,  4.35493031e-02, ...,\n",
      "          1.13121177e-01,  4.00382635e-01, -9.80141477e+00]],\n",
      "\n",
      "       [[ 0.00000000e+00,  0.00000000e+00,  0.00000000e+00, ...,\n",
      "          0.00000000e+00,  0.00000000e+00,  0.00000000e+00],\n",
      "        [ 0.00000000e+00,  0.00000000e+00,  0.00000000e+00, ...,\n",
      "          0.00000000e+00,  0.00000000e+00,  0.00000000e+00],\n",
      "        [ 0.00000000e+00,  0.00000000e+00,  0.00000000e+00, ...,\n",
      "          0.00000000e+00,  0.00000000e+00, -4.25936906e-01],\n",
      "        ...,\n",
      "        [ 2.09016125e-01,  1.63254938e-01, -4.02923773e-02, ...,\n",
      "          2.98323028e-01,  6.69641860e-01, -9.18693498e+00],\n",
      "        [ 7.95453898e-01,  1.63237309e-01, -4.04199078e-02, ...,\n",
      "          2.98939262e-01,  6.74844009e-01, -9.37917280e+00],\n",
      "        [ 8.49062935e-01,  1.63251122e-01, -4.03731555e-02, ...,\n",
      "          2.99017007e-01,  6.74310108e-01, -9.43045019e+00]],\n",
      "\n",
      "       [[ 0.00000000e+00,  0.00000000e+00,  0.00000000e+00, ...,\n",
      "          0.00000000e+00,  0.00000000e+00,  0.00000000e+00],\n",
      "        [ 0.00000000e+00,  0.00000000e+00,  0.00000000e+00, ...,\n",
      "          0.00000000e+00,  0.00000000e+00,  0.00000000e+00],\n",
      "        [ 0.00000000e+00,  0.00000000e+00,  0.00000000e+00, ...,\n",
      "          0.00000000e+00,  0.00000000e+00, -4.26286834e-01],\n",
      "        ...,\n",
      "        [ 3.78830566e+00,  2.52647509e-01, -2.02507223e-02, ...,\n",
      "          2.94668666e-01,  2.08670151e-01, -1.29552129e+01],\n",
      "        [ 5.62444292e+00,  2.51949348e-01, -2.12637340e-02, ...,\n",
      "          2.95055504e-01,  1.89930044e-01, -1.34503359e+01],\n",
      "        [ 5.51575529e+00,  2.51981322e-01, -2.11967294e-02, ...,\n",
      "          2.95223155e-01,  1.88515709e-01, -1.34477747e+01]]])}\n"
     ]
    }
   ],
   "source": [
    "m_log_alphas_lars = (lasso_log_fit_l1.Cs_)\n",
    "print(\"Lambda, amount of regularization\\n\",m_log_alphas_lars)\n",
    "print(\"\\nCoefficients over different regularization\\n\", lasso_log_fit_l1.coefs_paths_) "
   ]
  },
  {
   "cell_type": "markdown",
   "id": "2111b2d7-1eab-4bcc-85d6-03889f1e69ea",
   "metadata": {},
   "source": [
    "Because we cannot see each k-fold, and how the coefficients are changing - I will validate most optimal lambda and coefficients programattically and graphically."
   ]
  },
  {
   "cell_type": "code",
   "execution_count": 70,
   "id": "9fc4a77c-0d81-4b36-833e-5ddd0ec6214e",
   "metadata": {},
   "outputs": [
    {
     "name": "stdout",
     "output_type": "stream",
     "text": [
      "\n",
      "Programattically most optimal lambda\n",
      " [0.35938137]\n",
      "\n",
      "Programattically most optimal coefficients over different regularization\n",
      " [[ 0.          0.12281279 -0.01154387  3.13262565 -3.00373435  0.\n",
      "  -0.1589602   0.          0.          0.          0.          0.\n",
      "   0.        ]]\n"
     ]
    }
   ],
   "source": [
    "print(\"\\nProgramattically most optimal lambda\\n\",lasso_log_fit_l1.C_)\n",
    "print(\"\\nProgramattically most optimal coefficients over different regularization\\n\", lasso_log_fit_l1.coef_) "
   ]
  },
  {
   "cell_type": "markdown",
   "id": "7bcf1642-5ea5-46a2-acae-aec3a01124ba",
   "metadata": {},
   "source": [
    "**2. Plot a lasso plot with readable tick labels on the X and Y coordinates in your plot\n",
    "for easy visualization and verification. (This question is optional for Python\n",
    "Program)**"
   ]
  },
  {
   "cell_type": "code",
   "execution_count": 74,
   "id": "926b5493-3eaf-41dc-966f-efb5e19bb2af",
   "metadata": {},
   "outputs": [
    {
     "data": {
      "text/plain": [
       "array([1.00000000e-04, 1.20450354e-04, 1.45082878e-04, 1.74752840e-04,\n",
       "       2.10490414e-04, 2.53536449e-04, 3.05385551e-04, 3.67837977e-04,\n",
       "       4.43062146e-04, 5.33669923e-04, 6.42807312e-04, 7.74263683e-04,\n",
       "       9.32603347e-04, 1.12332403e-03, 1.35304777e-03, 1.62975083e-03,\n",
       "       1.96304065e-03, 2.36448941e-03, 2.84803587e-03, 3.43046929e-03,\n",
       "       4.13201240e-03, 4.97702356e-03, 5.99484250e-03, 7.22080902e-03,\n",
       "       8.69749003e-03, 1.04761575e-02, 1.26185688e-02, 1.51991108e-02,\n",
       "       1.83073828e-02, 2.20513074e-02, 2.65608778e-02, 3.19926714e-02,\n",
       "       3.85352859e-02, 4.64158883e-02, 5.59081018e-02, 6.73415066e-02,\n",
       "       8.11130831e-02, 9.77009957e-02, 1.17681195e-01, 1.41747416e-01,\n",
       "       1.70735265e-01, 2.05651231e-01, 2.47707636e-01, 2.98364724e-01,\n",
       "       3.59381366e-01, 4.32876128e-01, 5.21400829e-01, 6.28029144e-01,\n",
       "       7.56463328e-01, 9.11162756e-01, 1.09749877e+00, 1.32194115e+00,\n",
       "       1.59228279e+00, 1.91791026e+00, 2.31012970e+00, 2.78255940e+00,\n",
       "       3.35160265e+00, 4.03701726e+00, 4.86260158e+00, 5.85702082e+00,\n",
       "       7.05480231e+00, 8.49753436e+00, 1.02353102e+01, 1.23284674e+01,\n",
       "       1.48496826e+01, 1.78864953e+01, 2.15443469e+01, 2.59502421e+01,\n",
       "       3.12571585e+01, 3.76493581e+01, 4.53487851e+01, 5.46227722e+01,\n",
       "       6.57933225e+01, 7.92482898e+01, 9.54548457e+01, 1.14975700e+02,\n",
       "       1.38488637e+02, 1.66810054e+02, 2.00923300e+02, 2.42012826e+02,\n",
       "       2.91505306e+02, 3.51119173e+02, 4.22924287e+02, 5.09413801e+02,\n",
       "       6.13590727e+02, 7.39072203e+02, 8.90215085e+02, 1.07226722e+03,\n",
       "       1.29154967e+03, 1.55567614e+03, 1.87381742e+03, 2.25701972e+03,\n",
       "       2.71858824e+03, 3.27454916e+03, 3.94420606e+03, 4.75081016e+03,\n",
       "       5.72236766e+03, 6.89261210e+03, 8.30217568e+03, 1.00000000e+04])"
      ]
     },
     "execution_count": 74,
     "metadata": {},
     "output_type": "execute_result"
    }
   ],
   "source": [
    "np.logspace(-4,4,number_of_steps)"
   ]
  },
  {
   "cell_type": "code",
   "execution_count": 71,
   "id": "96175329-54b3-41ac-a5a0-6e640bdc26b4",
   "metadata": {
    "tags": []
   },
   "outputs": [],
   "source": [
    "#RUN LASSO\n",
    "\n",
    "#K Fold cross validation, using n splits\n",
    "n = 10\n",
    "\n",
    "kf = KFold(n_splits=n)\n",
    "\n",
    "X_header = num_columns\n",
    "#define a range for the lambdas/alphas, use a number of desired steps and a max and an offset\n",
    "offset = 0.00000000001\n",
    "number_of_steps = 100\n",
    "maxlambda = 2.5\n",
    "\n",
    "#define step in terms of the other variables\n",
    "step = maxlambda / number_of_steps\n",
    "\n",
    "#create the range of lambdas\n",
    "#unique_lambdas = np.arange(0 + offset, maxlambda + step, step)\n",
    "unique_lambdas = np.logspace(-4,4,number_of_steps)\n",
    "save_avg_coef = []\n",
    "save_avg_intercept = []\n",
    "tmp_error = []\n",
    "save_error = []\n",
    "        \n",
    "#for each lambda, for each K fold, build a linear model using Lasso\n",
    "for the_lambda in unique_lambdas:\n",
    "    \n",
    "    #initalize a blank sum coef\n",
    "    sum_coef = [0] * len(X_header)\n",
    "    sum_intercept = 0\n",
    "    \n",
    "    #for each K fold\n",
    "    for train_index, test_index in kf.split(X):\n",
    "        #create test/training for X and Y\n",
    "        X_train, X_test = x_train, x_test\n",
    "        Y_train, Y_test = y_train, y_test\n",
    "    \n",
    "        #build the model\n",
    "        clf = linear_model.LogisticRegression(C = the_lambda, max_iter=1000)\n",
    "        clf.fit(x_train, y_train)\n",
    "\n",
    "        #save the coefficients...\n",
    "        #save_coefs.append(clf.coef_)\n",
    "       \n",
    "        #compute the average coefficents using the sum...\n",
    "        for i in range(len(clf.coef_[0])):\n",
    "            sum_coef[i] += clf.coef_[0][i]  \n",
    "\n",
    "        #compute the avegerate internet using the sum...\n",
    "        sum_intercept += clf.intercept_\n",
    "        \n",
    "            \n",
    "        #create some predictions using TEST\n",
    "        y_test_pred = clf.predict(x_test)\n",
    "        mse = mean_squared_error(y_test, y_test_pred)\n",
    "        tmp_error.append(mse)\n",
    "        #save_error.append(mse)\n",
    "        \n",
    "    #initialize an avg coef\n",
    "    avg_coef = [0] * len(X_header)\n",
    "    \n",
    "    #compute the average coefficient by taking the sum of each coef div by number of splits\n",
    "    for i in range(len(sum_coef)):\n",
    "        avg_coef[i] = sum_coef[i] / n\n",
    "    \n",
    "    #save the averaged coefficient\n",
    "    save_avg_coef.append(avg_coef)\n",
    "    \n",
    "    #average intercept is sum of intercepts div by number of splits\n",
    "    avg_intercept = sum_intercept / n\n",
    "    \n",
    "    #save averaged intercept for later\n",
    "    save_avg_intercept.append(avg_intercept)\n",
    "    \n",
    "    #compute the average error for all the K folds\n",
    "    save_error.append(np.average(tmp_error))"
   ]
  },
  {
   "cell_type": "code",
   "execution_count": 72,
   "id": "e9b6cdfd-c6c9-4389-9c74-451974e5212b",
   "metadata": {},
   "outputs": [
    {
     "data": {
      "image/png": "[encoded data removed]",
      "text/plain": [
       "<Figure size 1008x576 with 1 Axes>"
      ]
     },
     "metadata": {
      "needs_background": "light"
     },
     "output_type": "display_data"
    },
    {
     "data": {
      "image/png": "[encoded data removed]",
      "text/plain": [
       "<Figure size 1008x576 with 1 Axes>"
      ]
     },
     "metadata": {
      "needs_background": "light"
     },
     "output_type": "display_data"
    }
   ],
   "source": [
    "#LASSO PLOT, FULL\n",
    "plt.figure(figsize=(14, 8))\n",
    "ax = plt.gca()\n",
    "ax.plot(unique_lambdas, save_avg_coef)\n",
    "#create log scale\n",
    "ax.set_xscale('log')\n",
    "#reverse the axis\n",
    "ax.set_xlim(ax.get_xlim()[::-1])  \n",
    "plt.xlabel('lambda')\n",
    "plt.ylabel('weights')\n",
    "plt.title('Lasso coefficients ALL')\n",
    "plt.axis('tight')\n",
    "#use my header for the legend\n",
    "plt.legend(X_header)\n",
    "plt.show()\n",
    "\n",
    "\n",
    "#PLOT MSE\n",
    "plt.figure(figsize=(14, 8))\n",
    "plt.xlabel('lambda')\n",
    "plt.ylabel('average MSE')\n",
    "plt.plot(unique_lambdas, save_error)\n",
    "plt.show()"
   ]
  },
  {
   "cell_type": "markdown",
   "id": "7efde1ff-ffcd-40bc-a699-d8500150e413",
   "metadata": {},
   "source": [
    "Graphically I can see that the balance between error and complexity is where lambda is between .3 and .4. In addition, I can see the weight of the coefficients where lambda is between .3 and .4 shows most impact and balance between the coefficients, where when lambda is greater than .4 there is an even weight of value on lambda across all coefficients."
   ]
  },
  {
   "cell_type": "code",
   "execution_count": 73,
   "id": "ff2f6ddd-42ea-4ce1-87b5-1d8e3de30238",
   "metadata": {},
   "outputs": [
    {
     "data": {
      "text/plain": [
       "'LAMBDA with value of .35:'"
      ]
     },
     "metadata": {},
     "output_type": "display_data"
    },
    {
     "data": {
      "text/plain": [
       "0.0016297508346206436"
      ]
     },
     "metadata": {},
     "output_type": "display_data"
    },
    {
     "data": {
      "text/plain": [
       "['V1',\n",
       " 'V2',\n",
       " 'V3',\n",
       " 'V4',\n",
       " 'V5',\n",
       " 'V6',\n",
       " 'V7',\n",
       " 'V8',\n",
       " 'V9',\n",
       " 'V10',\n",
       " 'V11',\n",
       " 'V12',\n",
       " 'V13']"
      ]
     },
     "metadata": {},
     "output_type": "display_data"
    },
    {
     "data": {
      "text/plain": [
       "'COEFS:'"
      ]
     },
     "metadata": {},
     "output_type": "display_data"
    },
    {
     "data": {
      "text/plain": [
       "[0.07971936995439952,\n",
       " 0.022614906640849915,\n",
       " -0.013346811093447587,\n",
       " 0.18485757806648556,\n",
       " -0.10373195419539963,\n",
       " 0.10003382052439311,\n",
       " -0.011240848669604299,\n",
       " 0.07076485464236323,\n",
       " 0.05930976656500385,\n",
       " 0.10484204130021499,\n",
       " -0.06012316252299764,\n",
       " -0.12459798911666373,\n",
       " 0.08715138084261397]"
      ]
     },
     "metadata": {},
     "output_type": "display_data"
    },
    {
     "data": {
      "text/plain": [
       "array([-1.66833019])"
      ]
     },
     "metadata": {},
     "output_type": "display_data"
    }
   ],
   "source": [
    "#find index of lambda around 0.35\n",
    "lambda_index = 15\n",
    "display(\"LAMBDA with value of .35:\", unique_lambdas[lambda_index])\n",
    "display(X_header)\n",
    "#how show same avg_coefs\n",
    "display(\"COEFS:\", save_avg_coef[lambda_index])\n",
    "display(save_avg_intercept[lambda_index])"
   ]
  },
  {
   "cell_type": "markdown",
   "id": "1b28fb08-52ef-4e53-a067-c50e84144c14",
   "metadata": {},
   "source": [
    "**3. Which top THREE (3) predictors are you going to select to explain why a\n",
    "bacteria is an “interesting” candidates for further study?**"
   ]
  },
  {
   "cell_type": "markdown",
   "id": "b12323e8-ac84-4014-bd85-805ce47ff6ec",
   "metadata": {},
   "source": [
    "The top three predictors I see as most important in predciting why a bacteria is an 'interesting' candidate are variables 4,5, and 6 (or the fourth through sixth columns in the provided csv dataset). "
   ]
  },
  {
   "cell_type": "markdown",
   "id": "29526123-0925-4d78-87af-ca285e72ce2c",
   "metadata": {},
   "source": [
    "**4. What is the lambda (l) value you choose in order to select the top 3 predictors\n",
    "you identified in the last question?**"
   ]
  },
  {
   "cell_type": "markdown",
   "id": "e499573d-7740-45cc-8ada-44e2c34cf171",
   "metadata": {},
   "source": [
    "The lambda I chose to select the top 3 predictors is lambda = .35, however I believe any lambda between .3 and .4 would provide an optimal solution. I chose .35, because that is where I see a balance in error vs complexity in my graphical representation of the lasso plot by MSE and Lasso Coefficients."
   ]
  },
  {
   "cell_type": "markdown",
   "id": "080a92b0-d9af-4c47-889a-d87dad43b524",
   "metadata": {},
   "source": [
    "**5. What are the theta values for the 3 selected predictors at the lambda (l) value you\n",
    "identified in the last question?**"
   ]
  },
  {
   "cell_type": "markdown",
   "id": "878050d5-d3c0-4ea8-871b-e62f9e2c6622",
   "metadata": {},
   "source": [
    "The theta values for the three selected predictors at my chosen lambda of .35 are:\n",
    "- Variable 4: 1.93512\n",
    "- Variable 5: -2.41511\n",
    "- Variable 6: 1.08163"
   ]
  },
  {
   "cell_type": "code",
   "execution_count": null,
   "id": "0e591e1c-d002-42dc-bcdb-4bcac0c8534b",
   "metadata": {},
   "outputs": [],
   "source": []
  }
 ],
 "metadata": {
  "kernelspec": {
   "display_name": "Python 3 (ipykernel)",
   "language": "python",
   "name": "python3"
  },
  "language_info": {
   "codemirror_mode": {
    "name": "ipython",
    "version": 3
   },
   "file_extension": ".py",
   "mimetype": "text/x-python",
   "name": "python",
   "nbconvert_exporter": "python",
   "pygments_lexer": "ipython3",
   "version": "3.8.12"
  }
 },
 "nbformat": 4,
 "nbformat_minor": 5
}
