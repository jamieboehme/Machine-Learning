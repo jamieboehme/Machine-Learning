{
 "cells": [
  {
   "cell_type": "markdown",
   "id": "f0246bde-8b17-4240-8e32-e36091a78b6b",
   "metadata": {},
   "source": [
    "### SEIS 763-01: Homework 4\n",
    "#### Completed by: Jamie Boehme"
   ]
  },
  {
   "cell_type": "markdown",
   "id": "c2008ee9-9670-4d81-a2ca-d209d2ae83c7",
   "metadata": {},
   "source": [
    "**1.  Load the patient data from “ML_HW_Data_Patients.csv” file.**"
   ]
  },
  {
   "cell_type": "markdown",
   "id": "4109acc2-abb8-4c4f-bf9d-c7f4881dcabe",
   "metadata": {},
   "source": [
    "Import libraries needed for analysis."
   ]
  },
  {
   "cell_type": "code",
   "execution_count": 1,
   "id": "8ab2f681-9757-419a-bae7-81236313ce63",
   "metadata": {},
   "outputs": [],
   "source": [
    "import pandas as pd\n",
    "import numpy as np\n",
    "import matplotlib as mp\n",
    "import matplotlib.pyplot as plt \n",
    "from matplotlib.pyplot import figure\n",
    "import seaborn as sns\n",
    "from sklearn import preprocessing\n",
    "from sklearn.preprocessing import StandardScaler\n",
    "from sklearn.preprocessing import OneHotEncoder as SklearnOneHotEncoder\n",
    "from sklearn.model_selection import train_test_split\n",
    "from sklearn import linear_model\n",
    "from sklearn.metrics import mean_squared_error\n",
    "from sklearn.metrics import r2_score\n",
    "import statsmodels.api as sm\n",
    "from sklearn.linear_model import LassoCV, LassoLarsCV, Lasso\n",
    "import plotly.graph_objects as go"
   ]
  },
  {
   "cell_type": "markdown",
   "id": "6b0cce13-ee36-4c7e-acf2-25027e3f20c7",
   "metadata": {},
   "source": [
    "Import file from Github."
   ]
  },
  {
   "cell_type": "code",
   "execution_count": 2,
   "id": "162d9ffb-21de-4138-8917-173e4a4c9394",
   "metadata": {},
   "outputs": [
    {
     "data": {
      "text/html": [
       "<div>\n",
       "<style scoped>\n",
       "    .dataframe tbody tr th:only-of-type {\n",
       "        vertical-align: middle;\n",
       "    }\n",
       "\n",
       "    .dataframe tbody tr th {\n",
       "        vertical-align: top;\n",
       "    }\n",
       "\n",
       "    .dataframe thead th {\n",
       "        text-align: right;\n",
       "    }\n",
       "</style>\n",
       "<table border=\"1\" class=\"dataframe\">\n",
       "  <thead>\n",
       "    <tr style=\"text-align: right;\">\n",
       "      <th></th>\n",
       "      <th>Age</th>\n",
       "      <th>Diastolic</th>\n",
       "      <th>Gender</th>\n",
       "      <th>Height</th>\n",
       "      <th>LastName</th>\n",
       "      <th>Location</th>\n",
       "      <th>SelfAssessedHealthStatus</th>\n",
       "      <th>Smoker</th>\n",
       "      <th>Systolic</th>\n",
       "      <th>Weight</th>\n",
       "    </tr>\n",
       "  </thead>\n",
       "  <tbody>\n",
       "    <tr>\n",
       "      <th>0</th>\n",
       "      <td>38</td>\n",
       "      <td>93</td>\n",
       "      <td>'Male'</td>\n",
       "      <td>71</td>\n",
       "      <td>'Smith'</td>\n",
       "      <td>'County General Hospital'</td>\n",
       "      <td>'Excellent'</td>\n",
       "      <td>1</td>\n",
       "      <td>124</td>\n",
       "      <td>176</td>\n",
       "    </tr>\n",
       "    <tr>\n",
       "      <th>1</th>\n",
       "      <td>43</td>\n",
       "      <td>77</td>\n",
       "      <td>'Male'</td>\n",
       "      <td>69</td>\n",
       "      <td>'Johnson'</td>\n",
       "      <td>'VA Hospital'</td>\n",
       "      <td>'Fair'</td>\n",
       "      <td>0</td>\n",
       "      <td>109</td>\n",
       "      <td>163</td>\n",
       "    </tr>\n",
       "    <tr>\n",
       "      <th>2</th>\n",
       "      <td>38</td>\n",
       "      <td>83</td>\n",
       "      <td>'Female'</td>\n",
       "      <td>64</td>\n",
       "      <td>'Williams'</td>\n",
       "      <td>'St. Mary's Medical Center'</td>\n",
       "      <td>'Good'</td>\n",
       "      <td>0</td>\n",
       "      <td>125</td>\n",
       "      <td>131</td>\n",
       "    </tr>\n",
       "    <tr>\n",
       "      <th>3</th>\n",
       "      <td>40</td>\n",
       "      <td>75</td>\n",
       "      <td>'Female'</td>\n",
       "      <td>67</td>\n",
       "      <td>'Jones'</td>\n",
       "      <td>'VA Hospital'</td>\n",
       "      <td>'Fair'</td>\n",
       "      <td>0</td>\n",
       "      <td>117</td>\n",
       "      <td>133</td>\n",
       "    </tr>\n",
       "    <tr>\n",
       "      <th>4</th>\n",
       "      <td>49</td>\n",
       "      <td>80</td>\n",
       "      <td>'Female'</td>\n",
       "      <td>64</td>\n",
       "      <td>'Brown'</td>\n",
       "      <td>'County General Hospital'</td>\n",
       "      <td>'Good'</td>\n",
       "      <td>0</td>\n",
       "      <td>122</td>\n",
       "      <td>119</td>\n",
       "    </tr>\n",
       "  </tbody>\n",
       "</table>\n",
       "</div>"
      ],
      "text/plain": [
       "   Age  Diastolic    Gender  Height    LastName                     Location  \\\n",
       "0   38         93    'Male'      71     'Smith'    'County General Hospital'   \n",
       "1   43         77    'Male'      69   'Johnson'                'VA Hospital'   \n",
       "2   38         83  'Female'      64  'Williams'  'St. Mary's Medical Center'   \n",
       "3   40         75  'Female'      67     'Jones'                'VA Hospital'   \n",
       "4   49         80  'Female'      64     'Brown'    'County General Hospital'   \n",
       "\n",
       "  SelfAssessedHealthStatus  Smoker  Systolic  Weight  \n",
       "0              'Excellent'       1       124     176  \n",
       "1                   'Fair'       0       109     163  \n",
       "2                   'Good'       0       125     131  \n",
       "3                   'Fair'       0       117     133  \n",
       "4                   'Good'       0       122     119  "
      ]
     },
     "execution_count": 2,
     "metadata": {},
     "output_type": "execute_result"
    }
   ],
   "source": [
    "file = 'https://raw.githubusercontent.com/jamieboehme/Machine-Learning/main/ML_HW_Data_Patients.csv'\n",
    "patient = pd.read_csv(file)\n",
    "patient.head()"
   ]
  },
  {
   "cell_type": "markdown",
   "id": "e3e4e14d-5327-4fa2-926e-aee976a7bd01",
   "metadata": {},
   "source": [
    "**2. Use variables Age, Gender, Height, Weight, Smoker, Location, Self Assessed HealthStatus to build a linear regression model to predict the systolic blood pressure.**"
   ]
  },
  {
   "cell_type": "markdown",
   "id": "50befb0a-43a6-48ab-b3a8-9f74c7f0a60d",
   "metadata": {},
   "source": [
    "Do some exploratory analysis of the dataset including: reviewing number of columns and rows, data types, and overall shape of each column. Determine if there appear to be any obvious outliers. Check if there are any null values that will need to be taken care of prior to building a linear regression model."
   ]
  },
  {
   "cell_type": "code",
   "execution_count": 3,
   "id": "9a07c1fa-e092-4ce1-88b0-d5af987d970d",
   "metadata": {},
   "outputs": [
    {
     "data": {
      "text/plain": [
       "(100, 10)"
      ]
     },
     "execution_count": 3,
     "metadata": {},
     "output_type": "execute_result"
    }
   ],
   "source": [
    "patient.shape"
   ]
  },
  {
   "cell_type": "code",
   "execution_count": 4,
   "id": "2495283d-20f6-4d08-a937-a318654df724",
   "metadata": {},
   "outputs": [
    {
     "data": {
      "text/plain": [
       "Age                          int64\n",
       "Diastolic                    int64\n",
       "Gender                      object\n",
       "Height                       int64\n",
       "LastName                    object\n",
       "Location                    object\n",
       "SelfAssessedHealthStatus    object\n",
       "Smoker                       int64\n",
       "Systolic                     int64\n",
       "Weight                       int64\n",
       "dtype: object"
      ]
     },
     "execution_count": 4,
     "metadata": {},
     "output_type": "execute_result"
    }
   ],
   "source": [
    "patient.dtypes"
   ]
  },
  {
   "cell_type": "code",
   "execution_count": 5,
   "id": "706558be-851d-4888-a51a-d4d4b14fbe84",
   "metadata": {},
   "outputs": [
    {
     "data": {
      "text/html": [
       "<div>\n",
       "<style scoped>\n",
       "    .dataframe tbody tr th:only-of-type {\n",
       "        vertical-align: middle;\n",
       "    }\n",
       "\n",
       "    .dataframe tbody tr th {\n",
       "        vertical-align: top;\n",
       "    }\n",
       "\n",
       "    .dataframe thead th {\n",
       "        text-align: right;\n",
       "    }\n",
       "</style>\n",
       "<table border=\"1\" class=\"dataframe\">\n",
       "  <thead>\n",
       "    <tr style=\"text-align: right;\">\n",
       "      <th></th>\n",
       "      <th>Age</th>\n",
       "      <th>Diastolic</th>\n",
       "      <th>Height</th>\n",
       "      <th>Smoker</th>\n",
       "      <th>Systolic</th>\n",
       "      <th>Weight</th>\n",
       "    </tr>\n",
       "  </thead>\n",
       "  <tbody>\n",
       "    <tr>\n",
       "      <th>count</th>\n",
       "      <td>100.000000</td>\n",
       "      <td>100.000000</td>\n",
       "      <td>100.000000</td>\n",
       "      <td>100.000000</td>\n",
       "      <td>100.00000</td>\n",
       "      <td>100.000000</td>\n",
       "    </tr>\n",
       "    <tr>\n",
       "      <th>mean</th>\n",
       "      <td>38.280000</td>\n",
       "      <td>82.960000</td>\n",
       "      <td>67.070000</td>\n",
       "      <td>0.340000</td>\n",
       "      <td>122.78000</td>\n",
       "      <td>154.000000</td>\n",
       "    </tr>\n",
       "    <tr>\n",
       "      <th>std</th>\n",
       "      <td>7.215416</td>\n",
       "      <td>6.932459</td>\n",
       "      <td>2.836469</td>\n",
       "      <td>0.476095</td>\n",
       "      <td>6.71284</td>\n",
       "      <td>26.571421</td>\n",
       "    </tr>\n",
       "    <tr>\n",
       "      <th>min</th>\n",
       "      <td>25.000000</td>\n",
       "      <td>68.000000</td>\n",
       "      <td>60.000000</td>\n",
       "      <td>0.000000</td>\n",
       "      <td>109.00000</td>\n",
       "      <td>111.000000</td>\n",
       "    </tr>\n",
       "    <tr>\n",
       "      <th>25%</th>\n",
       "      <td>32.000000</td>\n",
       "      <td>77.750000</td>\n",
       "      <td>65.000000</td>\n",
       "      <td>0.000000</td>\n",
       "      <td>117.75000</td>\n",
       "      <td>130.750000</td>\n",
       "    </tr>\n",
       "    <tr>\n",
       "      <th>50%</th>\n",
       "      <td>39.000000</td>\n",
       "      <td>81.500000</td>\n",
       "      <td>67.000000</td>\n",
       "      <td>0.000000</td>\n",
       "      <td>122.00000</td>\n",
       "      <td>142.500000</td>\n",
       "    </tr>\n",
       "    <tr>\n",
       "      <th>75%</th>\n",
       "      <td>44.000000</td>\n",
       "      <td>89.000000</td>\n",
       "      <td>69.250000</td>\n",
       "      <td>1.000000</td>\n",
       "      <td>127.25000</td>\n",
       "      <td>180.250000</td>\n",
       "    </tr>\n",
       "    <tr>\n",
       "      <th>max</th>\n",
       "      <td>50.000000</td>\n",
       "      <td>99.000000</td>\n",
       "      <td>72.000000</td>\n",
       "      <td>1.000000</td>\n",
       "      <td>138.00000</td>\n",
       "      <td>202.000000</td>\n",
       "    </tr>\n",
       "  </tbody>\n",
       "</table>\n",
       "</div>"
      ],
      "text/plain": [
       "              Age   Diastolic      Height      Smoker   Systolic      Weight\n",
       "count  100.000000  100.000000  100.000000  100.000000  100.00000  100.000000\n",
       "mean    38.280000   82.960000   67.070000    0.340000  122.78000  154.000000\n",
       "std      7.215416    6.932459    2.836469    0.476095    6.71284   26.571421\n",
       "min     25.000000   68.000000   60.000000    0.000000  109.00000  111.000000\n",
       "25%     32.000000   77.750000   65.000000    0.000000  117.75000  130.750000\n",
       "50%     39.000000   81.500000   67.000000    0.000000  122.00000  142.500000\n",
       "75%     44.000000   89.000000   69.250000    1.000000  127.25000  180.250000\n",
       "max     50.000000   99.000000   72.000000    1.000000  138.00000  202.000000"
      ]
     },
     "execution_count": 5,
     "metadata": {},
     "output_type": "execute_result"
    }
   ],
   "source": [
    "patient.describe()"
   ]
  },
  {
   "cell_type": "code",
   "execution_count": 6,
   "id": "c8fc2c9f-7eb6-4a93-82b9-7c923c0cf9e9",
   "metadata": {},
   "outputs": [
    {
     "data": {
      "text/html": [
       "<div>\n",
       "<style scoped>\n",
       "    .dataframe tbody tr th:only-of-type {\n",
       "        vertical-align: middle;\n",
       "    }\n",
       "\n",
       "    .dataframe tbody tr th {\n",
       "        vertical-align: top;\n",
       "    }\n",
       "\n",
       "    .dataframe thead th {\n",
       "        text-align: right;\n",
       "    }\n",
       "</style>\n",
       "<table border=\"1\" class=\"dataframe\">\n",
       "  <thead>\n",
       "    <tr style=\"text-align: right;\">\n",
       "      <th></th>\n",
       "      <th>Gender</th>\n",
       "      <th>LastName</th>\n",
       "      <th>Location</th>\n",
       "      <th>SelfAssessedHealthStatus</th>\n",
       "    </tr>\n",
       "  </thead>\n",
       "  <tbody>\n",
       "    <tr>\n",
       "      <th>count</th>\n",
       "      <td>100</td>\n",
       "      <td>100</td>\n",
       "      <td>100</td>\n",
       "      <td>100</td>\n",
       "    </tr>\n",
       "    <tr>\n",
       "      <th>unique</th>\n",
       "      <td>2</td>\n",
       "      <td>100</td>\n",
       "      <td>3</td>\n",
       "      <td>4</td>\n",
       "    </tr>\n",
       "    <tr>\n",
       "      <th>top</th>\n",
       "      <td>'Female'</td>\n",
       "      <td>'Smith'</td>\n",
       "      <td>'County General Hospital'</td>\n",
       "      <td>'Good'</td>\n",
       "    </tr>\n",
       "    <tr>\n",
       "      <th>freq</th>\n",
       "      <td>53</td>\n",
       "      <td>1</td>\n",
       "      <td>39</td>\n",
       "      <td>40</td>\n",
       "    </tr>\n",
       "  </tbody>\n",
       "</table>\n",
       "</div>"
      ],
      "text/plain": [
       "          Gender LastName                   Location SelfAssessedHealthStatus\n",
       "count        100      100                        100                      100\n",
       "unique         2      100                          3                        4\n",
       "top     'Female'  'Smith'  'County General Hospital'                   'Good'\n",
       "freq          53        1                         39                       40"
      ]
     },
     "execution_count": 6,
     "metadata": {},
     "output_type": "execute_result"
    }
   ],
   "source": [
    "patient.describe(include =object)"
   ]
  },
  {
   "cell_type": "code",
   "execution_count": 7,
   "id": "59dad18e-58e3-4630-ab3b-ddec712c6380",
   "metadata": {},
   "outputs": [
    {
     "data": {
      "text/plain": [
       "Age                         0\n",
       "Diastolic                   0\n",
       "Gender                      0\n",
       "Height                      0\n",
       "LastName                    0\n",
       "Location                    0\n",
       "SelfAssessedHealthStatus    0\n",
       "Smoker                      0\n",
       "Systolic                    0\n",
       "Weight                      0\n",
       "dtype: int64"
      ]
     },
     "execution_count": 7,
     "metadata": {},
     "output_type": "execute_result"
    }
   ],
   "source": [
    "patient.isnull().sum()"
   ]
  },
  {
   "cell_type": "code",
   "execution_count": 8,
   "id": "790820f2-d20d-4de3-8547-96b38b504984",
   "metadata": {},
   "outputs": [
    {
     "data": {
      "image/png": "[encoded data removed]",
      "text/plain": [
       "<Figure size 1008x432 with 4 Axes>"
      ]
     },
     "metadata": {
      "needs_background": "light"
     },
     "output_type": "display_data"
    }
   ],
   "source": [
    "colors = ['mediumturquoise', 'blueviolet', 'mediumvioletred', 'palegreen']\n",
    "small_size= 12\n",
    "mp.rc('font', size=small_size)\n",
    "mp.rc('axes', titlesize=small_size)\n",
    "\n",
    "def graph_cat(cat_variable):\n",
    "    values = patient[cat_variable].value_counts(normalize=True)\n",
    "    percent = values * 100\n",
    "    return percent.plot.bar(title = cat_variable, ylim=(0,100))\n",
    "\n",
    "def cross_graph(tabular_num):\n",
    "    var = pd.crosstab(patient[tabular_num], patient['Systolic'])\n",
    "    graph = var.div(var.sum(1).astype(float), axis = 0).plot(kind = 'bar', stacked = True, \n",
    "                                                             title = '{} vs Current Condition'.format(tabular_num))\n",
    "    return graph\n",
    "\n",
    "catagorical_var = ['Gender', 'Location', 'SelfAssessedHealthStatus', 'Smoker']\n",
    "\n",
    "fig1 = plt.figure(figsize=(14,6))\n",
    "plt.suptitle('Distribution of Categorical or Ordinal Variables')\n",
    "\n",
    "plotnum=1\n",
    "for cat_var in catagorical_var:\n",
    "    plt.subplot(1,4,plotnum)\n",
    "    graph_cat(cat_var)\n",
    "    plotnum +=1\n",
    "plt.show()"
   ]
  },
  {
   "cell_type": "code",
   "execution_count": 9,
   "id": "95a54928-2faa-4bbd-a43e-8ab858f15ae0",
   "metadata": {},
   "outputs": [
    {
     "data": {
      "image/png": "[encoded data removed]",
      "text/plain": [
       "<Figure size 1008x432 with 3 Axes>"
      ]
     },
     "metadata": {
      "needs_background": "light"
     },
     "output_type": "display_data"
    }
   ],
   "source": [
    "def graph_num(num_variable):\n",
    "    sns.histplot(patient[num_variable])\n",
    "    \n",
    "numeric_var = ['Age', 'Height', 'Weight'] \n",
    "\n",
    "plot_num = plt.figure(figsize=(14,6))\n",
    "plt.suptitle('Distribution of Numerical Variables')\n",
    "\n",
    "plotnum=1\n",
    "for num_var in numeric_var:\n",
    "    plt.subplot(1,3,plotnum)\n",
    "    graph_num(num_var)\n",
    "    plotnum +=1\n",
    "plt.show()"
   ]
  },
  {
   "cell_type": "markdown",
   "id": "58af9256-3d7f-4740-acbf-355dd5a72b72",
   "metadata": {},
   "source": [
    "Remove 'LastName' from dataset, as name has no bearing on Systolic, and in industry, represents PII data that should not be used for the basis of modeling. Remove 'Diastolic' from dataset as this was not part of the assignment."
   ]
  },
  {
   "cell_type": "code",
   "execution_count": 10,
   "id": "f8a4bdcf-255b-44f6-8373-e6494ade5e0a",
   "metadata": {},
   "outputs": [],
   "source": [
    "patient = patient.drop(['LastName','Diastolic'], axis=1)"
   ]
  },
  {
   "cell_type": "code",
   "execution_count": 11,
   "id": "aa2d3493-6f34-46f8-9c2b-48848db433f1",
   "metadata": {},
   "outputs": [
    {
     "data": {
      "text/plain": [
       "(100, 8)"
      ]
     },
     "execution_count": 11,
     "metadata": {},
     "output_type": "execute_result"
    }
   ],
   "source": [
    "patient.shape"
   ]
  },
  {
   "cell_type": "markdown",
   "id": "91345247-904c-4fdd-ab33-431bf8dcc964",
   "metadata": {},
   "source": [
    "Seperate numerical variables and standardize them for the purposes of modeling."
   ]
  },
  {
   "cell_type": "code",
   "execution_count": 12,
   "id": "25037f51-bb47-48b3-972c-b1b81cc33766",
   "metadata": {},
   "outputs": [
    {
     "name": "stdout",
     "output_type": "stream",
     "text": [
      "    Age  Height  Weight\n",
      "0    38      71     176\n",
      "1    43      69     163\n",
      "2    38      64     131\n",
      "3    40      67     133\n",
      "4    49      64     119\n",
      "..  ...     ...     ...\n",
      "95   25      69     171\n",
      "96   44      69     188\n",
      "97   49      70     186\n",
      "98   45      68     172\n",
      "99   48      66     177\n",
      "\n",
      "[100 rows x 3 columns]\n"
     ]
    }
   ],
   "source": [
    "num_columns = patient[numeric_var]\n",
    "num_df = num_columns.copy()\n",
    "print(num_df)"
   ]
  },
  {
   "cell_type": "code",
   "execution_count": 13,
   "id": "9dad8886-fc54-4627-9f92-7611c8d2fb13",
   "metadata": {},
   "outputs": [
    {
     "name": "stdout",
     "output_type": "stream",
     "text": [
      "         Age    Height    Weight\n",
      "0  -0.039001  1.392506  0.832128\n",
      "1   0.657450  0.683851  0.340416\n",
      "2  -0.039001 -1.087784 -0.869952\n",
      "3   0.239579 -0.024803 -0.794304\n",
      "4   1.493193 -1.087784 -1.323841\n",
      "..       ...       ...       ...\n",
      "95 -1.849776  0.683851  0.643008\n",
      "96  0.796741  0.683851  1.286017\n",
      "97  1.493193  1.038178  1.210368\n",
      "98  0.936031  0.329524  0.680832\n",
      "99  1.353902 -0.379130  0.869952\n",
      "\n",
      "[100 rows x 3 columns] \n",
      "\n",
      "Age      -1.576517e-16\n",
      "Height    2.456924e-15\n",
      "Weight   -1.221245e-17\n",
      "dtype: float64 Age       1.005038\n",
      "Height    1.005038\n",
      "Weight    1.005038\n",
      "dtype: float64\n"
     ]
    }
   ],
   "source": [
    "ZX= preprocessing.scale(num_columns)\n",
    "num_df_clean = pd.DataFrame(ZX, columns = numeric_var)\n",
    "print(num_df_clean, '\\n')\n",
    "print(num_df_clean.mean(axis=0), \n",
    "num_df_clean.std(axis=0))"
   ]
  },
  {
   "cell_type": "markdown",
   "id": "9e0841b2-5c7a-4bde-a149-150d13d5a6d1",
   "metadata": {},
   "source": [
    "Perform One-Hot Encoding on dataframe for categorical variables for the purposes of data modeling."
   ]
  },
  {
   "cell_type": "code",
   "execution_count": 14,
   "id": "44effdca-d5f6-427e-b413-f2da901b0d5f",
   "metadata": {},
   "outputs": [
    {
     "name": "stdout",
     "output_type": "stream",
     "text": [
      "      Gender                     Location SelfAssessedHealthStatus\n",
      "0     'Male'    'County General Hospital'              'Excellent'\n",
      "1     'Male'                'VA Hospital'                   'Fair'\n",
      "2   'Female'  'St. Mary's Medical Center'                   'Good'\n",
      "3   'Female'                'VA Hospital'                   'Fair'\n",
      "4   'Female'    'County General Hospital'                   'Good'\n",
      "..       ...                          ...                      ...\n",
      "95    'Male'    'County General Hospital'                   'Good'\n",
      "96    'Male'                'VA Hospital'                   'Good'\n",
      "97    'Male'    'County General Hospital'                   'Fair'\n",
      "98    'Male'    'County General Hospital'                   'Good'\n",
      "99    'Male'    'County General Hospital'                   'Fair'\n",
      "\n",
      "[100 rows x 3 columns]\n"
     ]
    }
   ],
   "source": [
    "catagorical_var = ['Gender', 'Location', 'SelfAssessedHealthStatus']\n",
    "cat_columns = patient[catagorical_var]\n",
    "cat_df = cat_columns.copy()\n",
    "print(cat_df)"
   ]
  },
  {
   "cell_type": "code",
   "execution_count": 15,
   "id": "a1f5f137-7056-42f2-a514-7c664d512aee",
   "metadata": {},
   "outputs": [],
   "source": [
    "class OneHotEncoder(SklearnOneHotEncoder):\n",
    "    def __init__(self, **kwargs):\n",
    "        super(OneHotEncoder, self).__init__(**kwargs)\n",
    "        self.fit_flag = False\n",
    "\n",
    "    def fit(self, X, **kwargs):\n",
    "        out = super().fit(X)\n",
    "        self.fit_flag = True\n",
    "        return out\n",
    "\n",
    "    def transform(self, X, **kwargs):\n",
    "        sparse_matrix = super(OneHotEncoder, self).transform(X)\n",
    "        new_columns = self.get_new_columns(X=X)\n",
    "        d_out = pd.DataFrame(sparse_matrix.toarray(), columns=new_columns, index=X.index)\n",
    "        return d_out\n",
    "\n",
    "    def fit_transform(self, X, **kwargs):\n",
    "        self.fit(X)\n",
    "        return self.transform(X)\n",
    "\n",
    "    def get_new_columns(self, X):\n",
    "        new_columns = []\n",
    "        for i, column in enumerate(X.columns):\n",
    "            j = 0\n",
    "            while j < len(self.categories_[i]):\n",
    "                new_columns.append(f'{column}_{self.categories_[i][j]}')\n",
    "                j += 1\n",
    "        return new_columns\n",
    "\n",
    "enc = OneHotEncoder()\n",
    "new_cat = enc.fit_transform(cat_df)"
   ]
  },
  {
   "cell_type": "code",
   "execution_count": 16,
   "id": "724d4c4a-409c-41ac-ba67-30cab022a450",
   "metadata": {},
   "outputs": [
    {
     "data": {
      "text/html": [
       "<div>\n",
       "<style scoped>\n",
       "    .dataframe tbody tr th:only-of-type {\n",
       "        vertical-align: middle;\n",
       "    }\n",
       "\n",
       "    .dataframe tbody tr th {\n",
       "        vertical-align: top;\n",
       "    }\n",
       "\n",
       "    .dataframe thead th {\n",
       "        text-align: right;\n",
       "    }\n",
       "</style>\n",
       "<table border=\"1\" class=\"dataframe\">\n",
       "  <thead>\n",
       "    <tr style=\"text-align: right;\">\n",
       "      <th></th>\n",
       "      <th>Gender_'Female'</th>\n",
       "      <th>Gender_'Male'</th>\n",
       "      <th>Location_'County General Hospital'</th>\n",
       "      <th>Location_'St. Mary's Medical Center'</th>\n",
       "      <th>Location_'VA Hospital'</th>\n",
       "      <th>SelfAssessedHealthStatus_'Excellent'</th>\n",
       "      <th>SelfAssessedHealthStatus_'Fair'</th>\n",
       "      <th>SelfAssessedHealthStatus_'Good'</th>\n",
       "      <th>SelfAssessedHealthStatus_'Poor'</th>\n",
       "    </tr>\n",
       "  </thead>\n",
       "  <tbody>\n",
       "    <tr>\n",
       "      <th>0</th>\n",
       "      <td>0.0</td>\n",
       "      <td>1.0</td>\n",
       "      <td>1.0</td>\n",
       "      <td>0.0</td>\n",
       "      <td>0.0</td>\n",
       "      <td>1.0</td>\n",
       "      <td>0.0</td>\n",
       "      <td>0.0</td>\n",
       "      <td>0.0</td>\n",
       "    </tr>\n",
       "    <tr>\n",
       "      <th>1</th>\n",
       "      <td>0.0</td>\n",
       "      <td>1.0</td>\n",
       "      <td>0.0</td>\n",
       "      <td>0.0</td>\n",
       "      <td>1.0</td>\n",
       "      <td>0.0</td>\n",
       "      <td>1.0</td>\n",
       "      <td>0.0</td>\n",
       "      <td>0.0</td>\n",
       "    </tr>\n",
       "    <tr>\n",
       "      <th>2</th>\n",
       "      <td>1.0</td>\n",
       "      <td>0.0</td>\n",
       "      <td>0.0</td>\n",
       "      <td>1.0</td>\n",
       "      <td>0.0</td>\n",
       "      <td>0.0</td>\n",
       "      <td>0.0</td>\n",
       "      <td>1.0</td>\n",
       "      <td>0.0</td>\n",
       "    </tr>\n",
       "    <tr>\n",
       "      <th>3</th>\n",
       "      <td>1.0</td>\n",
       "      <td>0.0</td>\n",
       "      <td>0.0</td>\n",
       "      <td>0.0</td>\n",
       "      <td>1.0</td>\n",
       "      <td>0.0</td>\n",
       "      <td>1.0</td>\n",
       "      <td>0.0</td>\n",
       "      <td>0.0</td>\n",
       "    </tr>\n",
       "    <tr>\n",
       "      <th>4</th>\n",
       "      <td>1.0</td>\n",
       "      <td>0.0</td>\n",
       "      <td>1.0</td>\n",
       "      <td>0.0</td>\n",
       "      <td>0.0</td>\n",
       "      <td>0.0</td>\n",
       "      <td>0.0</td>\n",
       "      <td>1.0</td>\n",
       "      <td>0.0</td>\n",
       "    </tr>\n",
       "    <tr>\n",
       "      <th>...</th>\n",
       "      <td>...</td>\n",
       "      <td>...</td>\n",
       "      <td>...</td>\n",
       "      <td>...</td>\n",
       "      <td>...</td>\n",
       "      <td>...</td>\n",
       "      <td>...</td>\n",
       "      <td>...</td>\n",
       "      <td>...</td>\n",
       "    </tr>\n",
       "    <tr>\n",
       "      <th>95</th>\n",
       "      <td>0.0</td>\n",
       "      <td>1.0</td>\n",
       "      <td>1.0</td>\n",
       "      <td>0.0</td>\n",
       "      <td>0.0</td>\n",
       "      <td>0.0</td>\n",
       "      <td>0.0</td>\n",
       "      <td>1.0</td>\n",
       "      <td>0.0</td>\n",
       "    </tr>\n",
       "    <tr>\n",
       "      <th>96</th>\n",
       "      <td>0.0</td>\n",
       "      <td>1.0</td>\n",
       "      <td>0.0</td>\n",
       "      <td>0.0</td>\n",
       "      <td>1.0</td>\n",
       "      <td>0.0</td>\n",
       "      <td>0.0</td>\n",
       "      <td>1.0</td>\n",
       "      <td>0.0</td>\n",
       "    </tr>\n",
       "    <tr>\n",
       "      <th>97</th>\n",
       "      <td>0.0</td>\n",
       "      <td>1.0</td>\n",
       "      <td>1.0</td>\n",
       "      <td>0.0</td>\n",
       "      <td>0.0</td>\n",
       "      <td>0.0</td>\n",
       "      <td>1.0</td>\n",
       "      <td>0.0</td>\n",
       "      <td>0.0</td>\n",
       "    </tr>\n",
       "    <tr>\n",
       "      <th>98</th>\n",
       "      <td>0.0</td>\n",
       "      <td>1.0</td>\n",
       "      <td>1.0</td>\n",
       "      <td>0.0</td>\n",
       "      <td>0.0</td>\n",
       "      <td>0.0</td>\n",
       "      <td>0.0</td>\n",
       "      <td>1.0</td>\n",
       "      <td>0.0</td>\n",
       "    </tr>\n",
       "    <tr>\n",
       "      <th>99</th>\n",
       "      <td>0.0</td>\n",
       "      <td>1.0</td>\n",
       "      <td>1.0</td>\n",
       "      <td>0.0</td>\n",
       "      <td>0.0</td>\n",
       "      <td>0.0</td>\n",
       "      <td>1.0</td>\n",
       "      <td>0.0</td>\n",
       "      <td>0.0</td>\n",
       "    </tr>\n",
       "  </tbody>\n",
       "</table>\n",
       "<p>100 rows × 9 columns</p>\n",
       "</div>"
      ],
      "text/plain": [
       "    Gender_'Female'  Gender_'Male'  Location_'County General Hospital'  \\\n",
       "0               0.0            1.0                                 1.0   \n",
       "1               0.0            1.0                                 0.0   \n",
       "2               1.0            0.0                                 0.0   \n",
       "3               1.0            0.0                                 0.0   \n",
       "4               1.0            0.0                                 1.0   \n",
       "..              ...            ...                                 ...   \n",
       "95              0.0            1.0                                 1.0   \n",
       "96              0.0            1.0                                 0.0   \n",
       "97              0.0            1.0                                 1.0   \n",
       "98              0.0            1.0                                 1.0   \n",
       "99              0.0            1.0                                 1.0   \n",
       "\n",
       "    Location_'St. Mary's Medical Center'  Location_'VA Hospital'  \\\n",
       "0                                    0.0                     0.0   \n",
       "1                                    0.0                     1.0   \n",
       "2                                    1.0                     0.0   \n",
       "3                                    0.0                     1.0   \n",
       "4                                    0.0                     0.0   \n",
       "..                                   ...                     ...   \n",
       "95                                   0.0                     0.0   \n",
       "96                                   0.0                     1.0   \n",
       "97                                   0.0                     0.0   \n",
       "98                                   0.0                     0.0   \n",
       "99                                   0.0                     0.0   \n",
       "\n",
       "    SelfAssessedHealthStatus_'Excellent'  SelfAssessedHealthStatus_'Fair'  \\\n",
       "0                                    1.0                              0.0   \n",
       "1                                    0.0                              1.0   \n",
       "2                                    0.0                              0.0   \n",
       "3                                    0.0                              1.0   \n",
       "4                                    0.0                              0.0   \n",
       "..                                   ...                              ...   \n",
       "95                                   0.0                              0.0   \n",
       "96                                   0.0                              0.0   \n",
       "97                                   0.0                              1.0   \n",
       "98                                   0.0                              0.0   \n",
       "99                                   0.0                              1.0   \n",
       "\n",
       "    SelfAssessedHealthStatus_'Good'  SelfAssessedHealthStatus_'Poor'  \n",
       "0                               0.0                              0.0  \n",
       "1                               0.0                              0.0  \n",
       "2                               1.0                              0.0  \n",
       "3                               0.0                              0.0  \n",
       "4                               1.0                              0.0  \n",
       "..                              ...                              ...  \n",
       "95                              1.0                              0.0  \n",
       "96                              1.0                              0.0  \n",
       "97                              0.0                              0.0  \n",
       "98                              1.0                              0.0  \n",
       "99                              0.0                              0.0  \n",
       "\n",
       "[100 rows x 9 columns]"
      ]
     },
     "execution_count": 16,
     "metadata": {},
     "output_type": "execute_result"
    }
   ],
   "source": [
    "new_cat"
   ]
  },
  {
   "cell_type": "code",
   "execution_count": 17,
   "id": "c93a594b-ada7-4dd1-af3d-17afd684d3a5",
   "metadata": {},
   "outputs": [
    {
     "data": {
      "text/plain": [
       "Gender_'Female'                         float64\n",
       "Gender_'Male'                           float64\n",
       "Location_'County General Hospital'      float64\n",
       "Location_'St. Mary's Medical Center'    float64\n",
       "Location_'VA Hospital'                  float64\n",
       "SelfAssessedHealthStatus_'Excellent'    float64\n",
       "SelfAssessedHealthStatus_'Fair'         float64\n",
       "SelfAssessedHealthStatus_'Good'         float64\n",
       "SelfAssessedHealthStatus_'Poor'         float64\n",
       "dtype: object"
      ]
     },
     "execution_count": 17,
     "metadata": {},
     "output_type": "execute_result"
    }
   ],
   "source": [
    "new_cat.dtypes"
   ]
  },
  {
   "cell_type": "markdown",
   "id": "703c2aca-a1c4-49dc-a18d-f171215496d6",
   "metadata": {},
   "source": [
    "Drop one-hot encoded columns that are already represented in the dataframe."
   ]
  },
  {
   "cell_type": "code",
   "execution_count": 18,
   "id": "c92ce704-4b7e-409f-9d31-3a9312972e03",
   "metadata": {},
   "outputs": [],
   "source": [
    "cat_df_clean = new_cat.iloc[:,[0,2,3,5,6,7]]"
   ]
  },
  {
   "cell_type": "code",
   "execution_count": 19,
   "id": "6b4377d4-fbf5-47f2-8f84-f311fa800c53",
   "metadata": {},
   "outputs": [
    {
     "data": {
      "text/html": [
       "<div>\n",
       "<style scoped>\n",
       "    .dataframe tbody tr th:only-of-type {\n",
       "        vertical-align: middle;\n",
       "    }\n",
       "\n",
       "    .dataframe tbody tr th {\n",
       "        vertical-align: top;\n",
       "    }\n",
       "\n",
       "    .dataframe thead th {\n",
       "        text-align: right;\n",
       "    }\n",
       "</style>\n",
       "<table border=\"1\" class=\"dataframe\">\n",
       "  <thead>\n",
       "    <tr style=\"text-align: right;\">\n",
       "      <th></th>\n",
       "      <th>Gender_'Female'</th>\n",
       "      <th>Location_'County General Hospital'</th>\n",
       "      <th>Location_'St. Mary's Medical Center'</th>\n",
       "      <th>SelfAssessedHealthStatus_'Excellent'</th>\n",
       "      <th>SelfAssessedHealthStatus_'Fair'</th>\n",
       "      <th>SelfAssessedHealthStatus_'Good'</th>\n",
       "    </tr>\n",
       "  </thead>\n",
       "  <tbody>\n",
       "    <tr>\n",
       "      <th>0</th>\n",
       "      <td>0.0</td>\n",
       "      <td>1.0</td>\n",
       "      <td>0.0</td>\n",
       "      <td>1.0</td>\n",
       "      <td>0.0</td>\n",
       "      <td>0.0</td>\n",
       "    </tr>\n",
       "    <tr>\n",
       "      <th>1</th>\n",
       "      <td>0.0</td>\n",
       "      <td>0.0</td>\n",
       "      <td>0.0</td>\n",
       "      <td>0.0</td>\n",
       "      <td>1.0</td>\n",
       "      <td>0.0</td>\n",
       "    </tr>\n",
       "    <tr>\n",
       "      <th>2</th>\n",
       "      <td>1.0</td>\n",
       "      <td>0.0</td>\n",
       "      <td>1.0</td>\n",
       "      <td>0.0</td>\n",
       "      <td>0.0</td>\n",
       "      <td>1.0</td>\n",
       "    </tr>\n",
       "    <tr>\n",
       "      <th>3</th>\n",
       "      <td>1.0</td>\n",
       "      <td>0.0</td>\n",
       "      <td>0.0</td>\n",
       "      <td>0.0</td>\n",
       "      <td>1.0</td>\n",
       "      <td>0.0</td>\n",
       "    </tr>\n",
       "    <tr>\n",
       "      <th>4</th>\n",
       "      <td>1.0</td>\n",
       "      <td>1.0</td>\n",
       "      <td>0.0</td>\n",
       "      <td>0.0</td>\n",
       "      <td>0.0</td>\n",
       "      <td>1.0</td>\n",
       "    </tr>\n",
       "    <tr>\n",
       "      <th>...</th>\n",
       "      <td>...</td>\n",
       "      <td>...</td>\n",
       "      <td>...</td>\n",
       "      <td>...</td>\n",
       "      <td>...</td>\n",
       "      <td>...</td>\n",
       "    </tr>\n",
       "    <tr>\n",
       "      <th>95</th>\n",
       "      <td>0.0</td>\n",
       "      <td>1.0</td>\n",
       "      <td>0.0</td>\n",
       "      <td>0.0</td>\n",
       "      <td>0.0</td>\n",
       "      <td>1.0</td>\n",
       "    </tr>\n",
       "    <tr>\n",
       "      <th>96</th>\n",
       "      <td>0.0</td>\n",
       "      <td>0.0</td>\n",
       "      <td>0.0</td>\n",
       "      <td>0.0</td>\n",
       "      <td>0.0</td>\n",
       "      <td>1.0</td>\n",
       "    </tr>\n",
       "    <tr>\n",
       "      <th>97</th>\n",
       "      <td>0.0</td>\n",
       "      <td>1.0</td>\n",
       "      <td>0.0</td>\n",
       "      <td>0.0</td>\n",
       "      <td>1.0</td>\n",
       "      <td>0.0</td>\n",
       "    </tr>\n",
       "    <tr>\n",
       "      <th>98</th>\n",
       "      <td>0.0</td>\n",
       "      <td>1.0</td>\n",
       "      <td>0.0</td>\n",
       "      <td>0.0</td>\n",
       "      <td>0.0</td>\n",
       "      <td>1.0</td>\n",
       "    </tr>\n",
       "    <tr>\n",
       "      <th>99</th>\n",
       "      <td>0.0</td>\n",
       "      <td>1.0</td>\n",
       "      <td>0.0</td>\n",
       "      <td>0.0</td>\n",
       "      <td>1.0</td>\n",
       "      <td>0.0</td>\n",
       "    </tr>\n",
       "  </tbody>\n",
       "</table>\n",
       "<p>100 rows × 6 columns</p>\n",
       "</div>"
      ],
      "text/plain": [
       "    Gender_'Female'  Location_'County General Hospital'  \\\n",
       "0               0.0                                 1.0   \n",
       "1               0.0                                 0.0   \n",
       "2               1.0                                 0.0   \n",
       "3               1.0                                 0.0   \n",
       "4               1.0                                 1.0   \n",
       "..              ...                                 ...   \n",
       "95              0.0                                 1.0   \n",
       "96              0.0                                 0.0   \n",
       "97              0.0                                 1.0   \n",
       "98              0.0                                 1.0   \n",
       "99              0.0                                 1.0   \n",
       "\n",
       "    Location_'St. Mary's Medical Center'  \\\n",
       "0                                    0.0   \n",
       "1                                    0.0   \n",
       "2                                    1.0   \n",
       "3                                    0.0   \n",
       "4                                    0.0   \n",
       "..                                   ...   \n",
       "95                                   0.0   \n",
       "96                                   0.0   \n",
       "97                                   0.0   \n",
       "98                                   0.0   \n",
       "99                                   0.0   \n",
       "\n",
       "    SelfAssessedHealthStatus_'Excellent'  SelfAssessedHealthStatus_'Fair'  \\\n",
       "0                                    1.0                              0.0   \n",
       "1                                    0.0                              1.0   \n",
       "2                                    0.0                              0.0   \n",
       "3                                    0.0                              1.0   \n",
       "4                                    0.0                              0.0   \n",
       "..                                   ...                              ...   \n",
       "95                                   0.0                              0.0   \n",
       "96                                   0.0                              0.0   \n",
       "97                                   0.0                              1.0   \n",
       "98                                   0.0                              0.0   \n",
       "99                                   0.0                              1.0   \n",
       "\n",
       "    SelfAssessedHealthStatus_'Good'  \n",
       "0                               0.0  \n",
       "1                               0.0  \n",
       "2                               1.0  \n",
       "3                               0.0  \n",
       "4                               1.0  \n",
       "..                              ...  \n",
       "95                              1.0  \n",
       "96                              1.0  \n",
       "97                              0.0  \n",
       "98                              1.0  \n",
       "99                              0.0  \n",
       "\n",
       "[100 rows x 6 columns]"
      ]
     },
     "execution_count": 19,
     "metadata": {},
     "output_type": "execute_result"
    }
   ],
   "source": [
    "cat_df_clean"
   ]
  },
  {
   "cell_type": "markdown",
   "id": "d28134a7-a01c-4b29-bf19-832b082cbb07",
   "metadata": {},
   "source": [
    "Seperate target variable, Systolic, from the current dataframe for modeling purposes."
   ]
  },
  {
   "cell_type": "code",
   "execution_count": 20,
   "id": "ec5d15e2-024c-4a82-b174-b27aaa079503",
   "metadata": {},
   "outputs": [
    {
     "data": {
      "text/html": [
       "<div>\n",
       "<style scoped>\n",
       "    .dataframe tbody tr th:only-of-type {\n",
       "        vertical-align: middle;\n",
       "    }\n",
       "\n",
       "    .dataframe tbody tr th {\n",
       "        vertical-align: top;\n",
       "    }\n",
       "\n",
       "    .dataframe thead th {\n",
       "        text-align: right;\n",
       "    }\n",
       "</style>\n",
       "<table border=\"1\" class=\"dataframe\">\n",
       "  <thead>\n",
       "    <tr style=\"text-align: right;\">\n",
       "      <th></th>\n",
       "      <th>Systolic</th>\n",
       "    </tr>\n",
       "  </thead>\n",
       "  <tbody>\n",
       "    <tr>\n",
       "      <th>0</th>\n",
       "      <td>124</td>\n",
       "    </tr>\n",
       "    <tr>\n",
       "      <th>1</th>\n",
       "      <td>109</td>\n",
       "    </tr>\n",
       "    <tr>\n",
       "      <th>2</th>\n",
       "      <td>125</td>\n",
       "    </tr>\n",
       "    <tr>\n",
       "      <th>3</th>\n",
       "      <td>117</td>\n",
       "    </tr>\n",
       "    <tr>\n",
       "      <th>4</th>\n",
       "      <td>122</td>\n",
       "    </tr>\n",
       "    <tr>\n",
       "      <th>...</th>\n",
       "      <td>...</td>\n",
       "    </tr>\n",
       "    <tr>\n",
       "      <th>95</th>\n",
       "      <td>128</td>\n",
       "    </tr>\n",
       "    <tr>\n",
       "      <th>96</th>\n",
       "      <td>124</td>\n",
       "    </tr>\n",
       "    <tr>\n",
       "      <th>97</th>\n",
       "      <td>119</td>\n",
       "    </tr>\n",
       "    <tr>\n",
       "      <th>98</th>\n",
       "      <td>136</td>\n",
       "    </tr>\n",
       "    <tr>\n",
       "      <th>99</th>\n",
       "      <td>114</td>\n",
       "    </tr>\n",
       "  </tbody>\n",
       "</table>\n",
       "<p>100 rows × 1 columns</p>\n",
       "</div>"
      ],
      "text/plain": [
       "    Systolic\n",
       "0        124\n",
       "1        109\n",
       "2        125\n",
       "3        117\n",
       "4        122\n",
       "..       ...\n",
       "95       128\n",
       "96       124\n",
       "97       119\n",
       "98       136\n",
       "99       114\n",
       "\n",
       "[100 rows x 1 columns]"
      ]
     },
     "execution_count": 20,
     "metadata": {},
     "output_type": "execute_result"
    }
   ],
   "source": [
    "Y = patient[['Systolic']]\n",
    "Y"
   ]
  },
  {
   "cell_type": "markdown",
   "id": "955e7ecb-f190-4383-ac02-1f96ae53c177",
   "metadata": {},
   "source": [
    "Combine all pre-processed columns to be used in linear regression model."
   ]
  },
  {
   "cell_type": "code",
   "execution_count": 21,
   "id": "1f18a172-e9f1-46b6-86ad-7b818c388c38",
   "metadata": {},
   "outputs": [],
   "source": [
    "smoking = patient.iloc[:,5]"
   ]
  },
  {
   "cell_type": "code",
   "execution_count": 22,
   "id": "b0e738e3-afbe-4bfb-91b6-dc83d2c2b837",
   "metadata": {},
   "outputs": [],
   "source": [
    "X = pd.concat([num_df_clean, cat_df_clean, smoking], axis=1)"
   ]
  },
  {
   "cell_type": "code",
   "execution_count": 23,
   "id": "cc29d6b5-2e7c-41f7-930c-8041b5abb8c5",
   "metadata": {},
   "outputs": [
    {
     "name": "stdout",
     "output_type": "stream",
     "text": [
      "         Age    Height    Weight  Gender_'Female'  \\\n",
      "0  -0.039001  1.392506  0.832128              0.0   \n",
      "1   0.657450  0.683851  0.340416              0.0   \n",
      "2  -0.039001 -1.087784 -0.869952              1.0   \n",
      "3   0.239579 -0.024803 -0.794304              1.0   \n",
      "4   1.493193 -1.087784 -1.323841              1.0   \n",
      "..       ...       ...       ...              ...   \n",
      "95 -1.849776  0.683851  0.643008              0.0   \n",
      "96  0.796741  0.683851  1.286017              0.0   \n",
      "97  1.493193  1.038178  1.210368              0.0   \n",
      "98  0.936031  0.329524  0.680832              0.0   \n",
      "99  1.353902 -0.379130  0.869952              0.0   \n",
      "\n",
      "    Location_'County General Hospital'  Location_'St. Mary's Medical Center'  \\\n",
      "0                                  1.0                                   0.0   \n",
      "1                                  0.0                                   0.0   \n",
      "2                                  0.0                                   1.0   \n",
      "3                                  0.0                                   0.0   \n",
      "4                                  1.0                                   0.0   \n",
      "..                                 ...                                   ...   \n",
      "95                                 1.0                                   0.0   \n",
      "96                                 0.0                                   0.0   \n",
      "97                                 1.0                                   0.0   \n",
      "98                                 1.0                                   0.0   \n",
      "99                                 1.0                                   0.0   \n",
      "\n",
      "    SelfAssessedHealthStatus_'Excellent'  SelfAssessedHealthStatus_'Fair'  \\\n",
      "0                                    1.0                              0.0   \n",
      "1                                    0.0                              1.0   \n",
      "2                                    0.0                              0.0   \n",
      "3                                    0.0                              1.0   \n",
      "4                                    0.0                              0.0   \n",
      "..                                   ...                              ...   \n",
      "95                                   0.0                              0.0   \n",
      "96                                   0.0                              0.0   \n",
      "97                                   0.0                              1.0   \n",
      "98                                   0.0                              0.0   \n",
      "99                                   0.0                              1.0   \n",
      "\n",
      "    SelfAssessedHealthStatus_'Good'  Smoker  \n",
      "0                               0.0       1  \n",
      "1                               0.0       0  \n",
      "2                               1.0       0  \n",
      "3                               0.0       0  \n",
      "4                               1.0       0  \n",
      "..                              ...     ...  \n",
      "95                              1.0       1  \n",
      "96                              1.0       1  \n",
      "97                              0.0       0  \n",
      "98                              1.0       1  \n",
      "99                              0.0       0  \n",
      "\n",
      "[100 rows x 10 columns]\n"
     ]
    }
   ],
   "source": [
    "print(X)"
   ]
  },
  {
   "cell_type": "markdown",
   "id": "05afdea0-80b8-487f-bba8-0b27da01f683",
   "metadata": {},
   "source": [
    "**2. Use variables Age, Gender, Height, Weight, Smoker, Location, SelfAssessedHealthStatus to perform linear regression model via Lasso and Lasso Lars on train and testing datasets. Lasso automatically performs alpha testing from 0 to 1, however Lasso Lars, steps through different lambdas allowing us to understand how coefficients are changing.**"
   ]
  },
  {
   "cell_type": "code",
   "execution_count": 24,
   "id": "9b52b0c8-c295-43c5-80f8-04c9575ef905",
   "metadata": {},
   "outputs": [],
   "source": [
    "x_train, x_test, y_train, y_test = train_test_split(X, Y, test_size = .2, random_state = 1234)"
   ]
  },
  {
   "cell_type": "markdown",
   "id": "07345f34-daef-4810-989e-0b6023c5c59e",
   "metadata": {},
   "source": [
    "**3. Use lasso regression with 10-fold cross-validation to identify useful predictors.**"
   ]
  },
  {
   "cell_type": "code",
   "execution_count": 25,
   "id": "ba62ec25-db3e-4e14-a49c-c30c8f7a90dd",
   "metadata": {},
   "outputs": [],
   "source": [
    "lasso_cv = LassoCV(cv=10)\n",
    "lasso_cv_fit = lasso_cv.fit(x_train,y_train.values.ravel())"
   ]
  },
  {
   "cell_type": "code",
   "execution_count": 26,
   "id": "35efa1e0-5f56-46f8-b440-205c353c8e0a",
   "metadata": {},
   "outputs": [
    {
     "name": "stdout",
     "output_type": "stream",
     "text": [
      "Lasso Scores:\n",
      "Train  0.5281660549396197\n",
      "Test 0.35367798009594387\n"
     ]
    }
   ],
   "source": [
    "print('Lasso Scores:')\n",
    "print('Train ', lasso_cv.score(x_train, y_train.values.ravel()))\n",
    "print('Test', lasso_cv.score(x_test, y_test))"
   ]
  },
  {
   "cell_type": "code",
   "execution_count": 27,
   "id": "91248ccf-cb1c-41df-af5a-c43a5dab58a7",
   "metadata": {},
   "outputs": [],
   "source": [
    "lasso_lars = LassoLarsCV(cv=10,normalize=False)\n",
    "lasso_lars_fit = lasso_lars.fit(x_train, y_train.values.ravel())"
   ]
  },
  {
   "cell_type": "code",
   "execution_count": 28,
   "id": "d97ea409-597c-40b2-9fe3-3de705c3322f",
   "metadata": {},
   "outputs": [
    {
     "name": "stdout",
     "output_type": "stream",
     "text": [
      "\n",
      "Lasso Lars Scores\n",
      "Train  0.5260758424687588\n",
      "Test 0.35317131041652794\n"
     ]
    }
   ],
   "source": [
    "print('\\nLasso Lars Scores')\n",
    "print('Train ', lasso_lars.score(x_train, y_train.values.ravel()))\n",
    "print('Test', lasso_lars.score(x_test,y_test))"
   ]
  },
  {
   "cell_type": "code",
   "execution_count": 29,
   "id": "1a940732-7b16-480a-b36f-c8466a3c9695",
   "metadata": {},
   "outputs": [
    {
     "name": "stdout",
     "output_type": "stream",
     "text": [
      "Thetas and best selected alphas are very similar between Lasso and Lasso Lars\n",
      "LassoCV alpha:     0.42793305394574066\n",
      "LassoLarsCV alpha: 0.4462278423535185\n"
     ]
    }
   ],
   "source": [
    "print(\"Thetas and best selected alphas are very similar between Lasso and Lasso Lars\")\n",
    "print(f\"LassoCV alpha:     {lasso_cv_fit.alpha_}\")\n",
    "print(f\"LassoLarsCV alpha: {lasso_lars_fit.alpha_}\")"
   ]
  },
  {
   "cell_type": "code",
   "execution_count": 30,
   "id": "7fdefbef-ab19-417a-9b2a-f6693f5df62a",
   "metadata": {},
   "outputs": [
    {
     "name": "stdout",
     "output_type": "stream",
     "text": [
      "Alpha or lambda, amount of regularization\n",
      " [-0.35864856  0.0027412   0.2691967   0.35044334]\n",
      "\n",
      "Coefficients over different regularization\n",
      " [[0.         0.         0.         0.         0.         0.\n",
      "  0.         0.         0.         0.        ]\n",
      " [0.         0.         0.         0.         0.         0.\n",
      "  0.         0.         0.         5.88053317]\n",
      " [0.         0.27003346 0.         0.         0.         0.\n",
      "  0.         0.         0.         7.85004178]\n",
      " [0.08569127 0.31710174 0.         0.         0.         0.\n",
      "  0.         0.         0.         8.24697245]]\n"
     ]
    }
   ],
   "source": [
    "m_log_alphas_lars = -np.log10(lasso_lars.alphas_)\n",
    "print(\"Alpha or lambda, amount of regularization\\n\",m_log_alphas_lars)\n",
    "print(\"\\nCoefficients over different regularization\\n\",lasso_lars.coef_path_.T) "
   ]
  },
  {
   "cell_type": "code",
   "execution_count": 31,
   "id": "467d78bd-ce26-43a3-b3f8-0224d381e65b",
   "metadata": {},
   "outputs": [
    {
     "name": "stdout",
     "output_type": "stream",
     "text": [
      "Coefficients after lasso model:\n",
      " [0.08569127 0.31710174 0.         0.         0.         0.\n",
      " 0.         0.         0.         8.24697245]\n",
      "\n",
      "Coefficient order\n",
      " Index(['Age', 'Height', 'Weight', 'Gender_'Female'',\n",
      "       'Location_'County General Hospital'',\n",
      "       'Location_'St. Mary's Medical Center'',\n",
      "       'SelfAssessedHealthStatus_'Excellent'',\n",
      "       'SelfAssessedHealthStatus_'Fair'', 'SelfAssessedHealthStatus_'Good'',\n",
      "       'Smoker'],\n",
      "      dtype='object')\n",
      "\n",
      "Intercept of model after lasso:\n",
      " 119.86600115116322\n",
      "\n",
      "Coefficients reduced by lasso:\n",
      " ['Weight' \"Gender_'Female'\" \"Location_'County General Hospital'\"\n",
      " \"Location_'St. Mary's Medical Center'\"\n",
      " \"SelfAssessedHealthStatus_'Excellent'\" \"SelfAssessedHealthStatus_'Fair'\"\n",
      " \"SelfAssessedHealthStatus_'Good'\"]\n",
      "\n",
      "Coefficients still relevant after lasso:\n",
      " ['Age' 'Height' 'Smoker']\n"
     ]
    }
   ],
   "source": [
    "coeffs = lasso_lars_fit.coef_  \n",
    "coeffs_intercept = lasso_lars_fit.intercept_   \n",
    "print(\"Coefficients after lasso model:\\n\",coeffs)\n",
    "print(\"\\nCoefficient order\\n\", X.columns)\n",
    "print(\"\\nIntercept of model after lasso:\\n\",coeffs_intercept)\n",
    "print(\"\\nCoefficients reduced by lasso:\\n\",np.array(X.columns)[coeffs==0])\n",
    "print(\"\\nCoefficients still relevant after lasso:\\n\",np.array(X.columns)[coeffs>0])"
   ]
  },
  {
   "cell_type": "markdown",
   "id": "df1b0e0d-713b-4c90-9df8-81773a4e6624",
   "metadata": {},
   "source": [
    "**4. Which top **TWO** predictors are you going to select after the lasso analysis?**"
   ]
  },
  {
   "cell_type": "markdown",
   "id": "820bab91-8d9d-456b-9fbb-c876a7cb7841",
   "metadata": {},
   "source": [
    "If I had to choose only two predictors following Lasso analysis, though Lasso showed that three predictors may be better, I would choose Smoker and Height."
   ]
  },
  {
   "cell_type": "markdown",
   "id": "1ae9a8ee-2bee-402f-a079-1a6961158758",
   "metadata": {},
   "source": [
    "**5. What is the lambda (l) value you choose in order to select the top two predictors\n",
    "you identified in the last question?**"
   ]
  },
  {
   "cell_type": "markdown",
   "id": "53d9b71b-175d-4502-918a-eb3173b231e8",
   "metadata": {},
   "source": [
    "The lambda I would choose to select only the top two predictors would be a lambda/alpha equal to 0.2691967, shown by the processing above to display amount of regularization vs the coefficients over different regularization. "
   ]
  },
  {
   "cell_type": "markdown",
   "id": "7f20aff1-3ae6-4d22-9270-d2b252f890d1",
   "metadata": {},
   "source": [
    "**6. What are the theta values for the two selected predictors at the lambda (l) value you\n",
    "identified in the last question?**"
   ]
  },
  {
   "cell_type": "markdown",
   "id": "14fe9feb-2823-408f-ac23-9411cbc82c33",
   "metadata": {},
   "source": [
    "The theta values for Smoker and Height are:\n",
    "- Smoker:  7.85004178]\n",
    "- Height: 0.27003346"
   ]
  },
  {
   "cell_type": "markdown",
   "id": "efdde307-7375-483e-9e20-382e5331b005",
   "metadata": {},
   "source": [
    "**7. Plot a lasso plot with (more difficult in Python; hence optional)**"
   ]
  },
  {
   "cell_type": "code",
   "execution_count": 32,
   "id": "9362d34d-8163-47c8-9f27-bd05ca77a495",
   "metadata": {},
   "outputs": [
    {
     "data": {
      "image/png": "[encoded data removed]",
      "text/plain": [
       "<Figure size 576x432 with 1 Axes>"
      ]
     },
     "metadata": {
      "needs_background": "light"
     },
     "output_type": "display_data"
    }
   ],
   "source": [
    "# plot coefficient progression lasso lars\n",
    "m_log_alphas_lars = -np.log10(lasso_lars.alphas_)\n",
    "figure(figsize=(8, 6))\n",
    "ax = plt.gca()\n",
    "plt.plot(m_log_alphas_lars, lasso_lars.coef_path_.T)\n",
    "plt.axvline(-np.log10(lasso_lars.alpha_), linestyle='--', color='k', label='alpha CV')\n",
    "plt.ylabel('Regression Coefficients')\n",
    "plt.legend(x_train.columns, bbox_to_anchor=(1.1, 1.05))\n",
    "plt.xlabel('-log(alpha)')\n",
    "plt.title('Regression Coefficients Progression for Lasso Using LARS Alg')\n",
    "plt.show()"
   ]
  },
  {
   "cell_type": "markdown",
   "id": "58ebd2c4-07c9-4ed5-9c23-30a84288a845",
   "metadata": {},
   "source": [
    "This visually shows the most important alphas found via Lasso: Smoker, Height, and Age."
   ]
  },
  {
   "cell_type": "code",
   "execution_count": 33,
   "id": "bda0ab1f-cafa-4e77-9e2b-a6b2b84bec88",
   "metadata": {},
   "outputs": [
    {
     "name": "stderr",
     "output_type": "stream",
     "text": [
      "/var/folders/v0/gj8zrcyx3_n12_t5m6y47bk80000gn/T/ipykernel_6835/1274285920.py:2: RuntimeWarning: divide by zero encountered in log10\n",
      "  m_log_alphascv_lars = -np.log10(lasso_lars.cv_alphas_)\n"
     ]
    },
    {
     "data": {
      "image/png": "[encoded data removed]",
      "text/plain": [
       "<Figure size 576x432 with 1 Axes>"
      ]
     },
     "metadata": {
      "needs_background": "light"
     },
     "output_type": "display_data"
    }
   ],
   "source": [
    "# plot MSE for each fold lasso lars\n",
    "m_log_alphascv_lars = -np.log10(lasso_lars.cv_alphas_)\n",
    "figure(figsize=(8, 6))\n",
    "plt.plot(m_log_alphascv_lars, lasso_lars.mse_path_, ':')\n",
    "plt.plot(m_log_alphascv_lars, lasso_lars.mse_path_.mean(axis=-1), 'k', label='Average across the folds', linewidth=2)\n",
    "plt.axvline(-np.log10(lasso_lars.alpha_), linestyle='--', color='k', label='alpha CV')\n",
    "plt.legend(x_train.columns, bbox_to_anchor=(1.1, 1.05))\n",
    "plt.xlabel('-log(alpha)')\n",
    "plt.ylabel('Mean squared error')\n",
    "plt.title('Mean squared error on each fold using LARS Alg')\n",
    "plt.show()"
   ]
  },
  {
   "cell_type": "code",
   "execution_count": 34,
   "id": "20773cc6-dd0e-47c7-9dc2-7a880633797f",
   "metadata": {},
   "outputs": [
    {
     "data": {
      "image/png": "[encoded data removed]",
      "text/plain": [
       "<Figure size 432x288 with 1 Axes>"
      ]
     },
     "metadata": {
      "needs_background": "light"
     },
     "output_type": "display_data"
    }
   ],
   "source": [
    "# plot average MSE with std error range lasso\n",
    "\n",
    "fig = plt.figure()\n",
    "ax = fig.add_subplot(1,1,1)\n",
    "ax.plot(m_log_alphascv_lars, lasso_lars.mse_path_.mean(axis=-1), 'k', label='Average across the folds', linewidth=2)\n",
    "error = lasso_lars.mse_path_.mean(axis=1) / np.sqrt(10)\n",
    "\n",
    "ax.fill_between(m_log_alphascv_lars, lasso_lars.mse_path_.mean(axis=1) + error, lasso_lars.mse_path_.mean(axis=1) - error, alpha=0.2)\n",
    "ax.set_ylabel('Average MSE accorss folds +/- Std Error')\n",
    "ax.set_xlabel('-log(alpha)')\n",
    "ax.set_title('Average MSE across folds with Std Error')\n",
    "ax.axhline(np.max(lasso_lars.mse_path_.mean(axis=1)), linestyle='--', color='.5')\n",
    "plt.show()"
   ]
  },
  {
   "cell_type": "markdown",
   "id": "7e11f020-1d8e-4da0-9f02-52ce75e9509f",
   "metadata": {},
   "source": [
    "The visual representation of MSE is 'typical' to what we would see in Lasso Regression models, which is a good sign that the model was done correctly."
   ]
  },
  {
   "cell_type": "code",
   "execution_count": null,
   "id": "7d5e5d90-706d-46ce-bfd7-41437497110b",
   "metadata": {},
   "outputs": [],
   "source": []
  }
 ],
 "metadata": {
  "kernelspec": {
   "display_name": "Python 3 (ipykernel)",
   "language": "python",
   "name": "python3"
  },
  "language_info": {
   "codemirror_mode": {
    "name": "ipython",
    "version": 3
   },
   "file_extension": ".py",
   "mimetype": "text/x-python",
   "name": "python",
   "nbconvert_exporter": "python",
   "pygments_lexer": "ipython3",
   "version": "3.8.12"
  }
 },
 "nbformat": 4,
 "nbformat_minor": 5
}
